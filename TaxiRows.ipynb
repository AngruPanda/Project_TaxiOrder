{
 "cells": [
  {
   "cell_type": "markdown",
   "metadata": {
    "toc": true
   },
   "source": [
    "<h1>Содержание<span class=\"tocSkip\"></span></h1>\n",
    "<div class=\"toc\"><ul class=\"toc-item\"><li><span><a href=\"#Подготовка\" data-toc-modified-id=\"Подготовка-1\"><span class=\"toc-item-num\">1&nbsp;&nbsp;</span>Подготовка</a></span><ul class=\"toc-item\"><li><span><a href=\"#Промежуточный-итог\" data-toc-modified-id=\"Промежуточный-итог-1.1\"><span class=\"toc-item-num\">1.1&nbsp;&nbsp;</span>Промежуточный итог</a></span></li></ul></li><li><span><a href=\"#Анализ\" data-toc-modified-id=\"Анализ-2\"><span class=\"toc-item-num\">2&nbsp;&nbsp;</span>Анализ</a></span><ul class=\"toc-item\"><li><span><a href=\"#Промежуточные-итоги\" data-toc-modified-id=\"Промежуточные-итоги-2.1\"><span class=\"toc-item-num\">2.1&nbsp;&nbsp;</span>Промежуточные итоги</a></span></li></ul></li><li><span><a href=\"#Обучение\" data-toc-modified-id=\"Обучение-3\"><span class=\"toc-item-num\">3&nbsp;&nbsp;</span>Обучение</a></span><ul class=\"toc-item\"><li><span><a href=\"#Промежуточный-итог\" data-toc-modified-id=\"Промежуточный-итог-3.1\"><span class=\"toc-item-num\">3.1&nbsp;&nbsp;</span>Промежуточный итог</a></span></li></ul></li><li><span><a href=\"#Тестирование\" data-toc-modified-id=\"Тестирование-4\"><span class=\"toc-item-num\">4&nbsp;&nbsp;</span>Тестирование</a></span><ul class=\"toc-item\"><li><span><a href=\"#Промежуточный-итог\" data-toc-modified-id=\"Промежуточный-итог-4.1\"><span class=\"toc-item-num\">4.1&nbsp;&nbsp;</span>Промежуточный итог</a></span></li></ul></li><li><span><a href=\"#Итог\" data-toc-modified-id=\"Итог-5\"><span class=\"toc-item-num\">5&nbsp;&nbsp;</span>Итог</a></span></li><li><span><a href=\"#Чек-лист-проверки\" data-toc-modified-id=\"Чек-лист-проверки-6\"><span class=\"toc-item-num\">6&nbsp;&nbsp;</span>Чек-лист проверки</a></span></li></ul></div>"
   ]
  },
  {
   "cell_type": "markdown",
   "metadata": {},
   "source": [
    "#  Прогнозирование заказов такси"
   ]
  },
  {
   "cell_type": "markdown",
   "metadata": {},
   "source": [
    "Компания «Чётенькое такси» собрала исторические данные о заказах такси в аэропортах. Чтобы привлекать больше водителей в период пиковой нагрузки, нужно спрогнозировать количество заказов такси на следующий час. Постройте модель для такого предсказания.\n",
    "\n",
    "Значение метрики *RMSE* на тестовой выборке должно быть не больше 48.\n",
    "\n",
    "Вам нужно:\n",
    "\n",
    "1. Загрузить данные и выполнить их ресемплирование по одному часу.\n",
    "2. Проанализировать данные.\n",
    "3. Обучить разные модели с различными гиперпараметрами. Сделать тестовую выборку размером 10% от исходных данных.\n",
    "4. Проверить данные на тестовой выборке и сделать выводы.\n",
    "\n",
    "\n",
    "Данные лежат в файле `taxi.csv`. Количество заказов находится в столбце `num_orders` (от англ. *number of orders*, «число заказов»)."
   ]
  },
  {
   "cell_type": "markdown",
   "metadata": {},
   "source": [
    "## Подготовка"
   ]
  },
  {
   "cell_type": "markdown",
   "metadata": {},
   "source": [
    "Загрузим необходимые для проведения исследования и проектирования модели."
   ]
  },
  {
   "cell_type": "code",
   "execution_count": 1,
   "metadata": {},
   "outputs": [],
   "source": [
    "!pip install scikit-learn==1.1.3 -q"
   ]
  },
  {
   "cell_type": "code",
   "execution_count": 2,
   "metadata": {},
   "outputs": [],
   "source": [
    "import pandas as pd\n",
    "import seaborn as sns\n",
    "import matplotlib.pyplot as plt\n",
    "\n",
    "from statsmodels.tsa.seasonal import seasonal_decompose\n",
    "from statsmodels.graphics import tsaplots\n",
    "\n",
    "from sklearn.model_selection import TimeSeriesSplit\n",
    "from sklearn.model_selection import train_test_split\n",
    "from sklearn.pipeline import Pipeline\n",
    "from sklearn.compose import ColumnTransformer\n",
    "from sklearn.preprocessing import (\n",
    "    OneHotEncoder,\n",
    "    StandardScaler, \n",
    "    MinMaxScaler,\n",
    "    RobustScaler,\n",
    "    MaxAbsScaler)\n",
    "\n",
    "from sklearn.metrics import mean_squared_error\n",
    "from catboost import CatBoostRegressor\n",
    "from sklearn.ensemble import RandomForestRegressor\n",
    "from sklearn.tree import DecisionTreeRegressor\n",
    "from sklearn.model_selection import RandomizedSearchCV\n",
    "from statsmodels.tsa.seasonal import seasonal_decompose\n",
    "\n",
    "RANDOM_STATE = 73"
   ]
  },
  {
   "cell_type": "code",
   "execution_count": 3,
   "metadata": {},
   "outputs": [],
   "source": [
    "data = pd.read_csv('/datasets/taxi.csv', index_col=[0], parse_dates=[0])\n",
    "data.sort_index(inplace=True)"
   ]
  },
  {
   "cell_type": "markdown",
   "metadata": {},
   "source": [
    "Так как данные представляют собой временной ряд, в качестве индексов возьмем время заказов. Просмотрим данные на соответсвие ТЗ."
   ]
  },
  {
   "cell_type": "code",
   "execution_count": 4,
   "metadata": {},
   "outputs": [
    {
     "data": {
      "text/html": [
       "<div>\n",
       "<style scoped>\n",
       "    .dataframe tbody tr th:only-of-type {\n",
       "        vertical-align: middle;\n",
       "    }\n",
       "\n",
       "    .dataframe tbody tr th {\n",
       "        vertical-align: top;\n",
       "    }\n",
       "\n",
       "    .dataframe thead th {\n",
       "        text-align: right;\n",
       "    }\n",
       "</style>\n",
       "<table border=\"1\" class=\"dataframe\">\n",
       "  <thead>\n",
       "    <tr style=\"text-align: right;\">\n",
       "      <th></th>\n",
       "      <th>num_orders</th>\n",
       "    </tr>\n",
       "    <tr>\n",
       "      <th>datetime</th>\n",
       "      <th></th>\n",
       "    </tr>\n",
       "  </thead>\n",
       "  <tbody>\n",
       "    <tr>\n",
       "      <th>2018-03-01 00:00:00</th>\n",
       "      <td>9</td>\n",
       "    </tr>\n",
       "    <tr>\n",
       "      <th>2018-03-01 00:10:00</th>\n",
       "      <td>14</td>\n",
       "    </tr>\n",
       "    <tr>\n",
       "      <th>2018-03-01 00:20:00</th>\n",
       "      <td>28</td>\n",
       "    </tr>\n",
       "    <tr>\n",
       "      <th>2018-03-01 00:30:00</th>\n",
       "      <td>20</td>\n",
       "    </tr>\n",
       "    <tr>\n",
       "      <th>2018-03-01 00:40:00</th>\n",
       "      <td>32</td>\n",
       "    </tr>\n",
       "  </tbody>\n",
       "</table>\n",
       "</div>"
      ],
      "text/plain": [
       "                     num_orders\n",
       "datetime                       \n",
       "2018-03-01 00:00:00           9\n",
       "2018-03-01 00:10:00          14\n",
       "2018-03-01 00:20:00          28\n",
       "2018-03-01 00:30:00          20\n",
       "2018-03-01 00:40:00          32"
      ]
     },
     "execution_count": 4,
     "metadata": {},
     "output_type": "execute_result"
    }
   ],
   "source": [
    "data.head()"
   ]
  },
  {
   "cell_type": "code",
   "execution_count": 5,
   "metadata": {},
   "outputs": [
    {
     "name": "stdout",
     "output_type": "stream",
     "text": [
      "<class 'pandas.core.frame.DataFrame'>\n",
      "DatetimeIndex: 26496 entries, 2018-03-01 00:00:00 to 2018-08-31 23:50:00\n",
      "Data columns (total 1 columns):\n",
      " #   Column      Non-Null Count  Dtype\n",
      "---  ------      --------------  -----\n",
      " 0   num_orders  26496 non-null  int64\n",
      "dtypes: int64(1)\n",
      "memory usage: 414.0 KB\n"
     ]
    }
   ],
   "source": [
    "data.info()"
   ]
  },
  {
   "cell_type": "code",
   "execution_count": 6,
   "metadata": {},
   "outputs": [
    {
     "data": {
      "text/plain": [
       "True"
      ]
     },
     "execution_count": 6,
     "metadata": {},
     "output_type": "execute_result"
    }
   ],
   "source": [
    " data.index.is_monotonic "
   ]
  },
  {
   "cell_type": "markdown",
   "metadata": {},
   "source": [
    "Данные соответствуют ТЗ, интревал времени между записями 10 минут, пропусков в данных нет, данные расположены в порядке увеличения времени. Проведем ресэмплирование и приведем разницу во времени к часу."
   ]
  },
  {
   "cell_type": "code",
   "execution_count": 7,
   "metadata": {},
   "outputs": [
    {
     "data": {
      "text/html": [
       "<div>\n",
       "<style scoped>\n",
       "    .dataframe tbody tr th:only-of-type {\n",
       "        vertical-align: middle;\n",
       "    }\n",
       "\n",
       "    .dataframe tbody tr th {\n",
       "        vertical-align: top;\n",
       "    }\n",
       "\n",
       "    .dataframe thead th {\n",
       "        text-align: right;\n",
       "    }\n",
       "</style>\n",
       "<table border=\"1\" class=\"dataframe\">\n",
       "  <thead>\n",
       "    <tr style=\"text-align: right;\">\n",
       "      <th></th>\n",
       "      <th>num_orders</th>\n",
       "    </tr>\n",
       "    <tr>\n",
       "      <th>datetime</th>\n",
       "      <th></th>\n",
       "    </tr>\n",
       "  </thead>\n",
       "  <tbody>\n",
       "    <tr>\n",
       "      <th>2018-03-01 00:00:00</th>\n",
       "      <td>124</td>\n",
       "    </tr>\n",
       "    <tr>\n",
       "      <th>2018-03-01 01:00:00</th>\n",
       "      <td>85</td>\n",
       "    </tr>\n",
       "    <tr>\n",
       "      <th>2018-03-01 02:00:00</th>\n",
       "      <td>71</td>\n",
       "    </tr>\n",
       "    <tr>\n",
       "      <th>2018-03-01 03:00:00</th>\n",
       "      <td>66</td>\n",
       "    </tr>\n",
       "    <tr>\n",
       "      <th>2018-03-01 04:00:00</th>\n",
       "      <td>43</td>\n",
       "    </tr>\n",
       "    <tr>\n",
       "      <th>...</th>\n",
       "      <td>...</td>\n",
       "    </tr>\n",
       "    <tr>\n",
       "      <th>2018-08-31 19:00:00</th>\n",
       "      <td>136</td>\n",
       "    </tr>\n",
       "    <tr>\n",
       "      <th>2018-08-31 20:00:00</th>\n",
       "      <td>154</td>\n",
       "    </tr>\n",
       "    <tr>\n",
       "      <th>2018-08-31 21:00:00</th>\n",
       "      <td>159</td>\n",
       "    </tr>\n",
       "    <tr>\n",
       "      <th>2018-08-31 22:00:00</th>\n",
       "      <td>223</td>\n",
       "    </tr>\n",
       "    <tr>\n",
       "      <th>2018-08-31 23:00:00</th>\n",
       "      <td>205</td>\n",
       "    </tr>\n",
       "  </tbody>\n",
       "</table>\n",
       "<p>4416 rows × 1 columns</p>\n",
       "</div>"
      ],
      "text/plain": [
       "                     num_orders\n",
       "datetime                       \n",
       "2018-03-01 00:00:00         124\n",
       "2018-03-01 01:00:00          85\n",
       "2018-03-01 02:00:00          71\n",
       "2018-03-01 03:00:00          66\n",
       "2018-03-01 04:00:00          43\n",
       "...                         ...\n",
       "2018-08-31 19:00:00         136\n",
       "2018-08-31 20:00:00         154\n",
       "2018-08-31 21:00:00         159\n",
       "2018-08-31 22:00:00         223\n",
       "2018-08-31 23:00:00         205\n",
       "\n",
       "[4416 rows x 1 columns]"
      ]
     },
     "execution_count": 7,
     "metadata": {},
     "output_type": "execute_result"
    }
   ],
   "source": [
    "#На случай экспериментов сохраним \n",
    "save_data = data.copy(deep=True)\n",
    "\n",
    "data = data.resample('1H').sum()\n",
    "\n",
    "data"
   ]
  },
  {
   "cell_type": "markdown",
   "metadata": {},
   "source": [
    "### Промежуточный итог"
   ]
  },
  {
   "cell_type": "markdown",
   "metadata": {},
   "source": [
    "Данные проверены по ТЗ и подготовлены. "
   ]
  },
  {
   "cell_type": "markdown",
   "metadata": {},
   "source": [
    "## Анализ"
   ]
  },
  {
   "cell_type": "markdown",
   "metadata": {},
   "source": [
    "Проведем анализ созданных призаков и их влияние на целевой признаков."
   ]
  },
  {
   "cell_type": "code",
   "execution_count": 9,
   "metadata": {},
   "outputs": [],
   "source": [
    "data['month'] = data.index.month\n",
    "data['day'] = data.index.day\n",
    "data['dayofweek'] = data.index.dayofweek\n",
    "data['hour'] = data.index.hour\n"
   ]
  },
  {
   "cell_type": "code",
   "execution_count": 10,
   "metadata": {},
   "outputs": [
    {
     "data": {
      "image/png": "[encoded data removed]",
      "text/plain": [
       "<Figure size 720x432 with 1 Axes>"
      ]
     },
     "metadata": {
      "needs_background": "light"
     },
     "output_type": "display_data"
    }
   ],
   "source": [
    "plt.figure(figsize=(10, 6))\n",
    "plt.bar(x=data.groupby('month')['num_orders'].agg(func='sum').index,\n",
    "            height=data.groupby('month')['num_orders'].agg(func='sum'))\n",
    "plt.xlabel('Месяц заказ')\n",
    "plt.ylabel('Количество заказов')\n",
    "plt.title('Столбчатая диаграмма - медианы заказов по месяцам')\n",
    "plt.grid()\n",
    "plt.show()"
   ]
  },
  {
   "cell_type": "code",
   "execution_count": 11,
   "metadata": {},
   "outputs": [
    {
     "data": {
      "image/png": "[encoded data removed]",
      "text/plain": [
       "<Figure size 720x432 with 1 Axes>"
      ]
     },
     "metadata": {
      "needs_background": "light"
     },
     "output_type": "display_data"
    }
   ],
   "source": [
    "plt.figure(figsize=(10, 6))\n",
    "plt.bar(x=data.groupby('month')['num_orders'].agg(func='median').index,\n",
    "            height=data.groupby('month')['num_orders'].agg(func='median'))\n",
    "plt.xlabel('Месяц заказ')\n",
    "plt.ylabel('Количество заказов')\n",
    "plt.title('Столбчатая диаграмма - медианы заказов по месяцам')\n",
    "plt.grid()\n",
    "plt.show()"
   ]
  },
  {
   "cell_type": "code",
   "execution_count": 12,
   "metadata": {},
   "outputs": [
    {
     "data": {
      "text/html": [
       "<div>\n",
       "<style scoped>\n",
       "    .dataframe tbody tr th:only-of-type {\n",
       "        vertical-align: middle;\n",
       "    }\n",
       "\n",
       "    .dataframe tbody tr th {\n",
       "        vertical-align: top;\n",
       "    }\n",
       "\n",
       "    .dataframe thead th {\n",
       "        text-align: right;\n",
       "    }\n",
       "</style>\n",
       "<table border=\"1\" class=\"dataframe\">\n",
       "  <thead>\n",
       "    <tr style=\"text-align: right;\">\n",
       "      <th></th>\n",
       "      <th>mean</th>\n",
       "      <th>sum</th>\n",
       "      <th>count</th>\n",
       "    </tr>\n",
       "    <tr>\n",
       "      <th>month</th>\n",
       "      <th></th>\n",
       "      <th></th>\n",
       "      <th></th>\n",
       "    </tr>\n",
       "  </thead>\n",
       "  <tbody>\n",
       "    <tr>\n",
       "      <th>3</th>\n",
       "      <td>57.483871</td>\n",
       "      <td>42768</td>\n",
       "      <td>744</td>\n",
       "    </tr>\n",
       "    <tr>\n",
       "      <th>4</th>\n",
       "      <td>63.804167</td>\n",
       "      <td>45939</td>\n",
       "      <td>720</td>\n",
       "    </tr>\n",
       "    <tr>\n",
       "      <th>5</th>\n",
       "      <td>73.682796</td>\n",
       "      <td>54820</td>\n",
       "      <td>744</td>\n",
       "    </tr>\n",
       "    <tr>\n",
       "      <th>6</th>\n",
       "      <td>83.202778</td>\n",
       "      <td>59906</td>\n",
       "      <td>720</td>\n",
       "    </tr>\n",
       "    <tr>\n",
       "      <th>7</th>\n",
       "      <td>100.006720</td>\n",
       "      <td>74405</td>\n",
       "      <td>744</td>\n",
       "    </tr>\n",
       "    <tr>\n",
       "      <th>8</th>\n",
       "      <td>127.651882</td>\n",
       "      <td>94973</td>\n",
       "      <td>744</td>\n",
       "    </tr>\n",
       "  </tbody>\n",
       "</table>\n",
       "</div>"
      ],
      "text/plain": [
       "             mean    sum  count\n",
       "month                          \n",
       "3       57.483871  42768    744\n",
       "4       63.804167  45939    720\n",
       "5       73.682796  54820    744\n",
       "6       83.202778  59906    720\n",
       "7      100.006720  74405    744\n",
       "8      127.651882  94973    744"
      ]
     },
     "execution_count": 12,
     "metadata": {},
     "output_type": "execute_result"
    }
   ],
   "source": [
    "data.groupby('month')['num_orders'].agg(func=['mean', 'sum', 'count'])"
   ]
  },
  {
   "cell_type": "markdown",
   "metadata": {},
   "source": [
    "Можно заметить, что со временем у компании стало больше заказов, хотя есть небольшие просадки в 4 и 6 месяце, но они никак не повлияли."
   ]
  },
  {
   "cell_type": "code",
   "execution_count": 13,
   "metadata": {},
   "outputs": [
    {
     "data": {
      "image/png": "[encoded data removed]",
      "text/plain": [
       "<Figure size 720x432 with 1 Axes>"
      ]
     },
     "metadata": {
      "needs_background": "light"
     },
     "output_type": "display_data"
    }
   ],
   "source": [
    "plt.figure(figsize=(10, 6))\n",
    "plt.bar(x=data.groupby('dayofweek')['num_orders'].agg(func='sum').index,\n",
    "            height=data.groupby('dayofweek')['num_orders'].agg(func='sum'))\n",
    "plt.xlabel('День недели заказа')\n",
    "plt.ylabel('Количество заказов')\n",
    "plt.title('Столбчатая диаграмма - заказы по дням недели')\n",
    "plt.grid()\n",
    "plt.show()"
   ]
  },
  {
   "cell_type": "code",
   "execution_count": 14,
   "metadata": {},
   "outputs": [
    {
     "data": {
      "image/png": "[encoded data removed]",
      "text/plain": [
       "<Figure size 720x432 with 1 Axes>"
      ]
     },
     "metadata": {
      "needs_background": "light"
     },
     "output_type": "display_data"
    }
   ],
   "source": [
    "plt.figure(figsize=(10, 6))\n",
    "plt.bar(x=data.groupby('dayofweek')['num_orders'].agg(func='median').index,\n",
    "            height=data.groupby('dayofweek')['num_orders'].agg(func='median'))\n",
    "plt.xlabel('День недели заказа')\n",
    "plt.ylabel('Медиана заказов')\n",
    "plt.title('Столбчатая диаграмма - медианы заказов по дням недели')\n",
    "plt.grid()\n",
    "plt.show()"
   ]
  },
  {
   "cell_type": "code",
   "execution_count": 15,
   "metadata": {},
   "outputs": [
    {
     "data": {
      "text/html": [
       "<div>\n",
       "<style scoped>\n",
       "    .dataframe tbody tr th:only-of-type {\n",
       "        vertical-align: middle;\n",
       "    }\n",
       "\n",
       "    .dataframe tbody tr th {\n",
       "        vertical-align: top;\n",
       "    }\n",
       "\n",
       "    .dataframe thead th {\n",
       "        text-align: right;\n",
       "    }\n",
       "</style>\n",
       "<table border=\"1\" class=\"dataframe\">\n",
       "  <thead>\n",
       "    <tr style=\"text-align: right;\">\n",
       "      <th></th>\n",
       "      <th>mean</th>\n",
       "      <th>sum</th>\n",
       "      <th>count</th>\n",
       "    </tr>\n",
       "    <tr>\n",
       "      <th>dayofweek</th>\n",
       "      <th></th>\n",
       "      <th></th>\n",
       "      <th></th>\n",
       "    </tr>\n",
       "  </thead>\n",
       "  <tbody>\n",
       "    <tr>\n",
       "      <th>0</th>\n",
       "      <td>90.246795</td>\n",
       "      <td>56314</td>\n",
       "      <td>624</td>\n",
       "    </tr>\n",
       "    <tr>\n",
       "      <th>1</th>\n",
       "      <td>77.011218</td>\n",
       "      <td>48055</td>\n",
       "      <td>624</td>\n",
       "    </tr>\n",
       "    <tr>\n",
       "      <th>2</th>\n",
       "      <td>83.754808</td>\n",
       "      <td>52263</td>\n",
       "      <td>624</td>\n",
       "    </tr>\n",
       "    <tr>\n",
       "      <th>3</th>\n",
       "      <td>85.660494</td>\n",
       "      <td>55508</td>\n",
       "      <td>648</td>\n",
       "    </tr>\n",
       "    <tr>\n",
       "      <th>4</th>\n",
       "      <td>91.140432</td>\n",
       "      <td>59059</td>\n",
       "      <td>648</td>\n",
       "    </tr>\n",
       "    <tr>\n",
       "      <th>5</th>\n",
       "      <td>83.847756</td>\n",
       "      <td>52321</td>\n",
       "      <td>624</td>\n",
       "    </tr>\n",
       "    <tr>\n",
       "      <th>6</th>\n",
       "      <td>78.991987</td>\n",
       "      <td>49291</td>\n",
       "      <td>624</td>\n",
       "    </tr>\n",
       "  </tbody>\n",
       "</table>\n",
       "</div>"
      ],
      "text/plain": [
       "                mean    sum  count\n",
       "dayofweek                         \n",
       "0          90.246795  56314    624\n",
       "1          77.011218  48055    624\n",
       "2          83.754808  52263    624\n",
       "3          85.660494  55508    648\n",
       "4          91.140432  59059    648\n",
       "5          83.847756  52321    624\n",
       "6          78.991987  49291    624"
      ]
     },
     "execution_count": 15,
     "metadata": {},
     "output_type": "execute_result"
    }
   ],
   "source": [
    "data.groupby('dayofweek')['num_orders'].agg(func=['mean', 'sum', 'count'])"
   ]
  },
  {
   "cell_type": "markdown",
   "metadata": {},
   "source": [
    "На столбчатой диаграмме видно, что в понедельник и пятницу больше всего заказов. Наверное это может связать с тем, что больше рейсов прилетает и отлетает в эти дни недели."
   ]
  },
  {
   "cell_type": "code",
   "execution_count": 16,
   "metadata": {},
   "outputs": [
    {
     "data": {
      "image/png": "[encoded data removed]",
      "text/plain": [
       "<Figure size 720x432 with 1 Axes>"
      ]
     },
     "metadata": {
      "needs_background": "light"
     },
     "output_type": "display_data"
    }
   ],
   "source": [
    "plt.figure(figsize=(10, 6))\n",
    "plt.bar(x=data.groupby('day')['num_orders'].agg(func='sum').index,\n",
    "            height=data.groupby('day')['num_orders'].agg(func='sum'))\n",
    "plt.xlabel('Число даты заказа')\n",
    "plt.ylabel('Количество заказов')\n",
    "plt.title('Столбчатая диаграмма - заказы по дням')\n",
    "plt.grid()\n",
    "plt.show()"
   ]
  },
  {
   "cell_type": "code",
   "execution_count": 17,
   "metadata": {},
   "outputs": [
    {
     "data": {
      "image/png": "[encoded data removed]",
      "text/plain": [
       "<Figure size 720x432 with 1 Axes>"
      ]
     },
     "metadata": {
      "needs_background": "light"
     },
     "output_type": "display_data"
    }
   ],
   "source": [
    "plt.figure(figsize=(10, 6))\n",
    "plt.bar(x=data.groupby('day')['num_orders'].agg(func='median').index,\n",
    "            height=data.groupby('day')['num_orders'].agg(func='median'))\n",
    "plt.xlabel('Число даты заказа')\n",
    "plt.ylabel('Медиана заказов')\n",
    "plt.title('Столбчатая диаграмма - медианы заказов по дням')\n",
    "plt.grid()\n",
    "plt.show()"
   ]
  },
  {
   "cell_type": "code",
   "execution_count": 18,
   "metadata": {},
   "outputs": [
    {
     "data": {
      "text/html": [
       "<div>\n",
       "<style scoped>\n",
       "    .dataframe tbody tr th:only-of-type {\n",
       "        vertical-align: middle;\n",
       "    }\n",
       "\n",
       "    .dataframe tbody tr th {\n",
       "        vertical-align: top;\n",
       "    }\n",
       "\n",
       "    .dataframe thead th {\n",
       "        text-align: right;\n",
       "    }\n",
       "</style>\n",
       "<table border=\"1\" class=\"dataframe\">\n",
       "  <thead>\n",
       "    <tr style=\"text-align: right;\">\n",
       "      <th></th>\n",
       "      <th>mean</th>\n",
       "      <th>sum</th>\n",
       "      <th>count</th>\n",
       "    </tr>\n",
       "    <tr>\n",
       "      <th>day</th>\n",
       "      <th></th>\n",
       "      <th></th>\n",
       "      <th></th>\n",
       "    </tr>\n",
       "  </thead>\n",
       "  <tbody>\n",
       "    <tr>\n",
       "      <th>1</th>\n",
       "      <td>72.347222</td>\n",
       "      <td>10418</td>\n",
       "      <td>144</td>\n",
       "    </tr>\n",
       "    <tr>\n",
       "      <th>2</th>\n",
       "      <td>76.756944</td>\n",
       "      <td>11053</td>\n",
       "      <td>144</td>\n",
       "    </tr>\n",
       "    <tr>\n",
       "      <th>3</th>\n",
       "      <td>73.090278</td>\n",
       "      <td>10525</td>\n",
       "      <td>144</td>\n",
       "    </tr>\n",
       "    <tr>\n",
       "      <th>4</th>\n",
       "      <td>72.479167</td>\n",
       "      <td>10437</td>\n",
       "      <td>144</td>\n",
       "    </tr>\n",
       "    <tr>\n",
       "      <th>5</th>\n",
       "      <td>68.965278</td>\n",
       "      <td>9931</td>\n",
       "      <td>144</td>\n",
       "    </tr>\n",
       "    <tr>\n",
       "      <th>6</th>\n",
       "      <td>78.090278</td>\n",
       "      <td>11245</td>\n",
       "      <td>144</td>\n",
       "    </tr>\n",
       "    <tr>\n",
       "      <th>7</th>\n",
       "      <td>75.826389</td>\n",
       "      <td>10919</td>\n",
       "      <td>144</td>\n",
       "    </tr>\n",
       "    <tr>\n",
       "      <th>8</th>\n",
       "      <td>77.652778</td>\n",
       "      <td>11182</td>\n",
       "      <td>144</td>\n",
       "    </tr>\n",
       "    <tr>\n",
       "      <th>9</th>\n",
       "      <td>77.541667</td>\n",
       "      <td>11166</td>\n",
       "      <td>144</td>\n",
       "    </tr>\n",
       "    <tr>\n",
       "      <th>10</th>\n",
       "      <td>79.215278</td>\n",
       "      <td>11407</td>\n",
       "      <td>144</td>\n",
       "    </tr>\n",
       "    <tr>\n",
       "      <th>11</th>\n",
       "      <td>81.986111</td>\n",
       "      <td>11806</td>\n",
       "      <td>144</td>\n",
       "    </tr>\n",
       "    <tr>\n",
       "      <th>12</th>\n",
       "      <td>82.312500</td>\n",
       "      <td>11853</td>\n",
       "      <td>144</td>\n",
       "    </tr>\n",
       "    <tr>\n",
       "      <th>13</th>\n",
       "      <td>89.763889</td>\n",
       "      <td>12926</td>\n",
       "      <td>144</td>\n",
       "    </tr>\n",
       "    <tr>\n",
       "      <th>14</th>\n",
       "      <td>85.208333</td>\n",
       "      <td>12270</td>\n",
       "      <td>144</td>\n",
       "    </tr>\n",
       "    <tr>\n",
       "      <th>15</th>\n",
       "      <td>81.597222</td>\n",
       "      <td>11750</td>\n",
       "      <td>144</td>\n",
       "    </tr>\n",
       "    <tr>\n",
       "      <th>16</th>\n",
       "      <td>86.895833</td>\n",
       "      <td>12513</td>\n",
       "      <td>144</td>\n",
       "    </tr>\n",
       "    <tr>\n",
       "      <th>17</th>\n",
       "      <td>83.548611</td>\n",
       "      <td>12031</td>\n",
       "      <td>144</td>\n",
       "    </tr>\n",
       "    <tr>\n",
       "      <th>18</th>\n",
       "      <td>87.409722</td>\n",
       "      <td>12587</td>\n",
       "      <td>144</td>\n",
       "    </tr>\n",
       "    <tr>\n",
       "      <th>19</th>\n",
       "      <td>81.645833</td>\n",
       "      <td>11757</td>\n",
       "      <td>144</td>\n",
       "    </tr>\n",
       "    <tr>\n",
       "      <th>20</th>\n",
       "      <td>90.875000</td>\n",
       "      <td>13086</td>\n",
       "      <td>144</td>\n",
       "    </tr>\n",
       "    <tr>\n",
       "      <th>21</th>\n",
       "      <td>84.576389</td>\n",
       "      <td>12179</td>\n",
       "      <td>144</td>\n",
       "    </tr>\n",
       "    <tr>\n",
       "      <th>22</th>\n",
       "      <td>85.291667</td>\n",
       "      <td>12282</td>\n",
       "      <td>144</td>\n",
       "    </tr>\n",
       "    <tr>\n",
       "      <th>23</th>\n",
       "      <td>93.437500</td>\n",
       "      <td>13455</td>\n",
       "      <td>144</td>\n",
       "    </tr>\n",
       "    <tr>\n",
       "      <th>24</th>\n",
       "      <td>91.375000</td>\n",
       "      <td>13158</td>\n",
       "      <td>144</td>\n",
       "    </tr>\n",
       "    <tr>\n",
       "      <th>25</th>\n",
       "      <td>92.409722</td>\n",
       "      <td>13307</td>\n",
       "      <td>144</td>\n",
       "    </tr>\n",
       "    <tr>\n",
       "      <th>26</th>\n",
       "      <td>89.631944</td>\n",
       "      <td>12907</td>\n",
       "      <td>144</td>\n",
       "    </tr>\n",
       "    <tr>\n",
       "      <th>27</th>\n",
       "      <td>96.520833</td>\n",
       "      <td>13899</td>\n",
       "      <td>144</td>\n",
       "    </tr>\n",
       "    <tr>\n",
       "      <th>28</th>\n",
       "      <td>93.638889</td>\n",
       "      <td>13484</td>\n",
       "      <td>144</td>\n",
       "    </tr>\n",
       "    <tr>\n",
       "      <th>29</th>\n",
       "      <td>92.680556</td>\n",
       "      <td>13346</td>\n",
       "      <td>144</td>\n",
       "    </tr>\n",
       "    <tr>\n",
       "      <th>30</th>\n",
       "      <td>97.534722</td>\n",
       "      <td>14045</td>\n",
       "      <td>144</td>\n",
       "    </tr>\n",
       "    <tr>\n",
       "      <th>31</th>\n",
       "      <td>102.989583</td>\n",
       "      <td>9887</td>\n",
       "      <td>96</td>\n",
       "    </tr>\n",
       "  </tbody>\n",
       "</table>\n",
       "</div>"
      ],
      "text/plain": [
       "           mean    sum  count\n",
       "day                          \n",
       "1     72.347222  10418    144\n",
       "2     76.756944  11053    144\n",
       "3     73.090278  10525    144\n",
       "4     72.479167  10437    144\n",
       "5     68.965278   9931    144\n",
       "6     78.090278  11245    144\n",
       "7     75.826389  10919    144\n",
       "8     77.652778  11182    144\n",
       "9     77.541667  11166    144\n",
       "10    79.215278  11407    144\n",
       "11    81.986111  11806    144\n",
       "12    82.312500  11853    144\n",
       "13    89.763889  12926    144\n",
       "14    85.208333  12270    144\n",
       "15    81.597222  11750    144\n",
       "16    86.895833  12513    144\n",
       "17    83.548611  12031    144\n",
       "18    87.409722  12587    144\n",
       "19    81.645833  11757    144\n",
       "20    90.875000  13086    144\n",
       "21    84.576389  12179    144\n",
       "22    85.291667  12282    144\n",
       "23    93.437500  13455    144\n",
       "24    91.375000  13158    144\n",
       "25    92.409722  13307    144\n",
       "26    89.631944  12907    144\n",
       "27    96.520833  13899    144\n",
       "28    93.638889  13484    144\n",
       "29    92.680556  13346    144\n",
       "30    97.534722  14045    144\n",
       "31   102.989583   9887     96"
      ]
     },
     "execution_count": 18,
     "metadata": {},
     "output_type": "execute_result"
    }
   ],
   "source": [
    "data.groupby('day')['num_orders'].agg(func=['mean', 'sum', 'count'])"
   ]
  },
  {
   "cell_type": "markdown",
   "metadata": {},
   "source": [
    "По гистограмме видно - постепенное увеличение количества заказов, но заметны какие-то периодические всплески количества заказов. Изучим этот вопрос на примере 6 месяца, всплески должны быть более явными."
   ]
  },
  {
   "cell_type": "code",
   "execution_count": 19,
   "metadata": {},
   "outputs": [
    {
     "data": {
      "image/png": "[encoded data removed]",
      "text/plain": [
       "<Figure size 720x432 with 1 Axes>"
      ]
     },
     "metadata": {
      "needs_background": "light"
     },
     "output_type": "display_data"
    }
   ],
   "source": [
    "plt.figure(figsize=(10, 6))\n",
    "plt.bar(x=data.loc[data['month']==6].groupby('day')['num_orders'].agg(func='median').index,\n",
    "            height=data.loc[data['month']==6].groupby('day')['num_orders'].agg(func='median'))\n",
    "plt.xlabel('Число даты заказа')\n",
    "plt.ylabel('Медиана заказов')\n",
    "plt.title('Столбчатая диаграмма - медианы заказов по дням')\n",
    "plt.grid()\n",
    "plt.show()"
   ]
  },
  {
   "cell_type": "markdown",
   "metadata": {},
   "source": [
    "На 6 месяце всплески стали крайне заметными, это можно связать со днями недели, тк всплески возникают с периодичностью около недели."
   ]
  },
  {
   "cell_type": "code",
   "execution_count": 20,
   "metadata": {},
   "outputs": [
    {
     "data": {
      "image/png": "[encoded data removed]",
      "text/plain": [
       "<Figure size 720x432 with 1 Axes>"
      ]
     },
     "metadata": {
      "needs_background": "light"
     },
     "output_type": "display_data"
    }
   ],
   "source": [
    "plt.figure(figsize=(10, 6))\n",
    "plt.bar(x=data.groupby('hour')['num_orders'].agg(func='sum').index,\n",
    "            height=data.groupby('hour')['num_orders'].agg(func='sum'))\n",
    "plt.xlabel('Час заказа')\n",
    "plt.ylabel('Количество заказов')\n",
    "plt.title('Столбчатая диаграмма - заказы по часам')\n",
    "plt.grid()\n",
    "plt.show()"
   ]
  },
  {
   "cell_type": "code",
   "execution_count": 21,
   "metadata": {},
   "outputs": [
    {
     "data": {
      "image/png": "[encoded data removed]",
      "text/plain": [
       "<Figure size 720x432 with 1 Axes>"
      ]
     },
     "metadata": {
      "needs_background": "light"
     },
     "output_type": "display_data"
    }
   ],
   "source": [
    "plt.figure(figsize=(10, 6))\n",
    "plt.bar(x=data.groupby('hour')['num_orders'].agg(func='median').index,\n",
    "            height=data.groupby('hour')['num_orders'].agg(func='median'))\n",
    "plt.xlabel('Час заказа')\n",
    "plt.ylabel('Медиана заказов')\n",
    "plt.title('Столбчатая диаграмма - медиана заказов по часам')\n",
    "plt.grid()\n",
    "plt.show()"
   ]
  },
  {
   "cell_type": "code",
   "execution_count": 22,
   "metadata": {},
   "outputs": [
    {
     "data": {
      "text/html": [
       "<div>\n",
       "<style scoped>\n",
       "    .dataframe tbody tr th:only-of-type {\n",
       "        vertical-align: middle;\n",
       "    }\n",
       "\n",
       "    .dataframe tbody tr th {\n",
       "        vertical-align: top;\n",
       "    }\n",
       "\n",
       "    .dataframe thead th {\n",
       "        text-align: right;\n",
       "    }\n",
       "</style>\n",
       "<table border=\"1\" class=\"dataframe\">\n",
       "  <thead>\n",
       "    <tr style=\"text-align: right;\">\n",
       "      <th></th>\n",
       "      <th>mean</th>\n",
       "      <th>sum</th>\n",
       "      <th>count</th>\n",
       "    </tr>\n",
       "    <tr>\n",
       "      <th>hour</th>\n",
       "      <th></th>\n",
       "      <th></th>\n",
       "      <th></th>\n",
       "    </tr>\n",
       "  </thead>\n",
       "  <tbody>\n",
       "    <tr>\n",
       "      <th>0</th>\n",
       "      <td>144.402174</td>\n",
       "      <td>26570</td>\n",
       "      <td>184</td>\n",
       "    </tr>\n",
       "    <tr>\n",
       "      <th>1</th>\n",
       "      <td>104.364130</td>\n",
       "      <td>19203</td>\n",
       "      <td>184</td>\n",
       "    </tr>\n",
       "    <tr>\n",
       "      <th>2</th>\n",
       "      <td>113.070652</td>\n",
       "      <td>20805</td>\n",
       "      <td>184</td>\n",
       "    </tr>\n",
       "    <tr>\n",
       "      <th>3</th>\n",
       "      <td>102.021739</td>\n",
       "      <td>18772</td>\n",
       "      <td>184</td>\n",
       "    </tr>\n",
       "    <tr>\n",
       "      <th>4</th>\n",
       "      <td>86.907609</td>\n",
       "      <td>15991</td>\n",
       "      <td>184</td>\n",
       "    </tr>\n",
       "    <tr>\n",
       "      <th>5</th>\n",
       "      <td>42.630435</td>\n",
       "      <td>7844</td>\n",
       "      <td>184</td>\n",
       "    </tr>\n",
       "    <tr>\n",
       "      <th>6</th>\n",
       "      <td>25.173913</td>\n",
       "      <td>4632</td>\n",
       "      <td>184</td>\n",
       "    </tr>\n",
       "    <tr>\n",
       "      <th>7</th>\n",
       "      <td>29.271739</td>\n",
       "      <td>5386</td>\n",
       "      <td>184</td>\n",
       "    </tr>\n",
       "    <tr>\n",
       "      <th>8</th>\n",
       "      <td>73.048913</td>\n",
       "      <td>13441</td>\n",
       "      <td>184</td>\n",
       "    </tr>\n",
       "    <tr>\n",
       "      <th>9</th>\n",
       "      <td>88.831522</td>\n",
       "      <td>16345</td>\n",
       "      <td>184</td>\n",
       "    </tr>\n",
       "    <tr>\n",
       "      <th>10</th>\n",
       "      <td>93.119565</td>\n",
       "      <td>17134</td>\n",
       "      <td>184</td>\n",
       "    </tr>\n",
       "    <tr>\n",
       "      <th>11</th>\n",
       "      <td>82.489130</td>\n",
       "      <td>15178</td>\n",
       "      <td>184</td>\n",
       "    </tr>\n",
       "    <tr>\n",
       "      <th>12</th>\n",
       "      <td>67.630435</td>\n",
       "      <td>12444</td>\n",
       "      <td>184</td>\n",
       "    </tr>\n",
       "    <tr>\n",
       "      <th>13</th>\n",
       "      <td>71.173913</td>\n",
       "      <td>13096</td>\n",
       "      <td>184</td>\n",
       "    </tr>\n",
       "    <tr>\n",
       "      <th>14</th>\n",
       "      <td>75.163043</td>\n",
       "      <td>13830</td>\n",
       "      <td>184</td>\n",
       "    </tr>\n",
       "    <tr>\n",
       "      <th>15</th>\n",
       "      <td>87.945652</td>\n",
       "      <td>16182</td>\n",
       "      <td>184</td>\n",
       "    </tr>\n",
       "    <tr>\n",
       "      <th>16</th>\n",
       "      <td>114.146739</td>\n",
       "      <td>21003</td>\n",
       "      <td>184</td>\n",
       "    </tr>\n",
       "    <tr>\n",
       "      <th>17</th>\n",
       "      <td>92.722826</td>\n",
       "      <td>17061</td>\n",
       "      <td>184</td>\n",
       "    </tr>\n",
       "    <tr>\n",
       "      <th>18</th>\n",
       "      <td>69.358696</td>\n",
       "      <td>12762</td>\n",
       "      <td>184</td>\n",
       "    </tr>\n",
       "    <tr>\n",
       "      <th>19</th>\n",
       "      <td>77.336957</td>\n",
       "      <td>14230</td>\n",
       "      <td>184</td>\n",
       "    </tr>\n",
       "    <tr>\n",
       "      <th>20</th>\n",
       "      <td>81.858696</td>\n",
       "      <td>15062</td>\n",
       "      <td>184</td>\n",
       "    </tr>\n",
       "    <tr>\n",
       "      <th>21</th>\n",
       "      <td>95.211957</td>\n",
       "      <td>17519</td>\n",
       "      <td>184</td>\n",
       "    </tr>\n",
       "    <tr>\n",
       "      <th>22</th>\n",
       "      <td>98.500000</td>\n",
       "      <td>18124</td>\n",
       "      <td>184</td>\n",
       "    </tr>\n",
       "    <tr>\n",
       "      <th>23</th>\n",
       "      <td>109.766304</td>\n",
       "      <td>20197</td>\n",
       "      <td>184</td>\n",
       "    </tr>\n",
       "  </tbody>\n",
       "</table>\n",
       "</div>"
      ],
      "text/plain": [
       "            mean    sum  count\n",
       "hour                          \n",
       "0     144.402174  26570    184\n",
       "1     104.364130  19203    184\n",
       "2     113.070652  20805    184\n",
       "3     102.021739  18772    184\n",
       "4      86.907609  15991    184\n",
       "5      42.630435   7844    184\n",
       "6      25.173913   4632    184\n",
       "7      29.271739   5386    184\n",
       "8      73.048913  13441    184\n",
       "9      88.831522  16345    184\n",
       "10     93.119565  17134    184\n",
       "11     82.489130  15178    184\n",
       "12     67.630435  12444    184\n",
       "13     71.173913  13096    184\n",
       "14     75.163043  13830    184\n",
       "15     87.945652  16182    184\n",
       "16    114.146739  21003    184\n",
       "17     92.722826  17061    184\n",
       "18     69.358696  12762    184\n",
       "19     77.336957  14230    184\n",
       "20     81.858696  15062    184\n",
       "21     95.211957  17519    184\n",
       "22     98.500000  18124    184\n",
       "23    109.766304  20197    184"
      ]
     },
     "execution_count": 22,
     "metadata": {},
     "output_type": "execute_result"
    }
   ],
   "source": [
    "data.groupby('hour')['num_orders'].agg(func=['mean', 'sum', 'count'])"
   ]
  },
  {
   "cell_type": "markdown",
   "metadata": {},
   "source": [
    "На гистограмме заметно, что люди чаще всего заказывают такси около 24 часов и в час пик (16-17)."
   ]
  },
  {
   "cell_type": "markdown",
   "metadata": {},
   "source": [
    "Проверим корреляцию целевой переменной с предыдущими значениями ряда в зависимости от различного типа ресэмплирования, для установления более коррелирующих отставаний.\n",
    "Ресэмплируем данные по 1 часу и построим график автокорреляции с предыдущими значениями."
   ]
  },
  {
   "cell_type": "code",
   "execution_count": 23,
   "metadata": {
    "scrolled": true
   },
   "outputs": [
    {
     "data": {
      "image/png": "[encoded data removed]",
      "text/plain": [
       "<Figure size 1332x432 with 1 Axes>"
      ]
     },
     "metadata": {
      "needs_background": "light"
     },
     "output_type": "display_data"
    }
   ],
   "source": [
    "data_hour = save_data.copy(deep=True).resample('1H').sum()\n",
    "ts = data_hour['num_orders']\n",
    "\n",
    "fig = tsaplots.plot_acf(ts,lags= 90)\n",
    "fig.set_size_inches(18.5, 6)\n",
    "plt.ylim(-.1, 1.1)\n",
    "plt.show() "
   ]
  },
  {
   "cell_type": "markdown",
   "metadata": {},
   "source": [
    "На графике можно заметить высокий уровень корреляии каждые 24 часа, что может свидетельствовать о дневной сезонности, а значит для нашей модели будет важно иметь 24 lag, то есть информация о том, что происходило день назад."
   ]
  },
  {
   "cell_type": "code",
   "execution_count": 24,
   "metadata": {},
   "outputs": [
    {
     "data": {
      "image/png": "[encoded data removed]",
      "text/plain": [
       "<Figure size 1332x432 with 1 Axes>"
      ]
     },
     "metadata": {
      "needs_background": "light"
     },
     "output_type": "display_data"
    }
   ],
   "source": [
    "data_day = save_data.copy(deep=True).resample('1D').sum()\n",
    "ts = data_day['num_orders']\n",
    "\n",
    "fig = tsaplots.plot_acf(ts,lags= 180)\n",
    "fig.set_size_inches(18.5, 6)\n",
    "plt.ylim(-1.1, 1.1)\n",
    "plt.show() "
   ]
  },
  {
   "cell_type": "markdown",
   "metadata": {},
   "source": [
    "При ресэмплировании данных на каждый день уже не видно явных пиков, как было на предыдущем графике, хотя заметна некоторая переодичность."
   ]
  },
  {
   "cell_type": "markdown",
   "metadata": {},
   "source": [
    "Проверим сезонность, тренд и остатки целевой переменной от различного вида ресэмплирования."
   ]
  },
  {
   "cell_type": "code",
   "execution_count": 25,
   "metadata": {
    "scrolled": true
   },
   "outputs": [
    {
     "data": {
      "image/png": "[encoded data removed]",
      "text/plain": [
       "<Figure size 1440x432 with 1 Axes>"
      ]
     },
     "metadata": {
      "needs_background": "light"
     },
     "output_type": "display_data"
    }
   ],
   "source": [
    "plt.figure(figsize=(20, 6))\n",
    "seasonal_decompose(data_hour).seasonal['2018-04-05':'2018-04-07'].plot(ax=plt.gca())\n",
    "plt.grid()\n",
    "plt.show()"
   ]
  },
  {
   "cell_type": "markdown",
   "metadata": {},
   "source": [
    "На графие сезонности видно, что больше всего заказов в 00:00, а меньше всего около 4:00. Это проявляется в каждый день, поэтому важно будет добавить 24 лаг в данные."
   ]
  },
  {
   "cell_type": "code",
   "execution_count": 26,
   "metadata": {},
   "outputs": [
    {
     "data": {
      "image/png": "[encoded data removed]",
      "text/plain": [
       "<Figure size 1440x432 with 1 Axes>"
      ]
     },
     "metadata": {
      "needs_background": "light"
     },
     "output_type": "display_data"
    }
   ],
   "source": [
    "plt.figure(figsize=(20, 6))\n",
    "seasonal_decompose(data_hour).trend['2018-04-05':'2018-04-20'].plot(ax=plt.gca())\n",
    "plt.grid()\n",
    "plt.show()"
   ]
  },
  {
   "cell_type": "markdown",
   "metadata": {},
   "source": [
    "Тренд ряда восходящий, начиния с 10 Apr."
   ]
  },
  {
   "cell_type": "code",
   "execution_count": 27,
   "metadata": {},
   "outputs": [
    {
     "data": {
      "image/png": "[encoded data removed]",
      "text/plain": [
       "<Figure size 1440x432 with 1 Axes>"
      ]
     },
     "metadata": {
      "needs_background": "light"
     },
     "output_type": "display_data"
    }
   ],
   "source": [
    "plt.figure(figsize=(20, 6))\n",
    "seasonal_decompose(data_hour).resid['2018-04-05':'2018-04-10'].plot(ax=plt.gca())\n",
    "plt.grid()\n",
    "plt.show()"
   ]
  },
  {
   "cell_type": "code",
   "execution_count": 28,
   "metadata": {},
   "outputs": [
    {
     "data": {
      "image/png": "[encoded data removed]",
      "text/plain": [
       "<Figure size 1440x432 with 1 Axes>"
      ]
     },
     "metadata": {
      "needs_background": "light"
     },
     "output_type": "display_data"
    }
   ],
   "source": [
    "plt.figure(figsize=(20, 6))\n",
    "seasonal_decompose(data_hour).resid['2018-07-01':'2018-07-10'].plot(ax=plt.gca())\n",
    "plt.grid()\n",
    "plt.show()"
   ]
  },
  {
   "cell_type": "markdown",
   "metadata": {},
   "source": [
    "Заказы имеют случайные колебания, которые не имеют явного тренда или сезонности."
   ]
  },
  {
   "cell_type": "code",
   "execution_count": 29,
   "metadata": {
    "scrolled": true
   },
   "outputs": [
    {
     "data": {
      "image/png": "[encoded data removed]",
      "text/plain": [
       "<Figure size 1440x432 with 1 Axes>"
      ]
     },
     "metadata": {
      "needs_background": "light"
     },
     "output_type": "display_data"
    }
   ],
   "source": [
    "plt.figure(figsize=(20, 6))\n",
    "seasonal_decompose(data_day).seasonal['2018-04-05':'2018-04-19'].plot(ax=plt.gca())\n",
    "plt.grid()\n",
    "plt.show()"
   ]
  },
  {
   "cell_type": "markdown",
   "metadata": {},
   "source": [
    "При ресэмплировании ряда по одну дню заметно, что есть поврторяющиеся пики, которые приходятся на понедельник и пятницу, что говорит о важности 168 лага."
   ]
  },
  {
   "cell_type": "code",
   "execution_count": 30,
   "metadata": {},
   "outputs": [
    {
     "data": {
      "image/png": "[encoded data removed]",
      "text/plain": [
       "<Figure size 1440x432 with 1 Axes>"
      ]
     },
     "metadata": {
      "needs_background": "light"
     },
     "output_type": "display_data"
    }
   ],
   "source": [
    "plt.figure(figsize=(20, 6))\n",
    "seasonal_decompose(data_day).trend['2018-03-05':'2018-07-05'].plot(ax=plt.gca())\n",
    "plt.grid()\n",
    "plt.show()"
   ]
  },
  {
   "cell_type": "markdown",
   "metadata": {},
   "source": [
    "На графике тренда заметен рост, начинающийся с апреля."
   ]
  },
  {
   "cell_type": "code",
   "execution_count": 31,
   "metadata": {},
   "outputs": [
    {
     "data": {
      "image/png": "[encoded data removed]",
      "text/plain": [
       "<Figure size 1440x432 with 1 Axes>"
      ]
     },
     "metadata": {
      "needs_background": "light"
     },
     "output_type": "display_data"
    }
   ],
   "source": [
    "plt.figure(figsize=(20, 6))\n",
    "seasonal_decompose(data_day).resid['2018-04-05':'2018-07-05'].plot(ax=plt.gca())\n",
    "plt.title('f')\n",
    "plt.xlabel('Время')\n",
    "plt.grid()\n",
    "plt.show()"
   ]
  },
  {
   "cell_type": "markdown",
   "metadata": {},
   "source": [
    "На диаграмме остатков видно, что число остатков немного изменилось по сравнению с началом наблюдения."
   ]
  },
  {
   "cell_type": "markdown",
   "metadata": {},
   "source": [
    "Теперь создадим признаки на основании даты и кол-ве заказов. Из даты извлечем месяц, день, день недели, час, год не не будем извлекать, тк все данные в течении одного года. А с помощью кол-ва заказов введем скользящие среднее и параметр отставания, который будет показывать какой была величина n шагов назад."
   ]
  },
  {
   "cell_type": "code",
   "execution_count": 32,
   "metadata": {
    "scrolled": false
   },
   "outputs": [
    {
     "data": {
      "text/html": [
       "<div>\n",
       "<style scoped>\n",
       "    .dataframe tbody tr th:only-of-type {\n",
       "        vertical-align: middle;\n",
       "    }\n",
       "\n",
       "    .dataframe tbody tr th {\n",
       "        vertical-align: top;\n",
       "    }\n",
       "\n",
       "    .dataframe thead th {\n",
       "        text-align: right;\n",
       "    }\n",
       "</style>\n",
       "<table border=\"1\" class=\"dataframe\">\n",
       "  <thead>\n",
       "    <tr style=\"text-align: right;\">\n",
       "      <th></th>\n",
       "      <th>num_orders</th>\n",
       "      <th>month</th>\n",
       "      <th>day</th>\n",
       "      <th>dayofweek</th>\n",
       "      <th>hour</th>\n",
       "      <th>lag_1</th>\n",
       "      <th>lag_2</th>\n",
       "      <th>lag_3</th>\n",
       "      <th>lag_4</th>\n",
       "      <th>lag_5</th>\n",
       "      <th>...</th>\n",
       "      <th>lag_17</th>\n",
       "      <th>lag_18</th>\n",
       "      <th>lag_19</th>\n",
       "      <th>lag_20</th>\n",
       "      <th>lag_21</th>\n",
       "      <th>lag_22</th>\n",
       "      <th>lag_23</th>\n",
       "      <th>lag_24</th>\n",
       "      <th>lag_168</th>\n",
       "      <th>rolling_mean</th>\n",
       "    </tr>\n",
       "    <tr>\n",
       "      <th>datetime</th>\n",
       "      <th></th>\n",
       "      <th></th>\n",
       "      <th></th>\n",
       "      <th></th>\n",
       "      <th></th>\n",
       "      <th></th>\n",
       "      <th></th>\n",
       "      <th></th>\n",
       "      <th></th>\n",
       "      <th></th>\n",
       "      <th></th>\n",
       "      <th></th>\n",
       "      <th></th>\n",
       "      <th></th>\n",
       "      <th></th>\n",
       "      <th></th>\n",
       "      <th></th>\n",
       "      <th></th>\n",
       "      <th></th>\n",
       "      <th></th>\n",
       "      <th></th>\n",
       "    </tr>\n",
       "  </thead>\n",
       "  <tbody>\n",
       "    <tr>\n",
       "      <th>2018-03-08 00:00:00</th>\n",
       "      <td>143</td>\n",
       "      <td>3</td>\n",
       "      <td>8</td>\n",
       "      <td>3</td>\n",
       "      <td>0</td>\n",
       "      <td>94.0</td>\n",
       "      <td>127.0</td>\n",
       "      <td>108.0</td>\n",
       "      <td>76.0</td>\n",
       "      <td>50.0</td>\n",
       "      <td>...</td>\n",
       "      <td>17.0</td>\n",
       "      <td>19.0</td>\n",
       "      <td>10.0</td>\n",
       "      <td>73.0</td>\n",
       "      <td>66.0</td>\n",
       "      <td>24.0</td>\n",
       "      <td>121.0</td>\n",
       "      <td>100.0</td>\n",
       "      <td>124.0</td>\n",
       "      <td>86.000000</td>\n",
       "    </tr>\n",
       "    <tr>\n",
       "      <th>2018-03-08 01:00:00</th>\n",
       "      <td>78</td>\n",
       "      <td>3</td>\n",
       "      <td>8</td>\n",
       "      <td>3</td>\n",
       "      <td>1</td>\n",
       "      <td>143.0</td>\n",
       "      <td>94.0</td>\n",
       "      <td>127.0</td>\n",
       "      <td>108.0</td>\n",
       "      <td>76.0</td>\n",
       "      <td>...</td>\n",
       "      <td>38.0</td>\n",
       "      <td>17.0</td>\n",
       "      <td>19.0</td>\n",
       "      <td>10.0</td>\n",
       "      <td>73.0</td>\n",
       "      <td>66.0</td>\n",
       "      <td>24.0</td>\n",
       "      <td>121.0</td>\n",
       "      <td>85.0</td>\n",
       "      <td>99.571429</td>\n",
       "    </tr>\n",
       "    <tr>\n",
       "      <th>2018-03-08 02:00:00</th>\n",
       "      <td>65</td>\n",
       "      <td>3</td>\n",
       "      <td>8</td>\n",
       "      <td>3</td>\n",
       "      <td>2</td>\n",
       "      <td>78.0</td>\n",
       "      <td>143.0</td>\n",
       "      <td>94.0</td>\n",
       "      <td>127.0</td>\n",
       "      <td>108.0</td>\n",
       "      <td>...</td>\n",
       "      <td>50.0</td>\n",
       "      <td>38.0</td>\n",
       "      <td>17.0</td>\n",
       "      <td>19.0</td>\n",
       "      <td>10.0</td>\n",
       "      <td>73.0</td>\n",
       "      <td>66.0</td>\n",
       "      <td>24.0</td>\n",
       "      <td>71.0</td>\n",
       "      <td>96.571429</td>\n",
       "    </tr>\n",
       "    <tr>\n",
       "      <th>2018-03-08 03:00:00</th>\n",
       "      <td>68</td>\n",
       "      <td>3</td>\n",
       "      <td>8</td>\n",
       "      <td>3</td>\n",
       "      <td>3</td>\n",
       "      <td>65.0</td>\n",
       "      <td>78.0</td>\n",
       "      <td>143.0</td>\n",
       "      <td>94.0</td>\n",
       "      <td>127.0</td>\n",
       "      <td>...</td>\n",
       "      <td>34.0</td>\n",
       "      <td>50.0</td>\n",
       "      <td>38.0</td>\n",
       "      <td>17.0</td>\n",
       "      <td>19.0</td>\n",
       "      <td>10.0</td>\n",
       "      <td>73.0</td>\n",
       "      <td>66.0</td>\n",
       "      <td>66.0</td>\n",
       "      <td>98.714286</td>\n",
       "    </tr>\n",
       "    <tr>\n",
       "      <th>2018-03-08 04:00:00</th>\n",
       "      <td>60</td>\n",
       "      <td>3</td>\n",
       "      <td>8</td>\n",
       "      <td>3</td>\n",
       "      <td>4</td>\n",
       "      <td>68.0</td>\n",
       "      <td>65.0</td>\n",
       "      <td>78.0</td>\n",
       "      <td>143.0</td>\n",
       "      <td>94.0</td>\n",
       "      <td>...</td>\n",
       "      <td>58.0</td>\n",
       "      <td>34.0</td>\n",
       "      <td>50.0</td>\n",
       "      <td>38.0</td>\n",
       "      <td>17.0</td>\n",
       "      <td>19.0</td>\n",
       "      <td>10.0</td>\n",
       "      <td>73.0</td>\n",
       "      <td>43.0</td>\n",
       "      <td>97.571429</td>\n",
       "    </tr>\n",
       "    <tr>\n",
       "      <th>...</th>\n",
       "      <td>...</td>\n",
       "      <td>...</td>\n",
       "      <td>...</td>\n",
       "      <td>...</td>\n",
       "      <td>...</td>\n",
       "      <td>...</td>\n",
       "      <td>...</td>\n",
       "      <td>...</td>\n",
       "      <td>...</td>\n",
       "      <td>...</td>\n",
       "      <td>...</td>\n",
       "      <td>...</td>\n",
       "      <td>...</td>\n",
       "      <td>...</td>\n",
       "      <td>...</td>\n",
       "      <td>...</td>\n",
       "      <td>...</td>\n",
       "      <td>...</td>\n",
       "      <td>...</td>\n",
       "      <td>...</td>\n",
       "      <td>...</td>\n",
       "    </tr>\n",
       "    <tr>\n",
       "      <th>2018-08-31 19:00:00</th>\n",
       "      <td>136</td>\n",
       "      <td>8</td>\n",
       "      <td>31</td>\n",
       "      <td>4</td>\n",
       "      <td>19</td>\n",
       "      <td>207.0</td>\n",
       "      <td>217.0</td>\n",
       "      <td>197.0</td>\n",
       "      <td>116.0</td>\n",
       "      <td>133.0</td>\n",
       "      <td>...</td>\n",
       "      <td>230.0</td>\n",
       "      <td>194.0</td>\n",
       "      <td>276.0</td>\n",
       "      <td>246.0</td>\n",
       "      <td>158.0</td>\n",
       "      <td>198.0</td>\n",
       "      <td>142.0</td>\n",
       "      <td>72.0</td>\n",
       "      <td>113.0</td>\n",
       "      <td>167.428571</td>\n",
       "    </tr>\n",
       "    <tr>\n",
       "      <th>2018-08-31 20:00:00</th>\n",
       "      <td>154</td>\n",
       "      <td>8</td>\n",
       "      <td>31</td>\n",
       "      <td>4</td>\n",
       "      <td>20</td>\n",
       "      <td>136.0</td>\n",
       "      <td>207.0</td>\n",
       "      <td>217.0</td>\n",
       "      <td>197.0</td>\n",
       "      <td>116.0</td>\n",
       "      <td>...</td>\n",
       "      <td>99.0</td>\n",
       "      <td>230.0</td>\n",
       "      <td>194.0</td>\n",
       "      <td>276.0</td>\n",
       "      <td>246.0</td>\n",
       "      <td>158.0</td>\n",
       "      <td>198.0</td>\n",
       "      <td>142.0</td>\n",
       "      <td>179.0</td>\n",
       "      <td>167.428571</td>\n",
       "    </tr>\n",
       "    <tr>\n",
       "      <th>2018-08-31 21:00:00</th>\n",
       "      <td>159</td>\n",
       "      <td>8</td>\n",
       "      <td>31</td>\n",
       "      <td>4</td>\n",
       "      <td>21</td>\n",
       "      <td>154.0</td>\n",
       "      <td>136.0</td>\n",
       "      <td>207.0</td>\n",
       "      <td>217.0</td>\n",
       "      <td>197.0</td>\n",
       "      <td>...</td>\n",
       "      <td>268.0</td>\n",
       "      <td>99.0</td>\n",
       "      <td>230.0</td>\n",
       "      <td>194.0</td>\n",
       "      <td>276.0</td>\n",
       "      <td>246.0</td>\n",
       "      <td>158.0</td>\n",
       "      <td>198.0</td>\n",
       "      <td>166.0</td>\n",
       "      <td>165.714286</td>\n",
       "    </tr>\n",
       "    <tr>\n",
       "      <th>2018-08-31 22:00:00</th>\n",
       "      <td>223</td>\n",
       "      <td>8</td>\n",
       "      <td>31</td>\n",
       "      <td>4</td>\n",
       "      <td>22</td>\n",
       "      <td>159.0</td>\n",
       "      <td>154.0</td>\n",
       "      <td>136.0</td>\n",
       "      <td>207.0</td>\n",
       "      <td>217.0</td>\n",
       "      <td>...</td>\n",
       "      <td>78.0</td>\n",
       "      <td>268.0</td>\n",
       "      <td>99.0</td>\n",
       "      <td>230.0</td>\n",
       "      <td>194.0</td>\n",
       "      <td>276.0</td>\n",
       "      <td>246.0</td>\n",
       "      <td>158.0</td>\n",
       "      <td>242.0</td>\n",
       "      <td>169.428571</td>\n",
       "    </tr>\n",
       "    <tr>\n",
       "      <th>2018-08-31 23:00:00</th>\n",
       "      <td>205</td>\n",
       "      <td>8</td>\n",
       "      <td>31</td>\n",
       "      <td>4</td>\n",
       "      <td>23</td>\n",
       "      <td>223.0</td>\n",
       "      <td>159.0</td>\n",
       "      <td>154.0</td>\n",
       "      <td>136.0</td>\n",
       "      <td>207.0</td>\n",
       "      <td>...</td>\n",
       "      <td>35.0</td>\n",
       "      <td>78.0</td>\n",
       "      <td>268.0</td>\n",
       "      <td>99.0</td>\n",
       "      <td>230.0</td>\n",
       "      <td>194.0</td>\n",
       "      <td>276.0</td>\n",
       "      <td>246.0</td>\n",
       "      <td>173.0</td>\n",
       "      <td>184.714286</td>\n",
       "    </tr>\n",
       "  </tbody>\n",
       "</table>\n",
       "<p>4248 rows × 31 columns</p>\n",
       "</div>"
      ],
      "text/plain": [
       "                     num_orders  month  day  dayofweek  hour  lag_1  lag_2  \\\n",
       "datetime                                                                     \n",
       "2018-03-08 00:00:00         143      3    8          3     0   94.0  127.0   \n",
       "2018-03-08 01:00:00          78      3    8          3     1  143.0   94.0   \n",
       "2018-03-08 02:00:00          65      3    8          3     2   78.0  143.0   \n",
       "2018-03-08 03:00:00          68      3    8          3     3   65.0   78.0   \n",
       "2018-03-08 04:00:00          60      3    8          3     4   68.0   65.0   \n",
       "...                         ...    ...  ...        ...   ...    ...    ...   \n",
       "2018-08-31 19:00:00         136      8   31          4    19  207.0  217.0   \n",
       "2018-08-31 20:00:00         154      8   31          4    20  136.0  207.0   \n",
       "2018-08-31 21:00:00         159      8   31          4    21  154.0  136.0   \n",
       "2018-08-31 22:00:00         223      8   31          4    22  159.0  154.0   \n",
       "2018-08-31 23:00:00         205      8   31          4    23  223.0  159.0   \n",
       "\n",
       "                     lag_3  lag_4  lag_5  ...  lag_17  lag_18  lag_19  lag_20  \\\n",
       "datetime                                  ...                                   \n",
       "2018-03-08 00:00:00  108.0   76.0   50.0  ...    17.0    19.0    10.0    73.0   \n",
       "2018-03-08 01:00:00  127.0  108.0   76.0  ...    38.0    17.0    19.0    10.0   \n",
       "2018-03-08 02:00:00   94.0  127.0  108.0  ...    50.0    38.0    17.0    19.0   \n",
       "2018-03-08 03:00:00  143.0   94.0  127.0  ...    34.0    50.0    38.0    17.0   \n",
       "2018-03-08 04:00:00   78.0  143.0   94.0  ...    58.0    34.0    50.0    38.0   \n",
       "...                    ...    ...    ...  ...     ...     ...     ...     ...   \n",
       "2018-08-31 19:00:00  197.0  116.0  133.0  ...   230.0   194.0   276.0   246.0   \n",
       "2018-08-31 20:00:00  217.0  197.0  116.0  ...    99.0   230.0   194.0   276.0   \n",
       "2018-08-31 21:00:00  207.0  217.0  197.0  ...   268.0    99.0   230.0   194.0   \n",
       "2018-08-31 22:00:00  136.0  207.0  217.0  ...    78.0   268.0    99.0   230.0   \n",
       "2018-08-31 23:00:00  154.0  136.0  207.0  ...    35.0    78.0   268.0    99.0   \n",
       "\n",
       "                     lag_21  lag_22  lag_23  lag_24  lag_168  rolling_mean  \n",
       "datetime                                                                    \n",
       "2018-03-08 00:00:00    66.0    24.0   121.0   100.0    124.0     86.000000  \n",
       "2018-03-08 01:00:00    73.0    66.0    24.0   121.0     85.0     99.571429  \n",
       "2018-03-08 02:00:00    10.0    73.0    66.0    24.0     71.0     96.571429  \n",
       "2018-03-08 03:00:00    19.0    10.0    73.0    66.0     66.0     98.714286  \n",
       "2018-03-08 04:00:00    17.0    19.0    10.0    73.0     43.0     97.571429  \n",
       "...                     ...     ...     ...     ...      ...           ...  \n",
       "2018-08-31 19:00:00   158.0   198.0   142.0    72.0    113.0    167.428571  \n",
       "2018-08-31 20:00:00   246.0   158.0   198.0   142.0    179.0    167.428571  \n",
       "2018-08-31 21:00:00   276.0   246.0   158.0   198.0    166.0    165.714286  \n",
       "2018-08-31 22:00:00   194.0   276.0   246.0   158.0    242.0    169.428571  \n",
       "2018-08-31 23:00:00   230.0   194.0   276.0   246.0    173.0    184.714286  \n",
       "\n",
       "[4248 rows x 31 columns]"
      ]
     },
     "execution_count": 32,
     "metadata": {},
     "output_type": "execute_result"
    }
   ],
   "source": [
    "for lag in range(1, 24 + 1):\n",
    "    data['lag_{}'.format(lag)] = data['num_orders'].shift(lag)\n",
    "\n",
    "data['lag_168'] = data['num_orders'].shift(168)\n",
    "\n",
    "data['rolling_mean'] = data['num_orders'].shift().rolling(7).mean()\n",
    "\n",
    "data = data.dropna()\n",
    "data"
   ]
  },
  {
   "cell_type": "markdown",
   "metadata": {},
   "source": [
    "### Промежуточные итоги"
   ]
  },
  {
   "cell_type": "markdown",
   "metadata": {},
   "source": [
    "Проведен анализ признаков, выявлено что наиболее влиятельными являются время заказа и день недели, потому что на этих графиках присутствуют места с явным увеличением количества заказов. Также добавлено 29 новых признаков на основании исследования."
   ]
  },
  {
   "cell_type": "markdown",
   "metadata": {},
   "source": [
    "## Обучение"
   ]
  },
  {
   "cell_type": "markdown",
   "metadata": {},
   "source": [
    "Приступим к шагу обучения моделей и разделим нашу выборку на тестовую и тренировочную выборки в соотношении 9:1, учитывая что это временной ряд(указав параметр shuffle=False)."
   ]
  },
  {
   "cell_type": "code",
   "execution_count": 33,
   "metadata": {},
   "outputs": [],
   "source": [
    "X_train, X_test_rand, y_train, y_test_rand = train_test_split(\n",
    "    data.drop([ 'num_orders'],\n",
    "                axis=1),\n",
    "    data['num_orders'],\n",
    "    test_size = 0.1,\n",
    "    shuffle=False)\n"
   ]
  },
  {
   "cell_type": "markdown",
   "metadata": {},
   "source": [
    "В пайплайне будут обучать следующие модели CatBoostRegressor, RandomForestRegressor и DecisionTreeRegressor."
   ]
  },
  {
   "cell_type": "code",
   "execution_count": 34,
   "metadata": {},
   "outputs": [],
   "source": [
    "ohe = ['month', 'day', 'dayofweek', 'hour']\n",
    "num = [f'lag_{i}' for i in range(1, 25)] + ['lag_168', 'rolling_mean']\n",
    "\n",
    "preprocessing = ColumnTransformer(\n",
    "    [\n",
    "        ('ohe', OneHotEncoder(drop='first', handle_unknown='ignore'), ohe),\n",
    "        ('num', MinMaxScaler(), num)\n",
    "    ], \n",
    "    remainder='passthrough'\n",
    ")\n",
    "\n",
    "final_p = Pipeline(\n",
    "    [\n",
    "        ('prep', preprocessing),\n",
    "        ('models', DecisionTreeRegressor(random_state=RANDOM_STATE))\n",
    "    ]\n",
    ")\n",
    "\n",
    "model_parametr = [\n",
    "    {\n",
    "       'models': [CatBoostRegressor(logging_level='Silent')],\n",
    "       'models__iterations': range(200, 301, 10),\n",
    "       'models__depth': range(2, 10),\n",
    "        'prep__num': [\n",
    "    StandardScaler(), \n",
    "    MinMaxScaler(),\n",
    "    RobustScaler(),\n",
    "    MaxAbsScaler()]\n",
    "        \n",
    "    },\n",
    "    {\n",
    "        'models': [RandomForestRegressor(random_state=RANDOM_STATE)],\n",
    "        'models__n_estimators': range(100, 201, 10),\n",
    "        'models__min_samples_split': range(2, 5),\n",
    "        'models__max_depth': range(2, 5),\n",
    "        'models__max_features': range(2, 8),\n",
    "        'prep__num': [\n",
    "    StandardScaler(), \n",
    "    MinMaxScaler(),\n",
    "    RobustScaler(),\n",
    "    MaxAbsScaler()]\n",
    "    },\n",
    "    {\n",
    "        'models': [DecisionTreeRegressor(random_state=RANDOM_STATE)],\n",
    "        'models__min_samples_split': range(2, 5),\n",
    "        'models__max_depth': range(2, 5),\n",
    "        'models__max_features': range(2, 8),\n",
    "        'prep__num': [StandardScaler(), \n",
    "    MinMaxScaler(),\n",
    "    RobustScaler(),\n",
    "    MaxAbsScaler()]       \n",
    "    }\n",
    "]"
   ]
  },
  {
   "cell_type": "code",
   "execution_count": 35,
   "metadata": {},
   "outputs": [],
   "source": [
    "tscv = TimeSeriesSplit(n_splits=5)\n",
    "\n",
    "grid =RandomizedSearchCV(\n",
    "    final_p, \n",
    "    model_parametr, \n",
    "    cv=tscv,\n",
    "    scoring = 'neg_root_mean_squared_error',\n",
    "    n_jobs=-1,\n",
    "    error_score = 0.1,\n",
    "    random_state=RANDOM_STATE\n",
    ")"
   ]
  },
  {
   "cell_type": "code",
   "execution_count": 36,
   "metadata": {
    "scrolled": true
   },
   "outputs": [
    {
     "name": "stderr",
     "output_type": "stream",
     "text": [
      "/opt/conda/lib/python3.9/site-packages/sklearn/preprocessing/_encoders.py:188: UserWarning: Found unknown categories in columns [1] during transform. These unknown categories will be encoded as all zeros\n",
      "  warnings.warn(\n",
      "/opt/conda/lib/python3.9/site-packages/sklearn/preprocessing/_encoders.py:188: UserWarning: Found unknown categories in columns [0] during transform. These unknown categories will be encoded as all zeros\n",
      "  warnings.warn(\n",
      "/opt/conda/lib/python3.9/site-packages/sklearn/preprocessing/_encoders.py:188: UserWarning: Found unknown categories in columns [0] during transform. These unknown categories will be encoded as all zeros\n",
      "  warnings.warn(\n",
      "/opt/conda/lib/python3.9/site-packages/sklearn/preprocessing/_encoders.py:188: UserWarning: Found unknown categories in columns [0] during transform. These unknown categories will be encoded as all zeros\n",
      "  warnings.warn(\n",
      "/opt/conda/lib/python3.9/site-packages/sklearn/preprocessing/_encoders.py:188: UserWarning: Found unknown categories in columns [0] during transform. These unknown categories will be encoded as all zeros\n",
      "  warnings.warn(\n",
      "/opt/conda/lib/python3.9/site-packages/sklearn/preprocessing/_encoders.py:188: UserWarning: Found unknown categories in columns [1] during transform. These unknown categories will be encoded as all zeros\n",
      "  warnings.warn(\n",
      "/opt/conda/lib/python3.9/site-packages/sklearn/preprocessing/_encoders.py:188: UserWarning: Found unknown categories in columns [0] during transform. These unknown categories will be encoded as all zeros\n",
      "  warnings.warn(\n",
      "/opt/conda/lib/python3.9/site-packages/sklearn/preprocessing/_encoders.py:188: UserWarning: Found unknown categories in columns [0] during transform. These unknown categories will be encoded as all zeros\n",
      "  warnings.warn(\n",
      "/opt/conda/lib/python3.9/site-packages/sklearn/preprocessing/_encoders.py:188: UserWarning: Found unknown categories in columns [0] during transform. These unknown categories will be encoded as all zeros\n",
      "  warnings.warn(\n",
      "/opt/conda/lib/python3.9/site-packages/sklearn/preprocessing/_encoders.py:188: UserWarning: Found unknown categories in columns [0] during transform. These unknown categories will be encoded as all zeros\n",
      "  warnings.warn(\n",
      "/opt/conda/lib/python3.9/site-packages/sklearn/preprocessing/_encoders.py:188: UserWarning: Found unknown categories in columns [1] during transform. These unknown categories will be encoded as all zeros\n",
      "  warnings.warn(\n",
      "/opt/conda/lib/python3.9/site-packages/sklearn/preprocessing/_encoders.py:188: UserWarning: Found unknown categories in columns [0] during transform. These unknown categories will be encoded as all zeros\n",
      "  warnings.warn(\n",
      "/opt/conda/lib/python3.9/site-packages/sklearn/preprocessing/_encoders.py:188: UserWarning: Found unknown categories in columns [0] during transform. These unknown categories will be encoded as all zeros\n",
      "  warnings.warn(\n",
      "/opt/conda/lib/python3.9/site-packages/sklearn/preprocessing/_encoders.py:188: UserWarning: Found unknown categories in columns [0] during transform. These unknown categories will be encoded as all zeros\n",
      "  warnings.warn(\n",
      "/opt/conda/lib/python3.9/site-packages/sklearn/preprocessing/_encoders.py:188: UserWarning: Found unknown categories in columns [0] during transform. These unknown categories will be encoded as all zeros\n",
      "  warnings.warn(\n",
      "/opt/conda/lib/python3.9/site-packages/sklearn/preprocessing/_encoders.py:188: UserWarning: Found unknown categories in columns [1] during transform. These unknown categories will be encoded as all zeros\n",
      "  warnings.warn(\n",
      "/opt/conda/lib/python3.9/site-packages/sklearn/preprocessing/_encoders.py:188: UserWarning: Found unknown categories in columns [0] during transform. These unknown categories will be encoded as all zeros\n",
      "  warnings.warn(\n",
      "/opt/conda/lib/python3.9/site-packages/sklearn/preprocessing/_encoders.py:188: UserWarning: Found unknown categories in columns [0] during transform. These unknown categories will be encoded as all zeros\n",
      "  warnings.warn(\n",
      "/opt/conda/lib/python3.9/site-packages/sklearn/preprocessing/_encoders.py:188: UserWarning: Found unknown categories in columns [0] during transform. These unknown categories will be encoded as all zeros\n",
      "  warnings.warn(\n",
      "/opt/conda/lib/python3.9/site-packages/sklearn/preprocessing/_encoders.py:188: UserWarning: Found unknown categories in columns [0] during transform. These unknown categories will be encoded as all zeros\n",
      "  warnings.warn(\n",
      "/opt/conda/lib/python3.9/site-packages/sklearn/preprocessing/_encoders.py:188: UserWarning: Found unknown categories in columns [1] during transform. These unknown categories will be encoded as all zeros\n",
      "  warnings.warn(\n",
      "/opt/conda/lib/python3.9/site-packages/sklearn/preprocessing/_encoders.py:188: UserWarning: Found unknown categories in columns [0] during transform. These unknown categories will be encoded as all zeros\n",
      "  warnings.warn(\n",
      "/opt/conda/lib/python3.9/site-packages/sklearn/preprocessing/_encoders.py:188: UserWarning: Found unknown categories in columns [0] during transform. These unknown categories will be encoded as all zeros\n",
      "  warnings.warn(\n",
      "/opt/conda/lib/python3.9/site-packages/sklearn/preprocessing/_encoders.py:188: UserWarning: Found unknown categories in columns [0] during transform. These unknown categories will be encoded as all zeros\n",
      "  warnings.warn(\n",
      "/opt/conda/lib/python3.9/site-packages/sklearn/preprocessing/_encoders.py:188: UserWarning: Found unknown categories in columns [0] during transform. These unknown categories will be encoded as all zeros\n",
      "  warnings.warn(\n",
      "/opt/conda/lib/python3.9/site-packages/sklearn/preprocessing/_encoders.py:188: UserWarning: Found unknown categories in columns [1] during transform. These unknown categories will be encoded as all zeros\n",
      "  warnings.warn(\n",
      "/opt/conda/lib/python3.9/site-packages/sklearn/preprocessing/_encoders.py:188: UserWarning: Found unknown categories in columns [0] during transform. These unknown categories will be encoded as all zeros\n",
      "  warnings.warn(\n",
      "/opt/conda/lib/python3.9/site-packages/sklearn/preprocessing/_encoders.py:188: UserWarning: Found unknown categories in columns [0] during transform. These unknown categories will be encoded as all zeros\n",
      "  warnings.warn(\n",
      "/opt/conda/lib/python3.9/site-packages/sklearn/preprocessing/_encoders.py:188: UserWarning: Found unknown categories in columns [0] during transform. These unknown categories will be encoded as all zeros\n",
      "  warnings.warn(\n",
      "/opt/conda/lib/python3.9/site-packages/sklearn/preprocessing/_encoders.py:188: UserWarning: Found unknown categories in columns [0] during transform. These unknown categories will be encoded as all zeros\n",
      "  warnings.warn(\n",
      "/opt/conda/lib/python3.9/site-packages/sklearn/preprocessing/_encoders.py:188: UserWarning: Found unknown categories in columns [1] during transform. These unknown categories will be encoded as all zeros\n",
      "  warnings.warn(\n",
      "/opt/conda/lib/python3.9/site-packages/sklearn/preprocessing/_encoders.py:188: UserWarning: Found unknown categories in columns [0] during transform. These unknown categories will be encoded as all zeros\n",
      "  warnings.warn(\n",
      "/opt/conda/lib/python3.9/site-packages/sklearn/preprocessing/_encoders.py:188: UserWarning: Found unknown categories in columns [0] during transform. These unknown categories will be encoded as all zeros\n",
      "  warnings.warn(\n",
      "/opt/conda/lib/python3.9/site-packages/sklearn/preprocessing/_encoders.py:188: UserWarning: Found unknown categories in columns [0] during transform. These unknown categories will be encoded as all zeros\n",
      "  warnings.warn(\n",
      "/opt/conda/lib/python3.9/site-packages/sklearn/preprocessing/_encoders.py:188: UserWarning: Found unknown categories in columns [0] during transform. These unknown categories will be encoded as all zeros\n",
      "  warnings.warn(\n",
      "/opt/conda/lib/python3.9/site-packages/sklearn/preprocessing/_encoders.py:188: UserWarning: Found unknown categories in columns [1] during transform. These unknown categories will be encoded as all zeros\n",
      "  warnings.warn(\n",
      "/opt/conda/lib/python3.9/site-packages/sklearn/preprocessing/_encoders.py:188: UserWarning: Found unknown categories in columns [0] during transform. These unknown categories will be encoded as all zeros\n",
      "  warnings.warn(\n",
      "/opt/conda/lib/python3.9/site-packages/sklearn/preprocessing/_encoders.py:188: UserWarning: Found unknown categories in columns [0] during transform. These unknown categories will be encoded as all zeros\n",
      "  warnings.warn(\n",
      "/opt/conda/lib/python3.9/site-packages/sklearn/preprocessing/_encoders.py:188: UserWarning: Found unknown categories in columns [0] during transform. These unknown categories will be encoded as all zeros\n",
      "  warnings.warn(\n",
      "/opt/conda/lib/python3.9/site-packages/sklearn/preprocessing/_encoders.py:188: UserWarning: Found unknown categories in columns [0] during transform. These unknown categories will be encoded as all zeros\n",
      "  warnings.warn(\n",
      "/opt/conda/lib/python3.9/site-packages/sklearn/preprocessing/_encoders.py:188: UserWarning: Found unknown categories in columns [1] during transform. These unknown categories will be encoded as all zeros\n",
      "  warnings.warn(\n",
      "/opt/conda/lib/python3.9/site-packages/sklearn/preprocessing/_encoders.py:188: UserWarning: Found unknown categories in columns [0] during transform. These unknown categories will be encoded as all zeros\n",
      "  warnings.warn(\n",
      "/opt/conda/lib/python3.9/site-packages/sklearn/preprocessing/_encoders.py:188: UserWarning: Found unknown categories in columns [0] during transform. These unknown categories will be encoded as all zeros\n",
      "  warnings.warn(\n",
      "/opt/conda/lib/python3.9/site-packages/sklearn/preprocessing/_encoders.py:188: UserWarning: Found unknown categories in columns [0] during transform. These unknown categories will be encoded as all zeros\n",
      "  warnings.warn(\n",
      "/opt/conda/lib/python3.9/site-packages/sklearn/preprocessing/_encoders.py:188: UserWarning: Found unknown categories in columns [0] during transform. These unknown categories will be encoded as all zeros\n",
      "  warnings.warn(\n",
      "/opt/conda/lib/python3.9/site-packages/sklearn/preprocessing/_encoders.py:188: UserWarning: Found unknown categories in columns [1] during transform. These unknown categories will be encoded as all zeros\n",
      "  warnings.warn(\n",
      "/opt/conda/lib/python3.9/site-packages/sklearn/preprocessing/_encoders.py:188: UserWarning: Found unknown categories in columns [0] during transform. These unknown categories will be encoded as all zeros\n",
      "  warnings.warn(\n",
      "/opt/conda/lib/python3.9/site-packages/sklearn/preprocessing/_encoders.py:188: UserWarning: Found unknown categories in columns [0] during transform. These unknown categories will be encoded as all zeros\n",
      "  warnings.warn(\n",
      "/opt/conda/lib/python3.9/site-packages/sklearn/preprocessing/_encoders.py:188: UserWarning: Found unknown categories in columns [0] during transform. These unknown categories will be encoded as all zeros\n",
      "  warnings.warn(\n",
      "/opt/conda/lib/python3.9/site-packages/sklearn/preprocessing/_encoders.py:188: UserWarning: Found unknown categories in columns [0] during transform. These unknown categories will be encoded as all zeros\n",
      "  warnings.warn(\n"
     ]
    },
    {
     "data": {
      "text/html": [
       "<style>#sk-container-id-1 {color: black;background-color: white;}#sk-container-id-1 pre{padding: 0;}#sk-container-id-1 div.sk-toggleable {background-color: white;}#sk-container-id-1 label.sk-toggleable__label {cursor: pointer;display: block;width: 100%;margin-bottom: 0;padding: 0.3em;box-sizing: border-box;text-align: center;}#sk-container-id-1 label.sk-toggleable__label-arrow:before {content: \"▸\";float: left;margin-right: 0.25em;color: #696969;}#sk-container-id-1 label.sk-toggleable__label-arrow:hover:before {color: black;}#sk-container-id-1 div.sk-estimator:hover label.sk-toggleable__label-arrow:before {color: black;}#sk-container-id-1 div.sk-toggleable__content {max-height: 0;max-width: 0;overflow: hidden;text-align: left;background-color: #f0f8ff;}#sk-container-id-1 div.sk-toggleable__content pre {margin: 0.2em;color: black;border-radius: 0.25em;background-color: #f0f8ff;}#sk-container-id-1 input.sk-toggleable__control:checked~div.sk-toggleable__content {max-height: 200px;max-width: 100%;overflow: auto;}#sk-container-id-1 input.sk-toggleable__control:checked~label.sk-toggleable__label-arrow:before {content: \"▾\";}#sk-container-id-1 div.sk-estimator input.sk-toggleable__control:checked~label.sk-toggleable__label {background-color: #d4ebff;}#sk-container-id-1 div.sk-label input.sk-toggleable__control:checked~label.sk-toggleable__label {background-color: #d4ebff;}#sk-container-id-1 input.sk-hidden--visually {border: 0;clip: rect(1px 1px 1px 1px);clip: rect(1px, 1px, 1px, 1px);height: 1px;margin: -1px;overflow: hidden;padding: 0;position: absolute;width: 1px;}#sk-container-id-1 div.sk-estimator {font-family: monospace;background-color: #f0f8ff;border: 1px dotted black;border-radius: 0.25em;box-sizing: border-box;margin-bottom: 0.5em;}#sk-container-id-1 div.sk-estimator:hover {background-color: #d4ebff;}#sk-container-id-1 div.sk-parallel-item::after {content: \"\";width: 100%;border-bottom: 1px solid gray;flex-grow: 1;}#sk-container-id-1 div.sk-label:hover label.sk-toggleable__label {background-color: #d4ebff;}#sk-container-id-1 div.sk-serial::before {content: \"\";position: absolute;border-left: 1px solid gray;box-sizing: border-box;top: 0;bottom: 0;left: 50%;z-index: 0;}#sk-container-id-1 div.sk-serial {display: flex;flex-direction: column;align-items: center;background-color: white;padding-right: 0.2em;padding-left: 0.2em;position: relative;}#sk-container-id-1 div.sk-item {position: relative;z-index: 1;}#sk-container-id-1 div.sk-parallel {display: flex;align-items: stretch;justify-content: center;background-color: white;position: relative;}#sk-container-id-1 div.sk-item::before, #sk-container-id-1 div.sk-parallel-item::before {content: \"\";position: absolute;border-left: 1px solid gray;box-sizing: border-box;top: 0;bottom: 0;left: 50%;z-index: -1;}#sk-container-id-1 div.sk-parallel-item {display: flex;flex-direction: column;z-index: 1;position: relative;background-color: white;}#sk-container-id-1 div.sk-parallel-item:first-child::after {align-self: flex-end;width: 50%;}#sk-container-id-1 div.sk-parallel-item:last-child::after {align-self: flex-start;width: 50%;}#sk-container-id-1 div.sk-parallel-item:only-child::after {width: 0;}#sk-container-id-1 div.sk-dashed-wrapped {border: 1px dashed gray;margin: 0 0.4em 0.5em 0.4em;box-sizing: border-box;padding-bottom: 0.4em;background-color: white;}#sk-container-id-1 div.sk-label label {font-family: monospace;font-weight: bold;display: inline-block;line-height: 1.2em;}#sk-container-id-1 div.sk-label-container {text-align: center;}#sk-container-id-1 div.sk-container {/* jupyter's `normalize.less` sets `[hidden] { display: none; }` but bootstrap.min.css set `[hidden] { display: none !important; }` so we also need the `!important` here to be able to override the default hidden behavior on the sphinx rendered scikit-learn.org. See: https://github.com/scikit-learn/scikit-learn/issues/21755 */display: inline-block !important;position: relative;}#sk-container-id-1 div.sk-text-repr-fallback {display: none;}</style><div id=\"sk-container-id-1\" class=\"sk-top-container\"><div class=\"sk-text-repr-fallback\"><pre>RandomizedSearchCV(cv=TimeSeriesSplit(gap=0, max_train_size=None, n_splits=5, test_size=None),\n",
       "                   error_score=0.1,\n",
       "                   estimator=Pipeline(steps=[(&#x27;prep&#x27;,\n",
       "                                              ColumnTransformer(remainder=&#x27;passthrough&#x27;,\n",
       "                                                                transformers=[(&#x27;ohe&#x27;,\n",
       "                                                                               OneHotEncoder(drop=&#x27;first&#x27;,\n",
       "                                                                                             handle_unknown=&#x27;ignore&#x27;),\n",
       "                                                                               [&#x27;month&#x27;,\n",
       "                                                                                &#x27;day&#x27;,\n",
       "                                                                                &#x27;dayofweek&#x27;,\n",
       "                                                                                &#x27;hour&#x27;]),\n",
       "                                                                              (&#x27;num&#x27;,\n",
       "                                                                               MinMaxScaler(),\n",
       "                                                                               [&#x27;lag_1&#x27;,\n",
       "                                                                                &#x27;lag_2&#x27;,\n",
       "                                                                                &#x27;lag_3&#x27;,\n",
       "                                                                                &#x27;lag_4&#x27;,\n",
       "                                                                                &#x27;la...\n",
       "                                         &#x27;prep__num&#x27;: [StandardScaler(),\n",
       "                                                       MinMaxScaler(),\n",
       "                                                       RobustScaler(),\n",
       "                                                       MaxAbsScaler()]},\n",
       "                                        {&#x27;models&#x27;: [DecisionTreeRegressor(random_state=73)],\n",
       "                                         &#x27;models__max_depth&#x27;: range(2, 5),\n",
       "                                         &#x27;models__max_features&#x27;: range(2, 8),\n",
       "                                         &#x27;models__min_samples_split&#x27;: range(2, 5),\n",
       "                                         &#x27;prep__num&#x27;: [StandardScaler(),\n",
       "                                                       MinMaxScaler(),\n",
       "                                                       RobustScaler(),\n",
       "                                                       MaxAbsScaler()]}],\n",
       "                   random_state=73, scoring=&#x27;neg_root_mean_squared_error&#x27;)</pre><b>In a Jupyter environment, please rerun this cell to show the HTML representation or trust the notebook. <br />On GitHub, the HTML representation is unable to render, please try loading this page with nbviewer.org.</b></div><div class=\"sk-container\" hidden><div class=\"sk-item sk-dashed-wrapped\"><div class=\"sk-label-container\"><div class=\"sk-label sk-toggleable\"><input class=\"sk-toggleable__control sk-hidden--visually\" id=\"sk-estimator-id-1\" type=\"checkbox\" ><label for=\"sk-estimator-id-1\" class=\"sk-toggleable__label sk-toggleable__label-arrow\">RandomizedSearchCV</label><div class=\"sk-toggleable__content\"><pre>RandomizedSearchCV(cv=TimeSeriesSplit(gap=0, max_train_size=None, n_splits=5, test_size=None),\n",
       "                   error_score=0.1,\n",
       "                   estimator=Pipeline(steps=[(&#x27;prep&#x27;,\n",
       "                                              ColumnTransformer(remainder=&#x27;passthrough&#x27;,\n",
       "                                                                transformers=[(&#x27;ohe&#x27;,\n",
       "                                                                               OneHotEncoder(drop=&#x27;first&#x27;,\n",
       "                                                                                             handle_unknown=&#x27;ignore&#x27;),\n",
       "                                                                               [&#x27;month&#x27;,\n",
       "                                                                                &#x27;day&#x27;,\n",
       "                                                                                &#x27;dayofweek&#x27;,\n",
       "                                                                                &#x27;hour&#x27;]),\n",
       "                                                                              (&#x27;num&#x27;,\n",
       "                                                                               MinMaxScaler(),\n",
       "                                                                               [&#x27;lag_1&#x27;,\n",
       "                                                                                &#x27;lag_2&#x27;,\n",
       "                                                                                &#x27;lag_3&#x27;,\n",
       "                                                                                &#x27;lag_4&#x27;,\n",
       "                                                                                &#x27;la...\n",
       "                                         &#x27;prep__num&#x27;: [StandardScaler(),\n",
       "                                                       MinMaxScaler(),\n",
       "                                                       RobustScaler(),\n",
       "                                                       MaxAbsScaler()]},\n",
       "                                        {&#x27;models&#x27;: [DecisionTreeRegressor(random_state=73)],\n",
       "                                         &#x27;models__max_depth&#x27;: range(2, 5),\n",
       "                                         &#x27;models__max_features&#x27;: range(2, 8),\n",
       "                                         &#x27;models__min_samples_split&#x27;: range(2, 5),\n",
       "                                         &#x27;prep__num&#x27;: [StandardScaler(),\n",
       "                                                       MinMaxScaler(),\n",
       "                                                       RobustScaler(),\n",
       "                                                       MaxAbsScaler()]}],\n",
       "                   random_state=73, scoring=&#x27;neg_root_mean_squared_error&#x27;)</pre></div></div></div><div class=\"sk-parallel\"><div class=\"sk-parallel-item\"><div class=\"sk-item\"><div class=\"sk-label-container\"><div class=\"sk-label sk-toggleable\"><input class=\"sk-toggleable__control sk-hidden--visually\" id=\"sk-estimator-id-2\" type=\"checkbox\" ><label for=\"sk-estimator-id-2\" class=\"sk-toggleable__label sk-toggleable__label-arrow\">estimator: Pipeline</label><div class=\"sk-toggleable__content\"><pre>Pipeline(steps=[(&#x27;prep&#x27;,\n",
       "                 ColumnTransformer(remainder=&#x27;passthrough&#x27;,\n",
       "                                   transformers=[(&#x27;ohe&#x27;,\n",
       "                                                  OneHotEncoder(drop=&#x27;first&#x27;,\n",
       "                                                                handle_unknown=&#x27;ignore&#x27;),\n",
       "                                                  [&#x27;month&#x27;, &#x27;day&#x27;, &#x27;dayofweek&#x27;,\n",
       "                                                   &#x27;hour&#x27;]),\n",
       "                                                 (&#x27;num&#x27;, MinMaxScaler(),\n",
       "                                                  [&#x27;lag_1&#x27;, &#x27;lag_2&#x27;, &#x27;lag_3&#x27;,\n",
       "                                                   &#x27;lag_4&#x27;, &#x27;lag_5&#x27;, &#x27;lag_6&#x27;,\n",
       "                                                   &#x27;lag_7&#x27;, &#x27;lag_8&#x27;, &#x27;lag_9&#x27;,\n",
       "                                                   &#x27;lag_10&#x27;, &#x27;lag_11&#x27;, &#x27;lag_12&#x27;,\n",
       "                                                   &#x27;lag_13&#x27;, &#x27;lag_14&#x27;, &#x27;lag_15&#x27;,\n",
       "                                                   &#x27;lag_16&#x27;, &#x27;lag_17&#x27;, &#x27;lag_18&#x27;,\n",
       "                                                   &#x27;lag_19&#x27;, &#x27;lag_20&#x27;, &#x27;lag_21&#x27;,\n",
       "                                                   &#x27;lag_22&#x27;, &#x27;lag_23&#x27;, &#x27;lag_24&#x27;,\n",
       "                                                   &#x27;lag_168&#x27;,\n",
       "                                                   &#x27;rolling_mean&#x27;])])),\n",
       "                (&#x27;models&#x27;, DecisionTreeRegressor(random_state=73))])</pre></div></div></div><div class=\"sk-serial\"><div class=\"sk-item\"><div class=\"sk-serial\"><div class=\"sk-item sk-dashed-wrapped\"><div class=\"sk-label-container\"><div class=\"sk-label sk-toggleable\"><input class=\"sk-toggleable__control sk-hidden--visually\" id=\"sk-estimator-id-3\" type=\"checkbox\" ><label for=\"sk-estimator-id-3\" class=\"sk-toggleable__label sk-toggleable__label-arrow\">prep: ColumnTransformer</label><div class=\"sk-toggleable__content\"><pre>ColumnTransformer(remainder=&#x27;passthrough&#x27;,\n",
       "                  transformers=[(&#x27;ohe&#x27;,\n",
       "                                 OneHotEncoder(drop=&#x27;first&#x27;,\n",
       "                                               handle_unknown=&#x27;ignore&#x27;),\n",
       "                                 [&#x27;month&#x27;, &#x27;day&#x27;, &#x27;dayofweek&#x27;, &#x27;hour&#x27;]),\n",
       "                                (&#x27;num&#x27;, MinMaxScaler(),\n",
       "                                 [&#x27;lag_1&#x27;, &#x27;lag_2&#x27;, &#x27;lag_3&#x27;, &#x27;lag_4&#x27;, &#x27;lag_5&#x27;,\n",
       "                                  &#x27;lag_6&#x27;, &#x27;lag_7&#x27;, &#x27;lag_8&#x27;, &#x27;lag_9&#x27;, &#x27;lag_10&#x27;,\n",
       "                                  &#x27;lag_11&#x27;, &#x27;lag_12&#x27;, &#x27;lag_13&#x27;, &#x27;lag_14&#x27;,\n",
       "                                  &#x27;lag_15&#x27;, &#x27;lag_16&#x27;, &#x27;lag_17&#x27;, &#x27;lag_18&#x27;,\n",
       "                                  &#x27;lag_19&#x27;, &#x27;lag_20&#x27;, &#x27;lag_21&#x27;, &#x27;lag_22&#x27;,\n",
       "                                  &#x27;lag_23&#x27;, &#x27;lag_24&#x27;, &#x27;lag_168&#x27;,\n",
       "                                  &#x27;rolling_mean&#x27;])])</pre></div></div></div><div class=\"sk-parallel\"><div class=\"sk-parallel-item\"><div class=\"sk-item\"><div class=\"sk-label-container\"><div class=\"sk-label sk-toggleable\"><input class=\"sk-toggleable__control sk-hidden--visually\" id=\"sk-estimator-id-4\" type=\"checkbox\" ><label for=\"sk-estimator-id-4\" class=\"sk-toggleable__label sk-toggleable__label-arrow\">ohe</label><div class=\"sk-toggleable__content\"><pre>[&#x27;month&#x27;, &#x27;day&#x27;, &#x27;dayofweek&#x27;, &#x27;hour&#x27;]</pre></div></div></div><div class=\"sk-serial\"><div class=\"sk-item\"><div class=\"sk-estimator sk-toggleable\"><input class=\"sk-toggleable__control sk-hidden--visually\" id=\"sk-estimator-id-5\" type=\"checkbox\" ><label for=\"sk-estimator-id-5\" class=\"sk-toggleable__label sk-toggleable__label-arrow\">OneHotEncoder</label><div class=\"sk-toggleable__content\"><pre>OneHotEncoder(drop=&#x27;first&#x27;, handle_unknown=&#x27;ignore&#x27;)</pre></div></div></div></div></div></div><div class=\"sk-parallel-item\"><div class=\"sk-item\"><div class=\"sk-label-container\"><div class=\"sk-label sk-toggleable\"><input class=\"sk-toggleable__control sk-hidden--visually\" id=\"sk-estimator-id-6\" type=\"checkbox\" ><label for=\"sk-estimator-id-6\" class=\"sk-toggleable__label sk-toggleable__label-arrow\">num</label><div class=\"sk-toggleable__content\"><pre>[&#x27;lag_1&#x27;, &#x27;lag_2&#x27;, &#x27;lag_3&#x27;, &#x27;lag_4&#x27;, &#x27;lag_5&#x27;, &#x27;lag_6&#x27;, &#x27;lag_7&#x27;, &#x27;lag_8&#x27;, &#x27;lag_9&#x27;, &#x27;lag_10&#x27;, &#x27;lag_11&#x27;, &#x27;lag_12&#x27;, &#x27;lag_13&#x27;, &#x27;lag_14&#x27;, &#x27;lag_15&#x27;, &#x27;lag_16&#x27;, &#x27;lag_17&#x27;, &#x27;lag_18&#x27;, &#x27;lag_19&#x27;, &#x27;lag_20&#x27;, &#x27;lag_21&#x27;, &#x27;lag_22&#x27;, &#x27;lag_23&#x27;, &#x27;lag_24&#x27;, &#x27;lag_168&#x27;, &#x27;rolling_mean&#x27;]</pre></div></div></div><div class=\"sk-serial\"><div class=\"sk-item\"><div class=\"sk-estimator sk-toggleable\"><input class=\"sk-toggleable__control sk-hidden--visually\" id=\"sk-estimator-id-7\" type=\"checkbox\" ><label for=\"sk-estimator-id-7\" class=\"sk-toggleable__label sk-toggleable__label-arrow\">MinMaxScaler</label><div class=\"sk-toggleable__content\"><pre>MinMaxScaler()</pre></div></div></div></div></div></div><div class=\"sk-parallel-item\"><div class=\"sk-item\"><div class=\"sk-label-container\"><div class=\"sk-label sk-toggleable\"><input class=\"sk-toggleable__control sk-hidden--visually\" id=\"sk-estimator-id-8\" type=\"checkbox\" ><label for=\"sk-estimator-id-8\" class=\"sk-toggleable__label sk-toggleable__label-arrow\">remainder</label><div class=\"sk-toggleable__content\"><pre></pre></div></div></div><div class=\"sk-serial\"><div class=\"sk-item\"><div class=\"sk-estimator sk-toggleable\"><input class=\"sk-toggleable__control sk-hidden--visually\" id=\"sk-estimator-id-9\" type=\"checkbox\" ><label for=\"sk-estimator-id-9\" class=\"sk-toggleable__label sk-toggleable__label-arrow\">passthrough</label><div class=\"sk-toggleable__content\"><pre>passthrough</pre></div></div></div></div></div></div></div></div><div class=\"sk-item\"><div class=\"sk-estimator sk-toggleable\"><input class=\"sk-toggleable__control sk-hidden--visually\" id=\"sk-estimator-id-10\" type=\"checkbox\" ><label for=\"sk-estimator-id-10\" class=\"sk-toggleable__label sk-toggleable__label-arrow\">DecisionTreeRegressor</label><div class=\"sk-toggleable__content\"><pre>DecisionTreeRegressor(random_state=73)</pre></div></div></div></div></div></div></div></div></div></div></div></div>"
      ],
      "text/plain": [
       "RandomizedSearchCV(cv=TimeSeriesSplit(gap=0, max_train_size=None, n_splits=5, test_size=None),\n",
       "                   error_score=0.1,\n",
       "                   estimator=Pipeline(steps=[('prep',\n",
       "                                              ColumnTransformer(remainder='passthrough',\n",
       "                                                                transformers=[('ohe',\n",
       "                                                                               OneHotEncoder(drop='first',\n",
       "                                                                                             handle_unknown='ignore'),\n",
       "                                                                               ['month',\n",
       "                                                                                'day',\n",
       "                                                                                'dayofweek',\n",
       "                                                                                'hour']),\n",
       "                                                                              ('num',\n",
       "                                                                               MinMaxScaler(),\n",
       "                                                                               ['lag_1',\n",
       "                                                                                'lag_2',\n",
       "                                                                                'lag_3',\n",
       "                                                                                'lag_4',\n",
       "                                                                                'la...\n",
       "                                         'prep__num': [StandardScaler(),\n",
       "                                                       MinMaxScaler(),\n",
       "                                                       RobustScaler(),\n",
       "                                                       MaxAbsScaler()]},\n",
       "                                        {'models': [DecisionTreeRegressor(random_state=73)],\n",
       "                                         'models__max_depth': range(2, 5),\n",
       "                                         'models__max_features': range(2, 8),\n",
       "                                         'models__min_samples_split': range(2, 5),\n",
       "                                         'prep__num': [StandardScaler(),\n",
       "                                                       MinMaxScaler(),\n",
       "                                                       RobustScaler(),\n",
       "                                                       MaxAbsScaler()]}],\n",
       "                   random_state=73, scoring='neg_root_mean_squared_error')"
      ]
     },
     "execution_count": 36,
     "metadata": {},
     "output_type": "execute_result"
    }
   ],
   "source": [
    "grid.fit(X_train, y_train)"
   ]
  },
  {
   "cell_type": "code",
   "execution_count": 37,
   "metadata": {},
   "outputs": [
    {
     "data": {
      "text/html": [
       "<div>\n",
       "<style scoped>\n",
       "    .dataframe tbody tr th:only-of-type {\n",
       "        vertical-align: middle;\n",
       "    }\n",
       "\n",
       "    .dataframe tbody tr th {\n",
       "        vertical-align: top;\n",
       "    }\n",
       "\n",
       "    .dataframe thead th {\n",
       "        text-align: right;\n",
       "    }\n",
       "</style>\n",
       "<table border=\"1\" class=\"dataframe\">\n",
       "  <thead>\n",
       "    <tr style=\"text-align: right;\">\n",
       "      <th></th>\n",
       "      <th>rank_test_score</th>\n",
       "      <th>mean_test_score</th>\n",
       "      <th>param_models</th>\n",
       "      <th>params</th>\n",
       "    </tr>\n",
       "  </thead>\n",
       "  <tbody>\n",
       "    <tr>\n",
       "      <th>1</th>\n",
       "      <td>1</td>\n",
       "      <td>-23.239248</td>\n",
       "      <td>&lt;catboost.core.CatBoostRegressor object at 0x7...</td>\n",
       "      <td>{'prep__num': RobustScaler(), 'models__iterati...</td>\n",
       "    </tr>\n",
       "    <tr>\n",
       "      <th>4</th>\n",
       "      <td>2</td>\n",
       "      <td>-23.620950</td>\n",
       "      <td>&lt;catboost.core.CatBoostRegressor object at 0x7...</td>\n",
       "      <td>{'prep__num': MaxAbsScaler(), 'models__iterati...</td>\n",
       "    </tr>\n",
       "    <tr>\n",
       "      <th>5</th>\n",
       "      <td>3</td>\n",
       "      <td>-23.621154</td>\n",
       "      <td>&lt;catboost.core.CatBoostRegressor object at 0x7...</td>\n",
       "      <td>{'prep__num': MinMaxScaler(), 'models__iterati...</td>\n",
       "    </tr>\n",
       "    <tr>\n",
       "      <th>6</th>\n",
       "      <td>4</td>\n",
       "      <td>-33.374132</td>\n",
       "      <td>RandomForestRegressor(random_state=73)</td>\n",
       "      <td>{'prep__num': RobustScaler(), 'models__n_estim...</td>\n",
       "    </tr>\n",
       "    <tr>\n",
       "      <th>3</th>\n",
       "      <td>5</td>\n",
       "      <td>-35.105706</td>\n",
       "      <td>RandomForestRegressor(random_state=73)</td>\n",
       "      <td>{'prep__num': StandardScaler(), 'models__n_est...</td>\n",
       "    </tr>\n",
       "    <tr>\n",
       "      <th>0</th>\n",
       "      <td>6</td>\n",
       "      <td>-35.467146</td>\n",
       "      <td>RandomForestRegressor(random_state=73)</td>\n",
       "      <td>{'prep__num': RobustScaler(), 'models__n_estim...</td>\n",
       "    </tr>\n",
       "    <tr>\n",
       "      <th>9</th>\n",
       "      <td>7</td>\n",
       "      <td>-35.866113</td>\n",
       "      <td>RandomForestRegressor(random_state=73)</td>\n",
       "      <td>{'prep__num': MinMaxScaler(), 'models__n_estim...</td>\n",
       "    </tr>\n",
       "    <tr>\n",
       "      <th>2</th>\n",
       "      <td>8</td>\n",
       "      <td>-38.264439</td>\n",
       "      <td>RandomForestRegressor(random_state=73)</td>\n",
       "      <td>{'prep__num': RobustScaler(), 'models__n_estim...</td>\n",
       "    </tr>\n",
       "    <tr>\n",
       "      <th>7</th>\n",
       "      <td>9</td>\n",
       "      <td>-38.338181</td>\n",
       "      <td>RandomForestRegressor(random_state=73)</td>\n",
       "      <td>{'prep__num': RobustScaler(), 'models__n_estim...</td>\n",
       "    </tr>\n",
       "    <tr>\n",
       "      <th>8</th>\n",
       "      <td>10</td>\n",
       "      <td>-39.250093</td>\n",
       "      <td>DecisionTreeRegressor(random_state=73)</td>\n",
       "      <td>{'prep__num': MaxAbsScaler(), 'models__min_sam...</td>\n",
       "    </tr>\n",
       "  </tbody>\n",
       "</table>\n",
       "</div>"
      ],
      "text/plain": [
       "   rank_test_score  mean_test_score  \\\n",
       "1                1       -23.239248   \n",
       "4                2       -23.620950   \n",
       "5                3       -23.621154   \n",
       "6                4       -33.374132   \n",
       "3                5       -35.105706   \n",
       "0                6       -35.467146   \n",
       "9                7       -35.866113   \n",
       "2                8       -38.264439   \n",
       "7                9       -38.338181   \n",
       "8               10       -39.250093   \n",
       "\n",
       "                                        param_models  \\\n",
       "1  <catboost.core.CatBoostRegressor object at 0x7...   \n",
       "4  <catboost.core.CatBoostRegressor object at 0x7...   \n",
       "5  <catboost.core.CatBoostRegressor object at 0x7...   \n",
       "6             RandomForestRegressor(random_state=73)   \n",
       "3             RandomForestRegressor(random_state=73)   \n",
       "0             RandomForestRegressor(random_state=73)   \n",
       "9             RandomForestRegressor(random_state=73)   \n",
       "2             RandomForestRegressor(random_state=73)   \n",
       "7             RandomForestRegressor(random_state=73)   \n",
       "8             DecisionTreeRegressor(random_state=73)   \n",
       "\n",
       "                                              params  \n",
       "1  {'prep__num': RobustScaler(), 'models__iterati...  \n",
       "4  {'prep__num': MaxAbsScaler(), 'models__iterati...  \n",
       "5  {'prep__num': MinMaxScaler(), 'models__iterati...  \n",
       "6  {'prep__num': RobustScaler(), 'models__n_estim...  \n",
       "3  {'prep__num': StandardScaler(), 'models__n_est...  \n",
       "0  {'prep__num': RobustScaler(), 'models__n_estim...  \n",
       "9  {'prep__num': MinMaxScaler(), 'models__n_estim...  \n",
       "2  {'prep__num': RobustScaler(), 'models__n_estim...  \n",
       "7  {'prep__num': RobustScaler(), 'models__n_estim...  \n",
       "8  {'prep__num': MaxAbsScaler(), 'models__min_sam...  "
      ]
     },
     "execution_count": 37,
     "metadata": {},
     "output_type": "execute_result"
    }
   ],
   "source": [
    "pd.DataFrame(grid.cv_results_)[['rank_test_score', 'mean_test_score', 'param_models','params']].sort_values('rank_test_score')"
   ]
  },
  {
   "cell_type": "markdown",
   "metadata": {},
   "source": [
    "В таблице заметно, как хорошо справились сети на обучающей выборке, метрика RMSE около 23, что является достаточно хорошим резльтатом."
   ]
  },
  {
   "cell_type": "markdown",
   "metadata": {},
   "source": [
    "### Промежуточный итог"
   ]
  },
  {
   "cell_type": "markdown",
   "metadata": {},
   "source": [
    "Лучшей моделью в пайплайне оказалась catboostregressor с показателем метрики 23.24."
   ]
  },
  {
   "cell_type": "markdown",
   "metadata": {},
   "source": [
    "## Тестирование"
   ]
  },
  {
   "cell_type": "markdown",
   "metadata": {},
   "source": [
    "Проведем тестирование модели на тестовой выборке."
   ]
  },
  {
   "cell_type": "code",
   "execution_count": 38,
   "metadata": {
    "scrolled": true
   },
   "outputs": [
    {
     "data": {
      "text/plain": [
       "'Значение метрики RMSE на тестовой выборке равняется 39.87326741164958'"
      ]
     },
     "execution_count": 38,
     "metadata": {},
     "output_type": "execute_result"
    }
   ],
   "source": [
    "features = grid.best_estimator_['prep'].transform(X_test_rand)\n",
    "\n",
    "predict = grid.best_estimator_['models'].predict(pd.DataFrame(features))\n",
    "\n",
    "rmse_grid = (mean_squared_error(y_test_rand, predict))**0.5\n",
    "f'Значение метрики RMSE на тестовой выборке равняется {rmse_grid}'"
   ]
  },
  {
   "cell_type": "code",
   "execution_count": 39,
   "metadata": {},
   "outputs": [
    {
     "data": {
      "text/plain": [
       "'Значение метрики RMSE в случае предсказывания следующего значения предыдущим 58.819724582830204'"
      ]
     },
     "execution_count": 39,
     "metadata": {},
     "output_type": "execute_result"
    }
   ],
   "source": [
    "pred_naive = y_test_rand.shift(1)\n",
    "pred_naive.iloc[0] = (y_train.iloc[-1])\n",
    "\n",
    "rmse_naive = (mean_squared_error(y_test_rand, pred_naive))**0.5\n",
    "f'Значение метрики RMSE в случае предсказывания следующего значения предыдущим {rmse_naive}'"
   ]
  },
  {
   "cell_type": "markdown",
   "metadata": {},
   "source": [
    "Показатель метрики модели меньше, чем метрика в случае предсказывания следующего значения предыдущим, значит наша модель адекватна. Наверное такой разрыв в метрике между обучающей и тестовой выборкой связан либо с небольшим переобучением, либо с некоторой нестационарностью ряда. "
   ]
  },
  {
   "cell_type": "markdown",
   "metadata": {},
   "source": [
    "### Промежуточный итог"
   ]
  },
  {
   "cell_type": "markdown",
   "metadata": {},
   "source": [
    "Показатель метрики RMSE подобранной модели равен примерно 39.87."
   ]
  },
  {
   "cell_type": "markdown",
   "metadata": {},
   "source": [
    "## Итог"
   ]
  },
  {
   "cell_type": "markdown",
   "metadata": {},
   "source": [
    "Были загружены данные заказчика и даллее ресэмплированы с временным интервалом в 1 час, добавлены 7 новых признаков, основанных на предыдущих значениях ряда и времени заказа.\n",
    "Проведен анализ признаков и их влияния на целевой признак, наиболее весомые - день недели и время заказа.\n",
    "Все данные были разбиты на обучающую и тестовую выборки с соотношением 9:1. При обучении лучшей моделью был достигнут показатель метрики RMSE 23. \n",
    "В результате тестирования модель показала значение метрики около 39.87."
   ]
  }
 ],
 "metadata": {
  "ExecuteTimeLog": [
   {
    "duration": 417,
    "start_time": "2025-08-09T00:08:24.079Z"
   },
   {
    "duration": 44,
    "start_time": "2025-08-09T00:08:43.588Z"
   },
   {
    "duration": 15,
    "start_time": "2025-08-09T00:08:53.324Z"
   },
   {
    "duration": 68,
    "start_time": "2025-08-09T00:14:00.637Z"
   },
   {
    "duration": 11,
    "start_time": "2025-08-09T00:14:18.469Z"
   },
   {
    "duration": 38,
    "start_time": "2025-08-09T00:14:30.341Z"
   },
   {
    "duration": 9,
    "start_time": "2025-08-09T00:14:31.196Z"
   },
   {
    "duration": 15,
    "start_time": "2025-08-09T00:14:32.448Z"
   },
   {
    "duration": 35,
    "start_time": "2025-08-09T00:15:09.176Z"
   },
   {
    "duration": 7,
    "start_time": "2025-08-09T00:15:20.587Z"
   },
   {
    "duration": 1357,
    "start_time": "2025-08-09T02:40:00.912Z"
   },
   {
    "duration": 28,
    "start_time": "2025-08-09T02:40:21.200Z"
   },
   {
    "duration": 29,
    "start_time": "2025-08-09T02:42:31.820Z"
   },
   {
    "duration": 417,
    "start_time": "2025-08-09T02:42:42.285Z"
   },
   {
    "duration": 39,
    "start_time": "2025-08-09T02:42:42.704Z"
   },
   {
    "duration": 14,
    "start_time": "2025-08-09T02:42:42.745Z"
   },
   {
    "duration": 19,
    "start_time": "2025-08-09T02:42:42.760Z"
   },
   {
    "duration": 62,
    "start_time": "2025-08-09T02:42:42.782Z"
   },
   {
    "duration": 37,
    "start_time": "2025-08-09T02:42:42.846Z"
   },
   {
    "duration": 1175,
    "start_time": "2025-08-09T03:46:44.842Z"
   },
   {
    "duration": 579,
    "start_time": "2025-08-09T03:48:51.432Z"
   },
   {
    "duration": 101,
    "start_time": "2025-08-09T03:50:47.361Z"
   },
   {
    "duration": 11,
    "start_time": "2025-08-09T03:50:52.735Z"
   },
   {
    "duration": 17,
    "start_time": "2025-08-09T03:51:35.079Z"
   },
   {
    "duration": 8,
    "start_time": "2025-08-09T03:52:07.044Z"
   },
   {
    "duration": 12,
    "start_time": "2025-08-09T03:52:51.899Z"
   },
   {
    "duration": 12,
    "start_time": "2025-08-09T03:53:38.125Z"
   },
   {
    "duration": 512,
    "start_time": "2025-08-09T03:56:08.150Z"
   },
   {
    "duration": 516,
    "start_time": "2025-08-09T03:56:28.972Z"
   },
   {
    "duration": 262,
    "start_time": "2025-08-09T03:56:52.486Z"
   },
   {
    "duration": 288,
    "start_time": "2025-08-09T03:56:55.423Z"
   },
   {
    "duration": 372,
    "start_time": "2025-08-09T03:58:01.680Z"
   },
   {
    "duration": 304,
    "start_time": "2025-08-09T03:58:52.059Z"
   },
   {
    "duration": 509,
    "start_time": "2025-08-09T03:58:59.090Z"
   },
   {
    "duration": 534,
    "start_time": "2025-08-09T03:59:24.388Z"
   },
   {
    "duration": 502,
    "start_time": "2025-08-09T03:59:32.803Z"
   },
   {
    "duration": 27,
    "start_time": "2025-08-09T04:01:50.988Z"
   },
   {
    "duration": 502,
    "start_time": "2025-08-09T04:02:37.508Z"
   },
   {
    "duration": 6310,
    "start_time": "2025-08-09T04:09:02.305Z"
   },
   {
    "duration": 629,
    "start_time": "2025-08-09T04:10:12.298Z"
   },
   {
    "duration": 11,
    "start_time": "2025-08-09T04:11:26.617Z"
   },
   {
    "duration": 290,
    "start_time": "2025-08-09T04:13:39.812Z"
   },
   {
    "duration": 15,
    "start_time": "2025-08-09T04:14:09.443Z"
   },
   {
    "duration": 15,
    "start_time": "2025-08-09T04:14:17.493Z"
   },
   {
    "duration": 9,
    "start_time": "2025-08-09T04:14:38.197Z"
   },
   {
    "duration": 13,
    "start_time": "2025-08-09T04:14:44.643Z"
   },
   {
    "duration": 1368,
    "start_time": "2025-08-09T04:17:11.529Z"
   },
   {
    "duration": 12,
    "start_time": "2025-08-09T04:17:23.900Z"
   },
   {
    "duration": 10,
    "start_time": "2025-08-09T04:19:35.356Z"
   },
   {
    "duration": 13,
    "start_time": "2025-08-09T04:19:50.383Z"
   },
   {
    "duration": 29,
    "start_time": "2025-08-09T04:20:05.082Z"
   },
   {
    "duration": 15,
    "start_time": "2025-08-09T04:21:30.687Z"
   },
   {
    "duration": 32,
    "start_time": "2025-08-09T04:23:13.574Z"
   },
   {
    "duration": 23,
    "start_time": "2025-08-09T04:24:48.496Z"
   },
   {
    "duration": 322,
    "start_time": "2025-08-09T04:25:06.837Z"
   },
   {
    "duration": 24,
    "start_time": "2025-08-09T04:26:09.025Z"
   },
   {
    "duration": 6684,
    "start_time": "2025-08-09T04:30:53.640Z"
   },
   {
    "duration": 91,
    "start_time": "2025-08-09T04:31:25.026Z"
   },
   {
    "duration": 6781,
    "start_time": "2025-08-09T04:31:33.124Z"
   },
   {
    "duration": 232,
    "start_time": "2025-08-09T04:32:42.808Z"
   },
   {
    "duration": 23,
    "start_time": "2025-08-09T04:32:49.264Z"
   },
   {
    "duration": 7,
    "start_time": "2025-08-09T04:33:07.951Z"
   },
   {
    "duration": 107,
    "start_time": "2025-08-09T04:33:17.555Z"
   },
   {
    "duration": 235,
    "start_time": "2025-08-09T04:33:20.928Z"
   },
   {
    "duration": 253,
    "start_time": "2025-08-09T04:33:46.957Z"
   },
   {
    "duration": 6,
    "start_time": "2025-08-09T04:34:34.314Z"
   },
   {
    "duration": 176,
    "start_time": "2025-08-09T04:34:43.320Z"
   },
   {
    "duration": 160,
    "start_time": "2025-08-09T04:42:09.718Z"
   },
   {
    "duration": 157,
    "start_time": "2025-08-09T04:43:35.396Z"
   },
   {
    "duration": 165,
    "start_time": "2025-08-09T04:50:30.215Z"
   },
   {
    "duration": 210,
    "start_time": "2025-08-09T04:53:47.290Z"
   },
   {
    "duration": 18,
    "start_time": "2025-08-09T04:53:58.345Z"
   },
   {
    "duration": 774,
    "start_time": "2025-08-09T04:54:02.811Z"
   },
   {
    "duration": 14,
    "start_time": "2025-08-09T04:54:27.242Z"
   },
   {
    "duration": 187,
    "start_time": "2025-08-09T04:55:47.042Z"
   },
   {
    "duration": 196,
    "start_time": "2025-08-09T04:56:05.075Z"
   },
   {
    "duration": 17,
    "start_time": "2025-08-09T04:56:13.665Z"
   },
   {
    "duration": 1631,
    "start_time": "2025-08-09T17:49:48.163Z"
   },
   {
    "duration": 73,
    "start_time": "2025-08-09T17:50:08.724Z"
   },
   {
    "duration": 17,
    "start_time": "2025-08-09T17:55:30.990Z"
   },
   {
    "duration": 10,
    "start_time": "2025-08-09T17:55:40.280Z"
   },
   {
    "duration": 4,
    "start_time": "2025-08-09T17:55:59.669Z"
   },
   {
    "duration": 4,
    "start_time": "2025-08-09T17:56:03.378Z"
   },
   {
    "duration": 6,
    "start_time": "2025-08-09T17:56:08.570Z"
   },
   {
    "duration": 4,
    "start_time": "2025-08-09T17:56:14.471Z"
   },
   {
    "duration": 3,
    "start_time": "2025-08-09T17:57:05.398Z"
   },
   {
    "duration": 3,
    "start_time": "2025-08-09T17:57:15.421Z"
   },
   {
    "duration": 12,
    "start_time": "2025-08-09T18:03:31.553Z"
   },
   {
    "duration": 1542,
    "start_time": "2025-08-09T18:06:49.028Z"
   },
   {
    "duration": 53,
    "start_time": "2025-08-09T18:06:50.572Z"
   },
   {
    "duration": 12,
    "start_time": "2025-08-09T18:06:50.627Z"
   },
   {
    "duration": 25,
    "start_time": "2025-08-09T18:06:50.641Z"
   },
   {
    "duration": 27,
    "start_time": "2025-08-09T18:06:50.668Z"
   },
   {
    "duration": 26,
    "start_time": "2025-08-09T18:06:50.697Z"
   },
   {
    "duration": 552,
    "start_time": "2025-08-09T18:06:50.724Z"
   },
   {
    "duration": 169,
    "start_time": "2025-08-09T18:06:51.277Z"
   },
   {
    "duration": 15,
    "start_time": "2025-08-09T18:06:51.448Z"
   },
   {
    "duration": 214,
    "start_time": "2025-08-09T18:06:51.465Z"
   },
   {
    "duration": 233,
    "start_time": "2025-08-09T18:06:51.681Z"
   },
   {
    "duration": 22,
    "start_time": "2025-08-09T18:06:51.916Z"
   },
   {
    "duration": 194,
    "start_time": "2025-08-09T18:06:51.940Z"
   },
   {
    "duration": 182,
    "start_time": "2025-08-09T18:06:52.138Z"
   },
   {
    "duration": 20,
    "start_time": "2025-08-09T18:06:52.322Z"
   },
   {
    "duration": 175,
    "start_time": "2025-08-09T18:06:52.343Z"
   },
   {
    "duration": 194,
    "start_time": "2025-08-09T18:06:52.520Z"
   },
   {
    "duration": 21,
    "start_time": "2025-08-09T18:06:52.715Z"
   },
   {
    "duration": 13,
    "start_time": "2025-08-09T18:06:52.738Z"
   },
   {
    "duration": 5,
    "start_time": "2025-08-09T18:06:52.753Z"
   },
   {
    "duration": 25,
    "start_time": "2025-08-09T18:06:52.759Z"
   },
   {
    "duration": 13,
    "start_time": "2025-08-09T18:06:52.786Z"
   },
   {
    "duration": 121,
    "start_time": "2025-08-09T18:06:52.800Z"
   },
   {
    "duration": 0,
    "start_time": "2025-08-09T18:06:52.923Z"
   },
   {
    "duration": 2,
    "start_time": "2025-08-09T18:08:41.768Z"
   },
   {
    "duration": 10031,
    "start_time": "2025-08-09T18:08:42.285Z"
   },
   {
    "duration": 6,
    "start_time": "2025-08-09T18:09:19.665Z"
   },
   {
    "duration": 4,
    "start_time": "2025-08-09T18:09:19.985Z"
   },
   {
    "duration": 5,
    "start_time": "2025-08-09T18:09:20.417Z"
   },
   {
    "duration": 3,
    "start_time": "2025-08-09T18:09:20.856Z"
   },
   {
    "duration": 35905,
    "start_time": "2025-08-09T18:09:21.459Z"
   },
   {
    "duration": 0,
    "start_time": "2025-08-09T18:09:57.366Z"
   },
   {
    "duration": 22,
    "start_time": "2025-08-09T18:27:53.535Z"
   },
   {
    "duration": 1418,
    "start_time": "2025-08-09T18:28:03.560Z"
   },
   {
    "duration": 52,
    "start_time": "2025-08-09T18:28:04.980Z"
   },
   {
    "duration": 10,
    "start_time": "2025-08-09T18:28:05.033Z"
   },
   {
    "duration": 14,
    "start_time": "2025-08-09T18:28:05.045Z"
   },
   {
    "duration": 24,
    "start_time": "2025-08-09T18:28:05.061Z"
   },
   {
    "duration": 27,
    "start_time": "2025-08-09T18:28:05.087Z"
   },
   {
    "duration": 533,
    "start_time": "2025-08-09T18:28:05.115Z"
   },
   {
    "duration": 153,
    "start_time": "2025-08-09T18:28:05.650Z"
   },
   {
    "duration": 12,
    "start_time": "2025-08-09T18:28:05.805Z"
   },
   {
    "duration": 365,
    "start_time": "2025-08-09T18:28:05.819Z"
   },
   {
    "duration": 231,
    "start_time": "2025-08-09T18:28:06.186Z"
   },
   {
    "duration": 20,
    "start_time": "2025-08-09T18:28:06.419Z"
   },
   {
    "duration": 203,
    "start_time": "2025-08-09T18:28:06.441Z"
   },
   {
    "duration": 171,
    "start_time": "2025-08-09T18:28:06.646Z"
   },
   {
    "duration": 19,
    "start_time": "2025-08-09T18:28:06.819Z"
   },
   {
    "duration": 180,
    "start_time": "2025-08-09T18:28:06.839Z"
   },
   {
    "duration": 178,
    "start_time": "2025-08-09T18:28:07.021Z"
   },
   {
    "duration": 12,
    "start_time": "2025-08-09T18:28:07.201Z"
   },
   {
    "duration": 100,
    "start_time": "2025-08-09T18:28:07.215Z"
   },
   {
    "duration": 52,
    "start_time": "2025-08-09T18:28:07.316Z"
   },
   {
    "duration": 12,
    "start_time": "2025-08-09T18:28:07.369Z"
   },
   {
    "duration": 193,
    "start_time": "2025-08-09T18:28:07.382Z"
   },
   {
    "duration": 43303,
    "start_time": "2025-08-09T18:28:07.577Z"
   },
   {
    "duration": 108,
    "start_time": "2025-08-09T18:28:50.881Z"
   },
   {
    "duration": 23,
    "start_time": "2025-08-09T18:29:20.167Z"
   },
   {
    "duration": 9,
    "start_time": "2025-08-09T18:38:33.146Z"
   },
   {
    "duration": 8,
    "start_time": "2025-08-09T18:38:48.864Z"
   },
   {
    "duration": 18,
    "start_time": "2025-08-09T18:51:50.340Z"
   },
   {
    "duration": 9,
    "start_time": "2025-08-09T18:52:05.403Z"
   },
   {
    "duration": 88,
    "start_time": "2025-08-09T19:00:12.529Z"
   },
   {
    "duration": 101,
    "start_time": "2025-08-09T19:00:20.182Z"
   },
   {
    "duration": 9,
    "start_time": "2025-08-09T19:00:24.704Z"
   },
   {
    "duration": 10432,
    "start_time": "2025-08-09T19:02:15.943Z"
   },
   {
    "duration": 10266,
    "start_time": "2025-08-09T19:09:28.861Z"
   },
   {
    "duration": 5427,
    "start_time": "2025-08-09T19:21:25.465Z"
   },
   {
    "duration": 719,
    "start_time": "2025-08-09T19:22:56.266Z"
   },
   {
    "duration": 711,
    "start_time": "2025-08-09T19:23:10.354Z"
   },
   {
    "duration": 26493,
    "start_time": "2025-08-09T19:24:21.234Z"
   },
   {
    "duration": 767772,
    "start_time": "2025-08-09T19:28:15.979Z"
   },
   {
    "duration": 20,
    "start_time": "2025-08-09T19:41:03.753Z"
   },
   {
    "duration": 1447,
    "start_time": "2025-08-09T19:42:08.330Z"
   },
   {
    "duration": 39,
    "start_time": "2025-08-09T19:42:09.779Z"
   },
   {
    "duration": 11,
    "start_time": "2025-08-09T19:42:09.820Z"
   },
   {
    "duration": 11,
    "start_time": "2025-08-09T19:42:09.833Z"
   },
   {
    "duration": 22,
    "start_time": "2025-08-09T19:42:09.847Z"
   },
   {
    "duration": 129,
    "start_time": "2025-08-09T19:42:09.871Z"
   },
   {
    "duration": 521,
    "start_time": "2025-08-09T19:42:10.002Z"
   },
   {
    "duration": 157,
    "start_time": "2025-08-09T19:42:10.525Z"
   },
   {
    "duration": 14,
    "start_time": "2025-08-09T19:42:10.684Z"
   },
   {
    "duration": 176,
    "start_time": "2025-08-09T19:42:10.700Z"
   },
   {
    "duration": 242,
    "start_time": "2025-08-09T19:42:10.878Z"
   },
   {
    "duration": 18,
    "start_time": "2025-08-09T19:42:11.122Z"
   },
   {
    "duration": 202,
    "start_time": "2025-08-09T19:42:11.142Z"
   },
   {
    "duration": 188,
    "start_time": "2025-08-09T19:42:11.346Z"
   },
   {
    "duration": 13,
    "start_time": "2025-08-09T19:42:11.536Z"
   },
   {
    "duration": 175,
    "start_time": "2025-08-09T19:42:11.550Z"
   },
   {
    "duration": 170,
    "start_time": "2025-08-09T19:42:11.727Z"
   },
   {
    "duration": 12,
    "start_time": "2025-08-09T19:42:11.899Z"
   },
   {
    "duration": 89,
    "start_time": "2025-08-09T19:42:11.913Z"
   },
   {
    "duration": 5,
    "start_time": "2025-08-09T19:42:12.004Z"
   },
   {
    "duration": 6,
    "start_time": "2025-08-09T19:42:12.010Z"
   },
   {
    "duration": 6,
    "start_time": "2025-08-09T19:42:12.017Z"
   },
   {
    "duration": 40673,
    "start_time": "2025-08-09T19:42:12.025Z"
   },
   {
    "duration": 35,
    "start_time": "2025-08-09T19:42:52.700Z"
   },
   {
    "duration": 3,
    "start_time": "2025-08-09T19:45:16.654Z"
   },
   {
    "duration": 41974,
    "start_time": "2025-08-09T19:45:17.293Z"
   },
   {
    "duration": 7,
    "start_time": "2025-08-09T19:47:46.051Z"
   },
   {
    "duration": 5,
    "start_time": "2025-08-09T19:47:46.611Z"
   },
   {
    "duration": 4,
    "start_time": "2025-08-09T19:47:47.875Z"
   },
   {
    "duration": 3,
    "start_time": "2025-08-09T19:47:48.480Z"
   },
   {
    "duration": 40371,
    "start_time": "2025-08-09T19:47:49.376Z"
   },
   {
    "duration": 21,
    "start_time": "2025-08-09T19:48:58.048Z"
   },
   {
    "duration": 119,
    "start_time": "2025-08-09T20:29:43.023Z"
   },
   {
    "duration": 1459,
    "start_time": "2025-08-09T20:29:50.714Z"
   },
   {
    "duration": 52,
    "start_time": "2025-08-09T20:29:52.176Z"
   },
   {
    "duration": 10,
    "start_time": "2025-08-09T20:29:52.230Z"
   },
   {
    "duration": 90,
    "start_time": "2025-08-09T20:29:52.241Z"
   },
   {
    "duration": 29,
    "start_time": "2025-08-09T20:29:52.333Z"
   },
   {
    "duration": 33,
    "start_time": "2025-08-09T20:29:52.363Z"
   },
   {
    "duration": 538,
    "start_time": "2025-08-09T20:29:52.398Z"
   },
   {
    "duration": 154,
    "start_time": "2025-08-09T20:29:52.937Z"
   },
   {
    "duration": 12,
    "start_time": "2025-08-09T20:29:53.093Z"
   },
   {
    "duration": 182,
    "start_time": "2025-08-09T20:29:53.107Z"
   },
   {
    "duration": 213,
    "start_time": "2025-08-09T20:29:53.291Z"
   },
   {
    "duration": 11,
    "start_time": "2025-08-09T20:29:53.506Z"
   },
   {
    "duration": 192,
    "start_time": "2025-08-09T20:29:53.519Z"
   },
   {
    "duration": 177,
    "start_time": "2025-08-09T20:29:53.714Z"
   },
   {
    "duration": 12,
    "start_time": "2025-08-09T20:29:53.893Z"
   },
   {
    "duration": 248,
    "start_time": "2025-08-09T20:29:53.907Z"
   },
   {
    "duration": 166,
    "start_time": "2025-08-09T20:29:54.157Z"
   },
   {
    "duration": 12,
    "start_time": "2025-08-09T20:29:54.325Z"
   },
   {
    "duration": 18,
    "start_time": "2025-08-09T20:29:54.339Z"
   },
   {
    "duration": 36,
    "start_time": "2025-08-09T20:29:54.359Z"
   },
   {
    "duration": 9,
    "start_time": "2025-08-09T20:29:54.396Z"
   },
   {
    "duration": 23,
    "start_time": "2025-08-09T20:29:54.406Z"
   },
   {
    "duration": 42212,
    "start_time": "2025-08-09T20:29:54.430Z"
   },
   {
    "duration": 20,
    "start_time": "2025-08-09T20:30:36.644Z"
   },
   {
    "duration": 26336,
    "start_time": "2025-08-09T20:30:36.666Z"
   },
   {
    "duration": 24812,
    "start_time": "2025-08-09T20:31:15.382Z"
   },
   {
    "duration": 4,
    "start_time": "2025-08-09T20:31:53.632Z"
   },
   {
    "duration": 15,
    "start_time": "2025-08-09T20:32:44.481Z"
   },
   {
    "duration": 134150,
    "start_time": "2025-08-09T20:33:03.363Z"
   },
   {
    "duration": 5,
    "start_time": "2025-08-09T20:36:17.241Z"
   },
   {
    "duration": 133091,
    "start_time": "2025-08-09T20:36:41.705Z"
   },
   {
    "duration": 4,
    "start_time": "2025-08-09T20:38:54.798Z"
   },
   {
    "duration": 957674,
    "start_time": "2025-08-09T20:39:34.804Z"
   },
   {
    "duration": 12,
    "start_time": "2025-08-09T20:55:32.480Z"
   },
   {
    "duration": 972557,
    "start_time": "2025-08-09T20:57:18.171Z"
   },
   {
    "duration": 11,
    "start_time": "2025-08-09T21:13:30.730Z"
   },
   {
    "duration": 22,
    "start_time": "2025-08-09T21:34:32.831Z"
   },
   {
    "duration": 22,
    "start_time": "2025-08-09T21:35:02.650Z"
   },
   {
    "duration": 23,
    "start_time": "2025-08-09T21:35:23.051Z"
   },
   {
    "duration": 24,
    "start_time": "2025-08-09T21:35:49.029Z"
   },
   {
    "duration": 24,
    "start_time": "2025-08-09T21:36:45.500Z"
   },
   {
    "duration": 90,
    "start_time": "2025-08-09T21:43:36.457Z"
   },
   {
    "duration": 9987,
    "start_time": "2025-08-09T21:43:45.115Z"
   },
   {
    "duration": 35969,
    "start_time": "2025-08-09T21:44:24.291Z"
   },
   {
    "duration": 4,
    "start_time": "2025-08-09T21:46:19.120Z"
   },
   {
    "duration": 15,
    "start_time": "2025-08-09T21:49:03.058Z"
   },
   {
    "duration": 1450,
    "start_time": "2025-08-09T21:49:42.575Z"
   },
   {
    "duration": 40,
    "start_time": "2025-08-09T21:49:44.026Z"
   },
   {
    "duration": 9,
    "start_time": "2025-08-09T21:49:44.068Z"
   },
   {
    "duration": 28,
    "start_time": "2025-08-09T21:49:44.079Z"
   },
   {
    "duration": 40,
    "start_time": "2025-08-09T21:49:44.110Z"
   },
   {
    "duration": 27,
    "start_time": "2025-08-09T21:49:44.151Z"
   },
   {
    "duration": 497,
    "start_time": "2025-08-09T21:49:44.180Z"
   },
   {
    "duration": 156,
    "start_time": "2025-08-09T21:49:44.679Z"
   },
   {
    "duration": 14,
    "start_time": "2025-08-09T21:49:44.837Z"
   },
   {
    "duration": 171,
    "start_time": "2025-08-09T21:49:44.853Z"
   },
   {
    "duration": 250,
    "start_time": "2025-08-09T21:49:45.025Z"
   },
   {
    "duration": 12,
    "start_time": "2025-08-09T21:49:45.276Z"
   },
   {
    "duration": 253,
    "start_time": "2025-08-09T21:49:45.289Z"
   },
   {
    "duration": 172,
    "start_time": "2025-08-09T21:49:45.544Z"
   },
   {
    "duration": 18,
    "start_time": "2025-08-09T21:49:45.717Z"
   },
   {
    "duration": 163,
    "start_time": "2025-08-09T21:49:45.736Z"
   },
   {
    "duration": 171,
    "start_time": "2025-08-09T21:49:45.900Z"
   },
   {
    "duration": 12,
    "start_time": "2025-08-09T21:49:46.073Z"
   },
   {
    "duration": 32,
    "start_time": "2025-08-09T21:49:46.086Z"
   },
   {
    "duration": 33,
    "start_time": "2025-08-09T21:49:46.120Z"
   },
   {
    "duration": 17,
    "start_time": "2025-08-09T21:49:46.154Z"
   },
   {
    "duration": 31,
    "start_time": "2025-08-09T21:49:46.173Z"
   },
   {
    "duration": 41485,
    "start_time": "2025-08-09T21:49:46.206Z"
   },
   {
    "duration": 21,
    "start_time": "2025-08-09T21:50:27.693Z"
   },
   {
    "duration": 36,
    "start_time": "2025-08-09T21:50:27.716Z"
   },
   {
    "duration": 973551,
    "start_time": "2025-08-09T21:50:27.754Z"
   },
   {
    "duration": 23,
    "start_time": "2025-08-09T22:06:41.307Z"
   },
   {
    "duration": 35371,
    "start_time": "2025-08-09T22:06:41.331Z"
   },
   {
    "duration": 15,
    "start_time": "2025-08-09T22:07:16.704Z"
   },
   {
    "duration": 244,
    "start_time": "2025-08-09T22:40:16.439Z"
   },
   {
    "duration": 133,
    "start_time": "2025-08-10T02:22:39.060Z"
   },
   {
    "duration": 56,
    "start_time": "2025-08-10T17:48:27.895Z"
   },
   {
    "duration": 2072,
    "start_time": "2025-08-10T19:18:44.548Z"
   },
   {
    "duration": 47,
    "start_time": "2025-08-10T19:18:47.200Z"
   },
   {
    "duration": 10,
    "start_time": "2025-08-10T19:18:48.247Z"
   },
   {
    "duration": 10,
    "start_time": "2025-08-10T19:18:48.680Z"
   },
   {
    "duration": 16,
    "start_time": "2025-08-10T19:18:49.949Z"
   },
   {
    "duration": 38,
    "start_time": "2025-08-10T19:18:53.720Z"
   },
   {
    "duration": 15,
    "start_time": "2025-08-10T19:19:05.450Z"
   },
   {
    "duration": 211,
    "start_time": "2025-08-10T19:19:34.043Z"
   },
   {
    "duration": 215,
    "start_time": "2025-08-10T19:20:22.443Z"
   },
   {
    "duration": 13,
    "start_time": "2025-08-10T19:20:29.672Z"
   },
   {
    "duration": 197,
    "start_time": "2025-08-10T19:21:13.419Z"
   },
   {
    "duration": 13,
    "start_time": "2025-08-10T19:21:49.419Z"
   },
   {
    "duration": 1543,
    "start_time": "2025-08-10T21:02:47.307Z"
   },
   {
    "duration": 42,
    "start_time": "2025-08-10T21:02:48.853Z"
   },
   {
    "duration": 213,
    "start_time": "2025-08-10T21:02:48.896Z"
   },
   {
    "duration": 29,
    "start_time": "2025-08-10T21:02:49.111Z"
   },
   {
    "duration": 15,
    "start_time": "2025-08-10T21:02:49.153Z"
   },
   {
    "duration": 87,
    "start_time": "2025-08-10T21:02:49.169Z"
   },
   {
    "duration": 170,
    "start_time": "2025-08-10T21:02:49.258Z"
   },
   {
    "duration": 164,
    "start_time": "2025-08-10T21:02:49.431Z"
   },
   {
    "duration": 11,
    "start_time": "2025-08-10T21:02:49.597Z"
   },
   {
    "duration": 200,
    "start_time": "2025-08-10T21:02:49.610Z"
   },
   {
    "duration": 166,
    "start_time": "2025-08-10T21:02:49.812Z"
   },
   {
    "duration": 12,
    "start_time": "2025-08-10T21:02:49.980Z"
   },
   {
    "duration": 296,
    "start_time": "2025-08-10T21:02:49.994Z"
   },
   {
    "duration": 221,
    "start_time": "2025-08-10T21:02:50.295Z"
   },
   {
    "duration": 27,
    "start_time": "2025-08-10T21:02:50.518Z"
   },
   {
    "duration": 202,
    "start_time": "2025-08-10T21:02:50.547Z"
   },
   {
    "duration": 179,
    "start_time": "2025-08-10T21:02:50.751Z"
   },
   {
    "duration": 186,
    "start_time": "2025-08-10T21:02:50.938Z"
   },
   {
    "duration": 22,
    "start_time": "2025-08-10T21:02:51.126Z"
   },
   {
    "duration": 7,
    "start_time": "2025-08-10T21:02:51.151Z"
   },
   {
    "duration": 12,
    "start_time": "2025-08-10T21:02:51.160Z"
   },
   {
    "duration": 22,
    "start_time": "2025-08-10T21:02:51.173Z"
   },
   {
    "duration": 14,
    "start_time": "2025-08-10T21:02:51.197Z"
   },
   {
    "duration": 46951,
    "start_time": "2025-08-10T21:02:51.212Z"
   },
   {
    "duration": 20,
    "start_time": "2025-08-10T21:03:38.165Z"
   },
   {
    "duration": 1063543,
    "start_time": "2025-08-10T21:03:38.187Z"
   },
   {
    "duration": 33,
    "start_time": "2025-08-10T21:21:21.731Z"
   },
   {
    "duration": 125,
    "start_time": "2025-08-10T21:21:21.766Z"
   },
   {
    "duration": 0,
    "start_time": "2025-08-10T21:21:21.892Z"
   },
   {
    "duration": 0,
    "start_time": "2025-08-10T21:21:21.894Z"
   },
   {
    "duration": 36659,
    "start_time": "2025-08-10T21:34:35.702Z"
   },
   {
    "duration": 13,
    "start_time": "2025-08-10T21:35:12.363Z"
   },
   {
    "duration": 0,
    "start_time": "2025-08-10T21:35:12.377Z"
   },
   {
    "duration": 864,
    "start_time": "2025-08-10T21:35:47.550Z"
   },
   {
    "duration": 27,
    "start_time": "2025-08-10T21:36:06.030Z"
   },
   {
    "duration": 1434,
    "start_time": "2025-08-10T21:37:22.390Z"
   },
   {
    "duration": 45,
    "start_time": "2025-08-10T21:37:23.826Z"
   },
   {
    "duration": 11,
    "start_time": "2025-08-10T21:37:23.872Z"
   },
   {
    "duration": 10,
    "start_time": "2025-08-10T21:37:23.884Z"
   },
   {
    "duration": 14,
    "start_time": "2025-08-10T21:37:23.896Z"
   },
   {
    "duration": 42,
    "start_time": "2025-08-10T21:37:23.911Z"
   },
   {
    "duration": 206,
    "start_time": "2025-08-10T21:37:23.955Z"
   },
   {
    "duration": 152,
    "start_time": "2025-08-10T21:37:24.163Z"
   },
   {
    "duration": 18,
    "start_time": "2025-08-10T21:37:24.317Z"
   },
   {
    "duration": 211,
    "start_time": "2025-08-10T21:37:24.337Z"
   },
   {
    "duration": 148,
    "start_time": "2025-08-10T21:37:24.550Z"
   },
   {
    "duration": 13,
    "start_time": "2025-08-10T21:37:24.700Z"
   },
   {
    "duration": 285,
    "start_time": "2025-08-10T21:37:24.715Z"
   },
   {
    "duration": 194,
    "start_time": "2025-08-10T21:37:25.003Z"
   },
   {
    "duration": 16,
    "start_time": "2025-08-10T21:37:25.199Z"
   },
   {
    "duration": 192,
    "start_time": "2025-08-10T21:37:25.217Z"
   },
   {
    "duration": 162,
    "start_time": "2025-08-10T21:37:25.411Z"
   },
   {
    "duration": 184,
    "start_time": "2025-08-10T21:37:25.575Z"
   },
   {
    "duration": 13,
    "start_time": "2025-08-10T21:37:25.760Z"
   },
   {
    "duration": 6,
    "start_time": "2025-08-10T21:37:25.774Z"
   },
   {
    "duration": 6,
    "start_time": "2025-08-10T21:37:25.781Z"
   },
   {
    "duration": 5,
    "start_time": "2025-08-10T21:37:25.789Z"
   },
   {
    "duration": 6,
    "start_time": "2025-08-10T21:37:25.796Z"
   },
   {
    "duration": 44507,
    "start_time": "2025-08-10T21:37:25.803Z"
   },
   {
    "duration": 25,
    "start_time": "2025-08-10T21:38:10.312Z"
   },
   {
    "duration": 1022677,
    "start_time": "2025-08-10T21:38:10.347Z"
   },
   {
    "duration": 34,
    "start_time": "2025-08-10T21:55:13.026Z"
   },
   {
    "duration": 38408,
    "start_time": "2025-08-10T21:55:13.062Z"
   },
   {
    "duration": 16,
    "start_time": "2025-08-10T21:55:51.472Z"
   },
   {
    "duration": 128,
    "start_time": "2025-08-10T21:55:51.489Z"
   },
   {
    "duration": 3227,
    "start_time": "2025-08-11T04:29:14.838Z"
   },
   {
    "duration": 39,
    "start_time": "2025-08-11T04:29:18.067Z"
   },
   {
    "duration": 11,
    "start_time": "2025-08-11T04:29:18.107Z"
   },
   {
    "duration": 32,
    "start_time": "2025-08-11T04:29:18.119Z"
   },
   {
    "duration": 20,
    "start_time": "2025-08-11T04:29:18.153Z"
   },
   {
    "duration": 26,
    "start_time": "2025-08-11T04:29:18.174Z"
   },
   {
    "duration": 379,
    "start_time": "2025-08-11T04:29:18.201Z"
   },
   {
    "duration": 1614,
    "start_time": "2025-08-11T17:48:12.486Z"
   },
   {
    "duration": 117,
    "start_time": "2025-08-11T18:16:23.004Z"
   },
   {
    "duration": 4,
    "start_time": "2025-08-11T18:16:28.329Z"
   },
   {
    "duration": 41,
    "start_time": "2025-08-11T18:16:29.433Z"
   },
   {
    "duration": 12,
    "start_time": "2025-08-11T18:16:31.015Z"
   },
   {
    "duration": 11,
    "start_time": "2025-08-11T18:16:31.470Z"
   },
   {
    "duration": 22,
    "start_time": "2025-08-11T18:16:33.862Z"
   },
   {
    "duration": 334,
    "start_time": "2025-08-11T18:16:34.807Z"
   },
   {
    "duration": 216,
    "start_time": "2025-08-11T18:17:36.416Z"
   },
   {
    "duration": 218,
    "start_time": "2025-08-11T18:18:11.403Z"
   },
   {
    "duration": 185,
    "start_time": "2025-08-11T18:19:03.767Z"
   },
   {
    "duration": 113,
    "start_time": "2025-08-11T18:19:17.612Z"
   },
   {
    "duration": 245,
    "start_time": "2025-08-11T18:19:29.876Z"
   },
   {
    "duration": 272,
    "start_time": "2025-08-11T18:19:40.880Z"
   },
   {
    "duration": 253,
    "start_time": "2025-08-11T18:20:05.423Z"
   },
   {
    "duration": 287,
    "start_time": "2025-08-11T18:26:43.040Z"
   },
   {
    "duration": 286,
    "start_time": "2025-08-11T18:28:02.535Z"
   },
   {
    "duration": 269,
    "start_time": "2025-08-11T18:28:13.725Z"
   },
   {
    "duration": 293,
    "start_time": "2025-08-11T18:28:49.849Z"
   },
   {
    "duration": 305,
    "start_time": "2025-08-11T18:29:03.637Z"
   },
   {
    "duration": 306,
    "start_time": "2025-08-11T18:33:20.060Z"
   },
   {
    "duration": 322,
    "start_time": "2025-08-11T18:33:27.648Z"
   },
   {
    "duration": 434,
    "start_time": "2025-08-11T18:33:37.132Z"
   },
   {
    "duration": 314,
    "start_time": "2025-08-11T18:34:07.239Z"
   },
   {
    "duration": 295,
    "start_time": "2025-08-11T18:34:22.140Z"
   },
   {
    "duration": 297,
    "start_time": "2025-08-11T18:35:14.767Z"
   },
   {
    "duration": 121,
    "start_time": "2025-08-11T18:35:29.666Z"
   },
   {
    "duration": 294,
    "start_time": "2025-08-11T18:35:32.936Z"
   },
   {
    "duration": 26,
    "start_time": "2025-08-11T19:25:41.995Z"
   },
   {
    "duration": 230,
    "start_time": "2025-08-11T19:43:03.443Z"
   },
   {
    "duration": 209,
    "start_time": "2025-08-11T19:43:29.944Z"
   },
   {
    "duration": 22,
    "start_time": "2025-08-11T19:44:47.937Z"
   },
   {
    "duration": 21,
    "start_time": "2025-08-11T19:45:28.651Z"
   },
   {
    "duration": 22,
    "start_time": "2025-08-11T19:46:08.172Z"
   },
   {
    "duration": 22,
    "start_time": "2025-08-11T19:46:38.472Z"
   },
   {
    "duration": 21,
    "start_time": "2025-08-11T19:47:12.121Z"
   },
   {
    "duration": 206,
    "start_time": "2025-08-11T19:47:32.422Z"
   },
   {
    "duration": 209,
    "start_time": "2025-08-11T19:48:38.452Z"
   },
   {
    "duration": 654,
    "start_time": "2025-08-11T19:49:26.399Z"
   },
   {
    "duration": 531,
    "start_time": "2025-08-11T19:51:23.339Z"
   },
   {
    "duration": 199,
    "start_time": "2025-08-11T20:03:55.081Z"
   },
   {
    "duration": 191,
    "start_time": "2025-08-11T20:05:14.263Z"
   },
   {
    "duration": 127,
    "start_time": "2025-08-11T20:05:32.576Z"
   },
   {
    "duration": 145,
    "start_time": "2025-08-11T20:06:35.516Z"
   },
   {
    "duration": 279,
    "start_time": "2025-08-11T20:06:48.286Z"
   },
   {
    "duration": 182,
    "start_time": "2025-08-11T20:07:04.729Z"
   },
   {
    "duration": 161,
    "start_time": "2025-08-11T20:07:58.895Z"
   },
   {
    "duration": 152,
    "start_time": "2025-08-11T20:08:14.444Z"
   },
   {
    "duration": 181,
    "start_time": "2025-08-11T20:08:24.273Z"
   },
   {
    "duration": 221,
    "start_time": "2025-08-11T20:08:35.004Z"
   },
   {
    "duration": 243,
    "start_time": "2025-08-11T20:08:54.434Z"
   },
   {
    "duration": 16,
    "start_time": "2025-08-11T20:09:24.083Z"
   },
   {
    "duration": 12,
    "start_time": "2025-08-11T20:10:27.614Z"
   },
   {
    "duration": 174,
    "start_time": "2025-08-11T20:11:26.904Z"
   },
   {
    "duration": 17,
    "start_time": "2025-08-11T20:12:34.573Z"
   },
   {
    "duration": 18,
    "start_time": "2025-08-11T20:12:42.642Z"
   },
   {
    "duration": 167,
    "start_time": "2025-08-11T20:12:49.342Z"
   },
   {
    "duration": 13,
    "start_time": "2025-08-11T20:13:52.787Z"
   },
   {
    "duration": 12,
    "start_time": "2025-08-11T20:14:04.474Z"
   },
   {
    "duration": 12,
    "start_time": "2025-08-11T20:17:57.013Z"
   },
   {
    "duration": 10,
    "start_time": "2025-08-11T20:18:03.620Z"
   },
   {
    "duration": 8,
    "start_time": "2025-08-11T20:18:15.595Z"
   },
   {
    "duration": 291,
    "start_time": "2025-08-11T20:18:57.032Z"
   },
   {
    "duration": 7,
    "start_time": "2025-08-11T20:19:01.811Z"
   },
   {
    "duration": 8,
    "start_time": "2025-08-11T20:19:09.522Z"
   },
   {
    "duration": 242,
    "start_time": "2025-08-11T20:19:13.937Z"
   },
   {
    "duration": 206,
    "start_time": "2025-08-11T20:19:41.166Z"
   },
   {
    "duration": 14,
    "start_time": "2025-08-11T20:20:19.091Z"
   },
   {
    "duration": 187,
    "start_time": "2025-08-11T20:20:23.930Z"
   },
   {
    "duration": 212,
    "start_time": "2025-08-11T20:20:41.336Z"
   },
   {
    "duration": 300,
    "start_time": "2025-08-11T20:21:03.132Z"
   },
   {
    "duration": 302,
    "start_time": "2025-08-11T20:21:17.097Z"
   },
   {
    "duration": 184,
    "start_time": "2025-08-11T20:21:43.009Z"
   },
   {
    "duration": 190,
    "start_time": "2025-08-11T20:22:25.135Z"
   },
   {
    "duration": 286,
    "start_time": "2025-08-11T20:24:47.891Z"
   },
   {
    "duration": 13,
    "start_time": "2025-08-11T20:30:29.168Z"
   },
   {
    "duration": 285,
    "start_time": "2025-08-11T20:30:39.852Z"
   },
   {
    "duration": 16,
    "start_time": "2025-08-11T20:30:47.492Z"
   },
   {
    "duration": 7,
    "start_time": "2025-08-11T20:31:28.488Z"
   },
   {
    "duration": 13,
    "start_time": "2025-08-11T20:32:22.430Z"
   },
   {
    "duration": 10,
    "start_time": "2025-08-11T20:32:40.238Z"
   },
   {
    "duration": 9,
    "start_time": "2025-08-11T20:37:34.609Z"
   },
   {
    "duration": 13,
    "start_time": "2025-08-11T20:38:00.897Z"
   },
   {
    "duration": 13,
    "start_time": "2025-08-11T20:38:25.866Z"
   },
   {
    "duration": 302,
    "start_time": "2025-08-11T20:41:48.642Z"
   },
   {
    "duration": 14,
    "start_time": "2025-08-11T20:42:13.742Z"
   },
   {
    "duration": 7,
    "start_time": "2025-08-11T20:42:56.522Z"
   },
   {
    "duration": 282,
    "start_time": "2025-08-11T20:52:02.938Z"
   },
   {
    "duration": 4,
    "start_time": "2025-08-11T21:00:50.555Z"
   },
   {
    "duration": 1469,
    "start_time": "2025-08-11T21:01:00.186Z"
   },
   {
    "duration": 38,
    "start_time": "2025-08-11T21:01:04.785Z"
   },
   {
    "duration": 11,
    "start_time": "2025-08-11T21:01:05.946Z"
   },
   {
    "duration": 9,
    "start_time": "2025-08-11T21:01:08.677Z"
   },
   {
    "duration": 16,
    "start_time": "2025-08-11T21:01:11.767Z"
   },
   {
    "duration": 328,
    "start_time": "2025-08-11T21:01:18.394Z"
   },
   {
    "duration": 9,
    "start_time": "2025-08-11T21:01:21.543Z"
   },
   {
    "duration": 130,
    "start_time": "2025-08-11T21:01:22.235Z"
   },
   {
    "duration": 240,
    "start_time": "2025-08-11T21:01:26.646Z"
   },
   {
    "duration": 11,
    "start_time": "2025-08-11T21:01:29.434Z"
   },
   {
    "duration": 145,
    "start_time": "2025-08-11T21:01:32.246Z"
   },
   {
    "duration": 144,
    "start_time": "2025-08-11T21:01:32.715Z"
   },
   {
    "duration": 12,
    "start_time": "2025-08-11T21:01:33.596Z"
   },
   {
    "duration": 216,
    "start_time": "2025-08-11T21:01:37.367Z"
   },
   {
    "duration": 167,
    "start_time": "2025-08-11T21:01:41.516Z"
   },
   {
    "duration": 13,
    "start_time": "2025-08-11T21:01:49.265Z"
   },
   {
    "duration": 169,
    "start_time": "2025-08-11T21:01:54.645Z"
   },
   {
    "duration": 157,
    "start_time": "2025-08-11T21:02:00.095Z"
   },
   {
    "duration": 177,
    "start_time": "2025-08-11T21:02:01.137Z"
   },
   {
    "duration": 14,
    "start_time": "2025-08-11T21:02:02.006Z"
   },
   {
    "duration": 264,
    "start_time": "2025-08-11T21:02:35.625Z"
   },
   {
    "duration": 302,
    "start_time": "2025-08-11T21:02:39.543Z"
   },
   {
    "duration": 183,
    "start_time": "2025-08-11T21:03:12.764Z"
   },
   {
    "duration": 304,
    "start_time": "2025-08-11T21:03:15.144Z"
   },
   {
    "duration": 204,
    "start_time": "2025-08-11T21:03:17.625Z"
   },
   {
    "duration": 195,
    "start_time": "2025-08-11T21:03:20.346Z"
   },
   {
    "duration": 181,
    "start_time": "2025-08-11T21:03:22.486Z"
   },
   {
    "duration": 291,
    "start_time": "2025-08-11T21:03:27.654Z"
   },
   {
    "duration": 21,
    "start_time": "2025-08-11T21:03:31.614Z"
   },
   {
    "duration": 5,
    "start_time": "2025-08-11T21:03:50.077Z"
   },
   {
    "duration": 4,
    "start_time": "2025-08-11T21:03:54.784Z"
   },
   {
    "duration": 4,
    "start_time": "2025-08-11T21:03:57.805Z"
   },
   {
    "duration": 115,
    "start_time": "2025-08-11T21:04:00.057Z"
   },
   {
    "duration": 4,
    "start_time": "2025-08-11T21:04:41.877Z"
   },
   {
    "duration": 6,
    "start_time": "2025-08-11T21:04:48.254Z"
   },
   {
    "duration": 4,
    "start_time": "2025-08-11T21:04:49.254Z"
   },
   {
    "duration": 5,
    "start_time": "2025-08-11T21:04:50.303Z"
   },
   {
    "duration": 3,
    "start_time": "2025-08-11T21:04:50.894Z"
   },
   {
    "duration": 189,
    "start_time": "2025-08-11T21:04:55.214Z"
   },
   {
    "duration": 4,
    "start_time": "2025-08-11T21:06:50.015Z"
   },
   {
    "duration": 5,
    "start_time": "2025-08-11T21:06:51.303Z"
   },
   {
    "duration": 4,
    "start_time": "2025-08-11T21:06:51.735Z"
   },
   {
    "duration": 33431,
    "start_time": "2025-08-11T21:06:53.575Z"
   },
   {
    "duration": 23,
    "start_time": "2025-08-11T21:07:27.008Z"
   },
   {
    "duration": 4,
    "start_time": "2025-08-11T21:08:05.835Z"
   },
   {
    "duration": 5,
    "start_time": "2025-08-11T21:08:07.053Z"
   },
   {
    "duration": 4,
    "start_time": "2025-08-11T21:08:07.401Z"
   },
   {
    "duration": 191,
    "start_time": "2025-08-11T21:08:08.794Z"
   },
   {
    "duration": 5,
    "start_time": "2025-08-11T21:08:21.004Z"
   },
   {
    "duration": 5,
    "start_time": "2025-08-11T21:08:22.044Z"
   },
   {
    "duration": 3,
    "start_time": "2025-08-11T21:08:22.312Z"
   },
   {
    "duration": 184,
    "start_time": "2025-08-11T21:08:23.313Z"
   },
   {
    "duration": 4,
    "start_time": "2025-08-11T21:11:36.503Z"
   },
   {
    "duration": 5,
    "start_time": "2025-08-11T21:11:37.541Z"
   },
   {
    "duration": 3,
    "start_time": "2025-08-11T21:11:37.922Z"
   },
   {
    "duration": 189,
    "start_time": "2025-08-11T21:11:39.051Z"
   },
   {
    "duration": 4,
    "start_time": "2025-08-11T21:12:02.843Z"
   },
   {
    "duration": 4,
    "start_time": "2025-08-11T21:12:03.943Z"
   },
   {
    "duration": 3,
    "start_time": "2025-08-11T21:12:04.261Z"
   },
   {
    "duration": 31531,
    "start_time": "2025-08-11T21:12:05.472Z"
   },
   {
    "duration": 4,
    "start_time": "2025-08-11T21:12:49.641Z"
   },
   {
    "duration": 4,
    "start_time": "2025-08-11T21:12:50.551Z"
   },
   {
    "duration": 4,
    "start_time": "2025-08-11T21:12:50.982Z"
   },
   {
    "duration": 187,
    "start_time": "2025-08-11T21:12:51.984Z"
   },
   {
    "duration": 4,
    "start_time": "2025-08-11T21:13:05.331Z"
   },
   {
    "duration": 5,
    "start_time": "2025-08-11T21:13:06.872Z"
   },
   {
    "duration": 3,
    "start_time": "2025-08-11T21:13:07.190Z"
   },
   {
    "duration": 197,
    "start_time": "2025-08-11T21:13:08.642Z"
   },
   {
    "duration": 4,
    "start_time": "2025-08-11T21:15:53.911Z"
   },
   {
    "duration": 5,
    "start_time": "2025-08-11T21:15:54.749Z"
   },
   {
    "duration": 3,
    "start_time": "2025-08-11T21:15:55.039Z"
   },
   {
    "duration": 31162,
    "start_time": "2025-08-11T21:15:56.332Z"
   },
   {
    "duration": 28,
    "start_time": "2025-08-11T21:16:40.672Z"
   },
   {
    "duration": 3,
    "start_time": "2025-08-11T21:16:55.580Z"
   },
   {
    "duration": 5,
    "start_time": "2025-08-11T21:16:57.150Z"
   },
   {
    "duration": 3,
    "start_time": "2025-08-11T21:16:58.019Z"
   },
   {
    "duration": 34339,
    "start_time": "2025-08-11T21:16:59.732Z"
   },
   {
    "duration": 21,
    "start_time": "2025-08-11T21:17:34.073Z"
   },
   {
    "duration": 14,
    "start_time": "2025-08-11T21:18:21.108Z"
   },
   {
    "duration": 11,
    "start_time": "2025-08-11T21:18:43.969Z"
   },
   {
    "duration": 4,
    "start_time": "2025-08-11T21:19:47.098Z"
   },
   {
    "duration": 5,
    "start_time": "2025-08-11T21:19:48.200Z"
   },
   {
    "duration": 3,
    "start_time": "2025-08-11T21:19:48.568Z"
   },
   {
    "duration": 43435,
    "start_time": "2025-08-11T21:19:49.588Z"
   },
   {
    "duration": 4,
    "start_time": "2025-08-11T21:20:33.026Z"
   },
   {
    "duration": 55,
    "start_time": "2025-08-11T21:20:33.031Z"
   },
   {
    "duration": 19,
    "start_time": "2025-08-11T21:20:33.088Z"
   },
   {
    "duration": 204,
    "start_time": "2025-08-11T21:20:34.978Z"
   },
   {
    "duration": 11,
    "start_time": "2025-08-11T21:23:14.499Z"
   },
   {
    "duration": 3,
    "start_time": "2025-08-11T21:23:26.039Z"
   },
   {
    "duration": 5,
    "start_time": "2025-08-11T21:23:27.476Z"
   },
   {
    "duration": 3,
    "start_time": "2025-08-11T21:23:27.967Z"
   },
   {
    "duration": 200,
    "start_time": "2025-08-11T21:23:29.530Z"
   },
   {
    "duration": 4,
    "start_time": "2025-08-11T21:24:46.967Z"
   },
   {
    "duration": 5,
    "start_time": "2025-08-11T21:24:48.036Z"
   },
   {
    "duration": 3,
    "start_time": "2025-08-11T21:24:48.428Z"
   },
   {
    "duration": 33334,
    "start_time": "2025-08-11T21:24:49.728Z"
   },
   {
    "duration": 5,
    "start_time": "2025-08-11T21:28:03.527Z"
   },
   {
    "duration": 4,
    "start_time": "2025-08-11T21:28:04.385Z"
   },
   {
    "duration": 5,
    "start_time": "2025-08-11T21:28:13.545Z"
   },
   {
    "duration": 3,
    "start_time": "2025-08-11T21:28:13.847Z"
   },
   {
    "duration": 22,
    "start_time": "2025-08-11T21:28:16.036Z"
   },
   {
    "duration": 4,
    "start_time": "2025-08-11T21:29:06.575Z"
   },
   {
    "duration": 4,
    "start_time": "2025-08-11T21:29:07.156Z"
   },
   {
    "duration": 12,
    "start_time": "2025-08-11T21:29:08.676Z"
   },
   {
    "duration": 5,
    "start_time": "2025-08-11T21:30:36.058Z"
   },
   {
    "duration": 3,
    "start_time": "2025-08-11T21:30:36.853Z"
   },
   {
    "duration": 10841,
    "start_time": "2025-08-11T21:30:38.385Z"
   },
   {
    "duration": 5,
    "start_time": "2025-08-11T21:44:13.540Z"
   },
   {
    "duration": 3,
    "start_time": "2025-08-11T21:44:14.411Z"
   },
   {
    "duration": 11317,
    "start_time": "2025-08-11T21:44:16.100Z"
   },
   {
    "duration": 6,
    "start_time": "2025-08-11T21:45:54.210Z"
   },
   {
    "duration": 3,
    "start_time": "2025-08-11T21:45:54.590Z"
   },
   {
    "duration": 20684,
    "start_time": "2025-08-11T21:45:55.529Z"
   },
   {
    "duration": 25,
    "start_time": "2025-08-11T21:46:16.214Z"
   },
   {
    "duration": 7,
    "start_time": "2025-08-11T21:50:21.888Z"
   },
   {
    "duration": 3,
    "start_time": "2025-08-11T21:50:22.398Z"
   },
   {
    "duration": 187,
    "start_time": "2025-08-11T21:50:23.783Z"
   },
   {
    "duration": 7,
    "start_time": "2025-08-11T21:51:22.731Z"
   },
   {
    "duration": 3,
    "start_time": "2025-08-11T21:51:23.400Z"
   },
   {
    "duration": 6,
    "start_time": "2025-08-11T21:52:07.418Z"
   },
   {
    "duration": 49,
    "start_time": "2025-08-11T21:52:07.426Z"
   },
   {
    "duration": 31044,
    "start_time": "2025-08-11T21:52:07.478Z"
   },
   {
    "duration": 24,
    "start_time": "2025-08-11T21:52:38.524Z"
   },
   {
    "duration": 7,
    "start_time": "2025-08-11T21:55:11.359Z"
   },
   {
    "duration": 3,
    "start_time": "2025-08-11T21:55:11.676Z"
   },
   {
    "duration": 34922,
    "start_time": "2025-08-11T21:55:12.736Z"
   },
   {
    "duration": 22,
    "start_time": "2025-08-11T21:55:47.659Z"
   },
   {
    "duration": 12,
    "start_time": "2025-08-11T21:56:17.608Z"
   },
   {
    "duration": 12,
    "start_time": "2025-08-11T21:56:27.286Z"
   },
   {
    "duration": 10,
    "start_time": "2025-08-11T21:56:31.995Z"
   },
   {
    "duration": 1440,
    "start_time": "2025-08-11T22:21:53.369Z"
   },
   {
    "duration": 40,
    "start_time": "2025-08-11T22:21:54.811Z"
   },
   {
    "duration": 11,
    "start_time": "2025-08-11T22:21:54.852Z"
   },
   {
    "duration": 10,
    "start_time": "2025-08-11T22:21:54.865Z"
   },
   {
    "duration": 15,
    "start_time": "2025-08-11T22:21:54.877Z"
   },
   {
    "duration": 343,
    "start_time": "2025-08-11T22:21:54.894Z"
   },
   {
    "duration": 8,
    "start_time": "2025-08-11T22:21:55.238Z"
   },
   {
    "duration": 156,
    "start_time": "2025-08-11T22:21:55.248Z"
   },
   {
    "duration": 221,
    "start_time": "2025-08-11T22:21:55.405Z"
   },
   {
    "duration": 12,
    "start_time": "2025-08-11T22:21:55.628Z"
   },
   {
    "duration": 160,
    "start_time": "2025-08-11T22:21:55.641Z"
   },
   {
    "duration": 144,
    "start_time": "2025-08-11T22:21:55.802Z"
   },
   {
    "duration": 23,
    "start_time": "2025-08-11T22:21:55.948Z"
   },
   {
    "duration": 191,
    "start_time": "2025-08-11T22:21:55.973Z"
   },
   {
    "duration": 174,
    "start_time": "2025-08-11T22:21:56.166Z"
   },
   {
    "duration": 22,
    "start_time": "2025-08-11T22:21:56.342Z"
   },
   {
    "duration": 190,
    "start_time": "2025-08-11T22:21:56.366Z"
   },
   {
    "duration": 169,
    "start_time": "2025-08-11T22:21:56.557Z"
   },
   {
    "duration": 189,
    "start_time": "2025-08-11T22:21:56.727Z"
   },
   {
    "duration": 12,
    "start_time": "2025-08-11T22:21:56.918Z"
   },
   {
    "duration": 390,
    "start_time": "2025-08-11T22:21:56.931Z"
   },
   {
    "duration": 318,
    "start_time": "2025-08-11T22:21:57.323Z"
   },
   {
    "duration": 191,
    "start_time": "2025-08-11T22:21:57.642Z"
   },
   {
    "duration": 316,
    "start_time": "2025-08-11T22:21:57.835Z"
   },
   {
    "duration": 201,
    "start_time": "2025-08-11T22:21:58.153Z"
   },
   {
    "duration": 203,
    "start_time": "2025-08-11T22:21:58.355Z"
   },
   {
    "duration": 194,
    "start_time": "2025-08-11T22:21:58.561Z"
   },
   {
    "duration": 295,
    "start_time": "2025-08-11T22:21:58.760Z"
   },
   {
    "duration": 21,
    "start_time": "2025-08-11T22:21:59.060Z"
   },
   {
    "duration": 52,
    "start_time": "2025-08-11T22:21:59.082Z"
   },
   {
    "duration": 26,
    "start_time": "2025-08-11T22:21:59.136Z"
   },
   {
    "duration": 23,
    "start_time": "2025-08-11T22:21:59.164Z"
   },
   {
    "duration": 34279,
    "start_time": "2025-08-11T22:21:59.188Z"
   },
   {
    "duration": 21,
    "start_time": "2025-08-11T22:22:33.470Z"
   },
   {
    "duration": 36,
    "start_time": "2025-08-11T22:22:33.493Z"
   },
   {
    "duration": 4,
    "start_time": "2025-08-11T22:31:35.610Z"
   },
   {
    "duration": 271,
    "start_time": "2025-08-11T23:00:31.985Z"
   },
   {
    "duration": 193,
    "start_time": "2025-08-11T23:00:45.643Z"
   },
   {
    "duration": 183,
    "start_time": "2025-08-11T23:10:59.873Z"
   },
   {
    "duration": 1770,
    "start_time": "2025-08-12T21:41:01.369Z"
   },
   {
    "duration": 43,
    "start_time": "2025-08-12T21:41:03.142Z"
   },
   {
    "duration": 34,
    "start_time": "2025-08-12T21:41:03.187Z"
   },
   {
    "duration": 10,
    "start_time": "2025-08-12T21:41:03.222Z"
   },
   {
    "duration": 4,
    "start_time": "2025-08-12T21:41:03.234Z"
   },
   {
    "duration": 24,
    "start_time": "2025-08-12T21:41:03.240Z"
   },
   {
    "duration": 405,
    "start_time": "2025-08-12T21:41:03.266Z"
   },
   {
    "duration": 8,
    "start_time": "2025-08-12T21:41:03.673Z"
   },
   {
    "duration": 167,
    "start_time": "2025-08-12T21:41:03.683Z"
   },
   {
    "duration": 234,
    "start_time": "2025-08-12T21:41:03.852Z"
   },
   {
    "duration": 12,
    "start_time": "2025-08-12T21:41:04.088Z"
   },
   {
    "duration": 181,
    "start_time": "2025-08-12T21:41:04.101Z"
   },
   {
    "duration": 153,
    "start_time": "2025-08-12T21:41:04.284Z"
   },
   {
    "duration": 13,
    "start_time": "2025-08-12T21:41:04.440Z"
   },
   {
    "duration": 233,
    "start_time": "2025-08-12T21:41:04.454Z"
   },
   {
    "duration": 180,
    "start_time": "2025-08-12T21:41:04.689Z"
   },
   {
    "duration": 14,
    "start_time": "2025-08-12T21:41:04.872Z"
   },
   {
    "duration": 216,
    "start_time": "2025-08-12T21:41:04.888Z"
   },
   {
    "duration": 168,
    "start_time": "2025-08-12T21:41:05.106Z"
   },
   {
    "duration": 175,
    "start_time": "2025-08-12T21:41:05.276Z"
   },
   {
    "duration": 18,
    "start_time": "2025-08-12T21:41:05.453Z"
   },
   {
    "duration": 271,
    "start_time": "2025-08-12T21:41:05.473Z"
   },
   {
    "duration": 295,
    "start_time": "2025-08-12T21:41:05.746Z"
   },
   {
    "duration": 199,
    "start_time": "2025-08-12T21:41:06.043Z"
   },
   {
    "duration": 332,
    "start_time": "2025-08-12T21:41:06.244Z"
   },
   {
    "duration": 204,
    "start_time": "2025-08-12T21:41:06.577Z"
   },
   {
    "duration": 208,
    "start_time": "2025-08-12T21:41:06.783Z"
   },
   {
    "duration": 214,
    "start_time": "2025-08-12T21:41:06.993Z"
   },
   {
    "duration": 202,
    "start_time": "2025-08-12T21:41:07.209Z"
   },
   {
    "duration": 209,
    "start_time": "2025-08-12T21:41:07.413Z"
   },
   {
    "duration": 30,
    "start_time": "2025-08-12T21:41:07.623Z"
   },
   {
    "duration": 7,
    "start_time": "2025-08-12T21:41:07.654Z"
   },
   {
    "duration": 30,
    "start_time": "2025-08-12T21:41:07.662Z"
   },
   {
    "duration": 33,
    "start_time": "2025-08-12T21:41:07.693Z"
   },
   {
    "duration": 30239,
    "start_time": "2025-08-12T21:41:07.728Z"
   },
   {
    "duration": 20,
    "start_time": "2025-08-12T21:41:37.968Z"
   },
   {
    "duration": 23,
    "start_time": "2025-08-12T21:41:37.990Z"
   },
   {
    "duration": 22,
    "start_time": "2025-08-12T21:41:38.015Z"
   },
   {
    "duration": 129,
    "start_time": "2025-08-12T22:00:15.547Z"
   },
   {
    "duration": 14,
    "start_time": "2025-08-12T22:00:39.135Z"
   },
   {
    "duration": 17,
    "start_time": "2025-08-12T22:01:09.015Z"
   },
   {
    "duration": 7,
    "start_time": "2025-08-12T22:01:27.395Z"
   },
   {
    "duration": 7,
    "start_time": "2025-08-12T22:01:40.164Z"
   },
   {
    "duration": 5,
    "start_time": "2025-08-12T22:01:51.115Z"
   },
   {
    "duration": 4,
    "start_time": "2025-08-12T22:01:56.015Z"
   },
   {
    "duration": 8,
    "start_time": "2025-08-12T22:02:02.947Z"
   },
   {
    "duration": 7,
    "start_time": "2025-08-12T22:02:18.835Z"
   },
   {
    "duration": 4,
    "start_time": "2025-08-12T22:02:30.305Z"
   },
   {
    "duration": 6,
    "start_time": "2025-08-12T22:02:55.766Z"
   },
   {
    "duration": 7,
    "start_time": "2025-08-12T22:05:07.073Z"
   },
   {
    "duration": 1395,
    "start_time": "2025-08-12T22:29:28.899Z"
   },
   {
    "duration": 39,
    "start_time": "2025-08-12T22:29:30.296Z"
   },
   {
    "duration": 11,
    "start_time": "2025-08-12T22:29:30.336Z"
   },
   {
    "duration": 32,
    "start_time": "2025-08-12T22:29:30.348Z"
   },
   {
    "duration": 13,
    "start_time": "2025-08-12T22:29:30.382Z"
   },
   {
    "duration": 34,
    "start_time": "2025-08-12T22:29:30.396Z"
   },
   {
    "duration": 300,
    "start_time": "2025-08-12T22:29:30.431Z"
   },
   {
    "duration": 8,
    "start_time": "2025-08-12T22:29:30.738Z"
   },
   {
    "duration": 144,
    "start_time": "2025-08-12T22:29:30.748Z"
   },
   {
    "duration": 246,
    "start_time": "2025-08-12T22:29:30.895Z"
   },
   {
    "duration": 12,
    "start_time": "2025-08-12T22:29:31.142Z"
   },
   {
    "duration": 158,
    "start_time": "2025-08-12T22:29:31.155Z"
   },
   {
    "duration": 145,
    "start_time": "2025-08-12T22:29:31.314Z"
   },
   {
    "duration": 11,
    "start_time": "2025-08-12T22:29:31.462Z"
   },
   {
    "duration": 185,
    "start_time": "2025-08-12T22:29:31.474Z"
   },
   {
    "duration": 178,
    "start_time": "2025-08-12T22:29:31.661Z"
   },
   {
    "duration": 12,
    "start_time": "2025-08-12T22:29:31.841Z"
   },
   {
    "duration": 184,
    "start_time": "2025-08-12T22:29:31.855Z"
   },
   {
    "duration": 152,
    "start_time": "2025-08-12T22:29:32.040Z"
   },
   {
    "duration": 169,
    "start_time": "2025-08-12T22:29:32.193Z"
   },
   {
    "duration": 12,
    "start_time": "2025-08-12T22:29:32.364Z"
   },
   {
    "duration": 234,
    "start_time": "2025-08-12T22:29:32.378Z"
   },
   {
    "duration": 309,
    "start_time": "2025-08-12T22:29:32.614Z"
   },
   {
    "duration": 190,
    "start_time": "2025-08-12T22:29:32.925Z"
   },
   {
    "duration": 315,
    "start_time": "2025-08-12T22:29:33.117Z"
   },
   {
    "duration": 217,
    "start_time": "2025-08-12T22:29:33.439Z"
   },
   {
    "duration": 190,
    "start_time": "2025-08-12T22:29:33.658Z"
   },
   {
    "duration": 198,
    "start_time": "2025-08-12T22:29:33.850Z"
   },
   {
    "duration": 197,
    "start_time": "2025-08-12T22:29:34.050Z"
   },
   {
    "duration": 193,
    "start_time": "2025-08-12T22:29:34.249Z"
   },
   {
    "duration": 20,
    "start_time": "2025-08-12T22:29:34.444Z"
   },
   {
    "duration": 14,
    "start_time": "2025-08-12T22:29:34.466Z"
   },
   {
    "duration": 8,
    "start_time": "2025-08-12T22:29:34.481Z"
   },
   {
    "duration": 8,
    "start_time": "2025-08-12T22:29:34.491Z"
   },
   {
    "duration": 28703,
    "start_time": "2025-08-12T22:29:34.500Z"
   },
   {
    "duration": 21,
    "start_time": "2025-08-12T22:30:03.204Z"
   },
   {
    "duration": 48,
    "start_time": "2025-08-12T22:30:03.226Z"
   },
   {
    "duration": 47,
    "start_time": "2025-08-12T22:30:03.276Z"
   },
   {
    "duration": 13,
    "start_time": "2025-08-12T22:30:03.324Z"
   },
   {
    "duration": 1888,
    "start_time": "2025-08-13T17:05:49.961Z"
   },
   {
    "duration": 44,
    "start_time": "2025-08-13T17:05:51.852Z"
   },
   {
    "duration": 13,
    "start_time": "2025-08-13T17:05:51.898Z"
   },
   {
    "duration": 13,
    "start_time": "2025-08-13T17:05:51.914Z"
   },
   {
    "duration": 4,
    "start_time": "2025-08-13T17:05:51.930Z"
   },
   {
    "duration": 44,
    "start_time": "2025-08-13T17:05:51.935Z"
   },
   {
    "duration": 437,
    "start_time": "2025-08-13T17:05:51.981Z"
   },
   {
    "duration": 8,
    "start_time": "2025-08-13T17:05:52.420Z"
   },
   {
    "duration": 216,
    "start_time": "2025-08-13T17:05:52.430Z"
   },
   {
    "duration": 248,
    "start_time": "2025-08-13T17:05:52.648Z"
   },
   {
    "duration": 12,
    "start_time": "2025-08-13T17:05:52.897Z"
   },
   {
    "duration": 175,
    "start_time": "2025-08-13T17:05:52.911Z"
   },
   {
    "duration": 166,
    "start_time": "2025-08-13T17:05:53.088Z"
   },
   {
    "duration": 22,
    "start_time": "2025-08-13T17:05:53.257Z"
   },
   {
    "duration": 231,
    "start_time": "2025-08-13T17:05:53.281Z"
   },
   {
    "duration": 193,
    "start_time": "2025-08-13T17:05:53.514Z"
   },
   {
    "duration": 15,
    "start_time": "2025-08-13T17:05:53.708Z"
   },
   {
    "duration": 205,
    "start_time": "2025-08-13T17:05:53.725Z"
   },
   {
    "duration": 177,
    "start_time": "2025-08-13T17:05:53.932Z"
   },
   {
    "duration": 179,
    "start_time": "2025-08-13T17:05:54.111Z"
   },
   {
    "duration": 13,
    "start_time": "2025-08-13T17:05:54.292Z"
   },
   {
    "duration": 362,
    "start_time": "2025-08-13T17:05:54.307Z"
   },
   {
    "duration": 318,
    "start_time": "2025-08-13T17:05:54.676Z"
   },
   {
    "duration": 200,
    "start_time": "2025-08-13T17:05:54.996Z"
   },
   {
    "duration": 351,
    "start_time": "2025-08-13T17:05:55.198Z"
   },
   {
    "duration": 231,
    "start_time": "2025-08-13T17:05:55.550Z"
   },
   {
    "duration": 236,
    "start_time": "2025-08-13T17:05:55.783Z"
   },
   {
    "duration": 215,
    "start_time": "2025-08-13T17:05:56.021Z"
   },
   {
    "duration": 205,
    "start_time": "2025-08-13T17:05:56.238Z"
   },
   {
    "duration": 208,
    "start_time": "2025-08-13T17:05:56.445Z"
   },
   {
    "duration": 30,
    "start_time": "2025-08-13T17:05:56.655Z"
   },
   {
    "duration": 5,
    "start_time": "2025-08-13T17:05:56.686Z"
   },
   {
    "duration": 11,
    "start_time": "2025-08-13T17:05:56.693Z"
   },
   {
    "duration": 14,
    "start_time": "2025-08-13T17:05:56.705Z"
   },
   {
    "duration": 31220,
    "start_time": "2025-08-13T17:05:56.720Z"
   },
   {
    "duration": 22,
    "start_time": "2025-08-13T17:06:27.942Z"
   },
   {
    "duration": 36,
    "start_time": "2025-08-13T17:06:27.966Z"
   },
   {
    "duration": 117,
    "start_time": "2025-08-13T17:06:28.003Z"
   },
   {
    "duration": 7,
    "start_time": "2025-08-13T17:09:40.768Z"
   },
   {
    "duration": 6692,
    "start_time": "2025-08-13T17:16:00.886Z"
   },
   {
    "duration": 1378,
    "start_time": "2025-08-13T17:16:07.580Z"
   },
   {
    "duration": 40,
    "start_time": "2025-08-13T17:16:08.960Z"
   },
   {
    "duration": 11,
    "start_time": "2025-08-13T17:16:09.002Z"
   },
   {
    "duration": 10,
    "start_time": "2025-08-13T17:16:09.015Z"
   },
   {
    "duration": 5,
    "start_time": "2025-08-13T17:16:09.027Z"
   },
   {
    "duration": 18,
    "start_time": "2025-08-13T17:16:09.033Z"
   },
   {
    "duration": 329,
    "start_time": "2025-08-13T17:16:09.053Z"
   },
   {
    "duration": 8,
    "start_time": "2025-08-13T17:16:09.384Z"
   },
   {
    "duration": 159,
    "start_time": "2025-08-13T17:16:09.393Z"
   },
   {
    "duration": 156,
    "start_time": "2025-08-13T17:16:09.553Z"
   },
   {
    "duration": 13,
    "start_time": "2025-08-13T17:16:09.710Z"
   },
   {
    "duration": 179,
    "start_time": "2025-08-13T17:16:09.725Z"
   },
   {
    "duration": 254,
    "start_time": "2025-08-13T17:16:09.907Z"
   },
   {
    "duration": 21,
    "start_time": "2025-08-13T17:16:10.163Z"
   },
   {
    "duration": 218,
    "start_time": "2025-08-13T17:16:10.185Z"
   },
   {
    "duration": 193,
    "start_time": "2025-08-13T17:16:10.405Z"
   },
   {
    "duration": 14,
    "start_time": "2025-08-13T17:16:10.599Z"
   },
   {
    "duration": 201,
    "start_time": "2025-08-13T17:16:10.614Z"
   },
   {
    "duration": 185,
    "start_time": "2025-08-13T17:16:10.817Z"
   },
   {
    "duration": 182,
    "start_time": "2025-08-13T17:16:11.004Z"
   },
   {
    "duration": 13,
    "start_time": "2025-08-13T17:16:11.188Z"
   },
   {
    "duration": 257,
    "start_time": "2025-08-13T17:16:11.203Z"
   },
   {
    "duration": 337,
    "start_time": "2025-08-13T17:16:11.462Z"
   },
   {
    "duration": 215,
    "start_time": "2025-08-13T17:16:11.801Z"
   },
   {
    "duration": 265,
    "start_time": "2025-08-13T17:16:12.019Z"
   },
   {
    "duration": 215,
    "start_time": "2025-08-13T17:16:12.286Z"
   },
   {
    "duration": 316,
    "start_time": "2025-08-13T17:16:12.503Z"
   },
   {
    "duration": 225,
    "start_time": "2025-08-13T17:16:12.821Z"
   },
   {
    "duration": 212,
    "start_time": "2025-08-13T17:16:13.048Z"
   },
   {
    "duration": 214,
    "start_time": "2025-08-13T17:16:13.262Z"
   },
   {
    "duration": 21,
    "start_time": "2025-08-13T17:16:13.478Z"
   },
   {
    "duration": 78,
    "start_time": "2025-08-13T17:16:13.501Z"
   },
   {
    "duration": 10,
    "start_time": "2025-08-13T17:16:13.582Z"
   },
   {
    "duration": 4,
    "start_time": "2025-08-13T17:16:13.594Z"
   },
   {
    "duration": 33065,
    "start_time": "2025-08-13T17:16:13.600Z"
   },
   {
    "duration": 25,
    "start_time": "2025-08-13T17:16:46.666Z"
   },
   {
    "duration": 3764,
    "start_time": "2025-08-13T17:16:46.692Z"
   },
   {
    "duration": 0,
    "start_time": "2025-08-13T17:16:50.458Z"
   },
   {
    "duration": 15,
    "start_time": "2025-08-13T17:17:20.436Z"
   },
   {
    "duration": 6,
    "start_time": "2025-08-13T17:17:26.135Z"
   },
   {
    "duration": 2514,
    "start_time": "2025-08-13T17:41:55.592Z"
   },
   {
    "duration": 1327,
    "start_time": "2025-08-13T17:41:58.109Z"
   },
   {
    "duration": 40,
    "start_time": "2025-08-13T17:41:59.437Z"
   },
   {
    "duration": 10,
    "start_time": "2025-08-13T17:41:59.479Z"
   },
   {
    "duration": 17,
    "start_time": "2025-08-13T17:41:59.491Z"
   },
   {
    "duration": 4,
    "start_time": "2025-08-13T17:41:59.510Z"
   },
   {
    "duration": 21,
    "start_time": "2025-08-13T17:41:59.515Z"
   },
   {
    "duration": 341,
    "start_time": "2025-08-13T17:41:59.538Z"
   },
   {
    "duration": 9,
    "start_time": "2025-08-13T17:41:59.880Z"
   },
   {
    "duration": 157,
    "start_time": "2025-08-13T17:41:59.891Z"
   },
   {
    "duration": 160,
    "start_time": "2025-08-13T17:42:00.050Z"
   },
   {
    "duration": 13,
    "start_time": "2025-08-13T17:42:00.212Z"
   },
   {
    "duration": 187,
    "start_time": "2025-08-13T17:42:00.226Z"
   },
   {
    "duration": 245,
    "start_time": "2025-08-13T17:42:00.415Z"
   },
   {
    "duration": 16,
    "start_time": "2025-08-13T17:42:00.662Z"
   },
   {
    "duration": 223,
    "start_time": "2025-08-13T17:42:00.680Z"
   },
   {
    "duration": 186,
    "start_time": "2025-08-13T17:42:00.905Z"
   },
   {
    "duration": 14,
    "start_time": "2025-08-13T17:42:01.093Z"
   },
   {
    "duration": 203,
    "start_time": "2025-08-13T17:42:01.109Z"
   },
   {
    "duration": 188,
    "start_time": "2025-08-13T17:42:01.313Z"
   },
   {
    "duration": 212,
    "start_time": "2025-08-13T17:42:01.503Z"
   },
   {
    "duration": 14,
    "start_time": "2025-08-13T17:42:01.717Z"
   },
   {
    "duration": 325,
    "start_time": "2025-08-13T17:42:01.733Z"
   },
   {
    "duration": 328,
    "start_time": "2025-08-13T17:42:02.060Z"
   },
   {
    "duration": 208,
    "start_time": "2025-08-13T17:42:02.390Z"
   },
   {
    "duration": 251,
    "start_time": "2025-08-13T17:42:02.600Z"
   },
   {
    "duration": 252,
    "start_time": "2025-08-13T17:42:02.853Z"
   },
   {
    "duration": 322,
    "start_time": "2025-08-13T17:42:03.109Z"
   },
   {
    "duration": 239,
    "start_time": "2025-08-13T17:42:03.432Z"
   },
   {
    "duration": 216,
    "start_time": "2025-08-13T17:42:03.675Z"
   },
   {
    "duration": 207,
    "start_time": "2025-08-13T17:42:03.893Z"
   },
   {
    "duration": 21,
    "start_time": "2025-08-13T17:42:04.102Z"
   },
   {
    "duration": 6,
    "start_time": "2025-08-13T17:42:04.125Z"
   },
   {
    "duration": 28,
    "start_time": "2025-08-13T17:42:04.132Z"
   },
   {
    "duration": 24,
    "start_time": "2025-08-13T17:42:04.162Z"
   },
   {
    "duration": 30636,
    "start_time": "2025-08-13T17:42:04.187Z"
   },
   {
    "duration": 21,
    "start_time": "2025-08-13T17:42:34.824Z"
   },
   {
    "duration": 40,
    "start_time": "2025-08-13T17:42:34.846Z"
   },
   {
    "duration": 7,
    "start_time": "2025-08-13T17:42:34.888Z"
   },
   {
    "duration": 6575,
    "start_time": "2025-08-13T20:01:28.028Z"
   },
   {
    "duration": 1590,
    "start_time": "2025-08-13T20:01:34.606Z"
   },
   {
    "duration": 39,
    "start_time": "2025-08-13T20:01:36.198Z"
   },
   {
    "duration": 82,
    "start_time": "2025-08-13T20:01:36.238Z"
   },
   {
    "duration": 26,
    "start_time": "2025-08-13T20:01:36.322Z"
   },
   {
    "duration": 5,
    "start_time": "2025-08-13T20:01:36.349Z"
   },
   {
    "duration": 19,
    "start_time": "2025-08-13T20:01:36.356Z"
   },
   {
    "duration": 337,
    "start_time": "2025-08-13T20:01:36.377Z"
   },
   {
    "duration": 8,
    "start_time": "2025-08-13T20:01:36.716Z"
   },
   {
    "duration": 198,
    "start_time": "2025-08-13T20:01:36.726Z"
   },
   {
    "duration": 149,
    "start_time": "2025-08-13T20:01:36.926Z"
   },
   {
    "duration": 22,
    "start_time": "2025-08-13T20:01:37.077Z"
   },
   {
    "duration": 157,
    "start_time": "2025-08-13T20:01:37.100Z"
   },
   {
    "duration": 219,
    "start_time": "2025-08-13T20:01:37.260Z"
   },
   {
    "duration": 12,
    "start_time": "2025-08-13T20:01:37.489Z"
   },
   {
    "duration": 182,
    "start_time": "2025-08-13T20:01:37.502Z"
   },
   {
    "duration": 178,
    "start_time": "2025-08-13T20:01:37.686Z"
   },
   {
    "duration": 13,
    "start_time": "2025-08-13T20:01:37.865Z"
   },
   {
    "duration": 200,
    "start_time": "2025-08-13T20:01:37.879Z"
   },
   {
    "duration": 165,
    "start_time": "2025-08-13T20:01:38.081Z"
   },
   {
    "duration": 172,
    "start_time": "2025-08-13T20:01:38.248Z"
   },
   {
    "duration": 12,
    "start_time": "2025-08-13T20:01:38.422Z"
   },
   {
    "duration": 411,
    "start_time": "2025-08-13T20:01:38.435Z"
   },
   {
    "duration": 306,
    "start_time": "2025-08-13T20:01:38.847Z"
   },
   {
    "duration": 190,
    "start_time": "2025-08-13T20:01:39.154Z"
   },
   {
    "duration": 221,
    "start_time": "2025-08-13T20:01:39.345Z"
   },
   {
    "duration": 210,
    "start_time": "2025-08-13T20:01:39.568Z"
   },
   {
    "duration": 288,
    "start_time": "2025-08-13T20:01:39.780Z"
   },
   {
    "duration": 205,
    "start_time": "2025-08-13T20:01:40.069Z"
   },
   {
    "duration": 189,
    "start_time": "2025-08-13T20:01:40.276Z"
   },
   {
    "duration": 189,
    "start_time": "2025-08-13T20:01:40.467Z"
   },
   {
    "duration": 60,
    "start_time": "2025-08-13T20:01:40.658Z"
   },
   {
    "duration": 61,
    "start_time": "2025-08-13T20:01:40.720Z"
   },
   {
    "duration": 6,
    "start_time": "2025-08-13T20:01:40.783Z"
   },
   {
    "duration": 9,
    "start_time": "2025-08-13T20:01:40.790Z"
   },
   {
    "duration": 92083,
    "start_time": "2025-08-13T20:01:40.800Z"
   },
   {
    "duration": 21,
    "start_time": "2025-08-13T20:03:12.885Z"
   },
   {
    "duration": 240,
    "start_time": "2025-08-13T20:03:12.908Z"
   },
   {
    "duration": 0,
    "start_time": "2025-08-13T20:03:13.149Z"
   },
   {
    "duration": 129,
    "start_time": "2025-08-13T20:03:46.939Z"
   },
   {
    "duration": 18,
    "start_time": "2025-08-13T20:03:54.769Z"
   },
   {
    "duration": 6,
    "start_time": "2025-08-13T20:03:58.668Z"
   },
   {
    "duration": 2294,
    "start_time": "2025-08-13T20:19:54.822Z"
   },
   {
    "duration": 1258,
    "start_time": "2025-08-13T20:19:57.119Z"
   },
   {
    "duration": 39,
    "start_time": "2025-08-13T20:19:58.378Z"
   },
   {
    "duration": 9,
    "start_time": "2025-08-13T20:19:58.419Z"
   },
   {
    "duration": 23,
    "start_time": "2025-08-13T20:19:58.430Z"
   },
   {
    "duration": 3,
    "start_time": "2025-08-13T20:19:58.455Z"
   },
   {
    "duration": 13,
    "start_time": "2025-08-13T20:19:58.459Z"
   },
   {
    "duration": 317,
    "start_time": "2025-08-13T20:19:58.474Z"
   },
   {
    "duration": 8,
    "start_time": "2025-08-13T20:19:58.793Z"
   },
   {
    "duration": 142,
    "start_time": "2025-08-13T20:19:58.803Z"
   },
   {
    "duration": 148,
    "start_time": "2025-08-13T20:19:58.947Z"
   },
   {
    "duration": 12,
    "start_time": "2025-08-13T20:19:59.097Z"
   },
   {
    "duration": 183,
    "start_time": "2025-08-13T20:19:59.110Z"
   },
   {
    "duration": 240,
    "start_time": "2025-08-13T20:19:59.296Z"
   },
   {
    "duration": 12,
    "start_time": "2025-08-13T20:19:59.537Z"
   },
   {
    "duration": 191,
    "start_time": "2025-08-13T20:19:59.550Z"
   },
   {
    "duration": 173,
    "start_time": "2025-08-13T20:19:59.743Z"
   },
   {
    "duration": 12,
    "start_time": "2025-08-13T20:19:59.918Z"
   },
   {
    "duration": 191,
    "start_time": "2025-08-13T20:19:59.931Z"
   },
   {
    "duration": 167,
    "start_time": "2025-08-13T20:20:00.124Z"
   },
   {
    "duration": 165,
    "start_time": "2025-08-13T20:20:00.293Z"
   },
   {
    "duration": 12,
    "start_time": "2025-08-13T20:20:00.460Z"
   },
   {
    "duration": 355,
    "start_time": "2025-08-13T20:20:00.473Z"
   },
   {
    "duration": 266,
    "start_time": "2025-08-13T20:20:00.830Z"
   },
   {
    "duration": 185,
    "start_time": "2025-08-13T20:20:01.098Z"
   },
   {
    "duration": 214,
    "start_time": "2025-08-13T20:20:01.285Z"
   },
   {
    "duration": 209,
    "start_time": "2025-08-13T20:20:01.501Z"
   },
   {
    "duration": 294,
    "start_time": "2025-08-13T20:20:01.712Z"
   },
   {
    "duration": 204,
    "start_time": "2025-08-13T20:20:02.008Z"
   },
   {
    "duration": 197,
    "start_time": "2025-08-13T20:20:02.213Z"
   },
   {
    "duration": 188,
    "start_time": "2025-08-13T20:20:02.412Z"
   },
   {
    "duration": 49,
    "start_time": "2025-08-13T20:20:02.602Z"
   },
   {
    "duration": 154,
    "start_time": "2025-08-13T20:20:02.653Z"
   },
   {
    "duration": 75,
    "start_time": "2025-08-13T20:20:02.809Z"
   },
   {
    "duration": 28,
    "start_time": "2025-08-13T20:20:02.885Z"
   },
   {
    "duration": 92525,
    "start_time": "2025-08-13T20:20:02.914Z"
   },
   {
    "duration": 22,
    "start_time": "2025-08-13T20:21:35.441Z"
   },
   {
    "duration": 26,
    "start_time": "2025-08-13T20:21:35.464Z"
   },
   {
    "duration": 6,
    "start_time": "2025-08-13T20:21:35.492Z"
   },
   {
    "duration": 6,
    "start_time": "2025-08-13T20:31:49.519Z"
   },
   {
    "duration": 4,
    "start_time": "2025-08-13T20:32:05.592Z"
   },
   {
    "duration": 2355,
    "start_time": "2025-08-13T20:32:14.809Z"
   },
   {
    "duration": 1330,
    "start_time": "2025-08-13T20:32:17.166Z"
   },
   {
    "duration": 39,
    "start_time": "2025-08-13T20:32:18.498Z"
   },
   {
    "duration": 10,
    "start_time": "2025-08-13T20:32:18.539Z"
   },
   {
    "duration": 9,
    "start_time": "2025-08-13T20:32:18.551Z"
   },
   {
    "duration": 4,
    "start_time": "2025-08-13T20:32:18.561Z"
   },
   {
    "duration": 30,
    "start_time": "2025-08-13T20:32:18.566Z"
   },
   {
    "duration": 291,
    "start_time": "2025-08-13T20:32:18.598Z"
   },
   {
    "duration": 8,
    "start_time": "2025-08-13T20:32:18.891Z"
   },
   {
    "duration": 146,
    "start_time": "2025-08-13T20:32:18.901Z"
   },
   {
    "duration": 151,
    "start_time": "2025-08-13T20:32:19.048Z"
   },
   {
    "duration": 12,
    "start_time": "2025-08-13T20:32:19.200Z"
   },
   {
    "duration": 163,
    "start_time": "2025-08-13T20:32:19.213Z"
   },
   {
    "duration": 229,
    "start_time": "2025-08-13T20:32:19.379Z"
   },
   {
    "duration": 12,
    "start_time": "2025-08-13T20:32:19.609Z"
   },
   {
    "duration": 193,
    "start_time": "2025-08-13T20:32:19.622Z"
   },
   {
    "duration": 175,
    "start_time": "2025-08-13T20:32:19.817Z"
   },
   {
    "duration": 13,
    "start_time": "2025-08-13T20:32:19.993Z"
   },
   {
    "duration": 192,
    "start_time": "2025-08-13T20:32:20.008Z"
   },
   {
    "duration": 161,
    "start_time": "2025-08-13T20:32:20.202Z"
   },
   {
    "duration": 166,
    "start_time": "2025-08-13T20:32:20.365Z"
   },
   {
    "duration": 12,
    "start_time": "2025-08-13T20:32:20.533Z"
   },
   {
    "duration": 286,
    "start_time": "2025-08-13T20:32:20.546Z"
   },
   {
    "duration": 265,
    "start_time": "2025-08-13T20:32:20.833Z"
   },
   {
    "duration": 190,
    "start_time": "2025-08-13T20:32:21.099Z"
   },
   {
    "duration": 221,
    "start_time": "2025-08-13T20:32:21.291Z"
   },
   {
    "duration": 216,
    "start_time": "2025-08-13T20:32:21.514Z"
   },
   {
    "duration": 297,
    "start_time": "2025-08-13T20:32:21.732Z"
   },
   {
    "duration": 206,
    "start_time": "2025-08-13T20:32:22.030Z"
   },
   {
    "duration": 199,
    "start_time": "2025-08-13T20:32:22.238Z"
   },
   {
    "duration": 203,
    "start_time": "2025-08-13T20:32:22.438Z"
   },
   {
    "duration": 57,
    "start_time": "2025-08-13T20:32:22.643Z"
   },
   {
    "duration": 150,
    "start_time": "2025-08-13T20:32:22.702Z"
   },
   {
    "duration": 7,
    "start_time": "2025-08-13T20:32:22.853Z"
   },
   {
    "duration": 34,
    "start_time": "2025-08-13T20:32:22.862Z"
   },
   {
    "duration": 92126,
    "start_time": "2025-08-13T20:32:22.898Z"
   },
   {
    "duration": 21,
    "start_time": "2025-08-13T20:33:55.026Z"
   },
   {
    "duration": 26,
    "start_time": "2025-08-13T20:33:55.048Z"
   },
   {
    "duration": 15,
    "start_time": "2025-08-13T20:33:55.076Z"
   }
  ],
  "kernelspec": {
   "display_name": "Python 3 (ipykernel)",
   "language": "python",
   "name": "python3"
  },
  "language_info": {
   "codemirror_mode": {
    "name": "ipython",
    "version": 3
   },
   "file_extension": ".py",
   "mimetype": "text/x-python",
   "name": "python",
   "nbconvert_exporter": "python",
   "pygments_lexer": "ipython3",
   "version": "3.9.21"
  },
  "toc": {
   "base_numbering": 1,
   "nav_menu": {},
   "number_sections": true,
   "sideBar": true,
   "skip_h1_title": true,
   "title_cell": "Содержание",
   "title_sidebar": "Contents",
   "toc_cell": true,
   "toc_position": {
    "height": "calc(100% - 180px)",
    "left": "10px",
    "top": "150px",
    "width": "165px"
   },
   "toc_section_display": true,
   "toc_window_display": false
  }
 },
 "nbformat": 4,
 "nbformat_minor": 2
}
